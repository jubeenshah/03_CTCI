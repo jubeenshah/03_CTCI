{
 "cells": [
  {
   "cell_type": "markdown",
   "metadata": {},
   "source": [
    "# Solved Qestions\n",
    "\n",
    "This is the list of solved questions with solutions, and even other optimal solutions. This notebook would be updated as and when I solve more questions from leetcode."
   ]
  },
  {
   "cell_type": "markdown",
   "metadata": {},
   "source": [
    "## 001-Two Sum\n",
    "\n",
    "Given an array of integers, return indices of the two numbers such that they add up to a specific target.\n",
    "\n",
    "You may assume that each input would have exactly one solution, and you may not use the same element twice.\n",
    "\n",
    "    Example:\n",
    "\n",
    "    Given nums = [2, 7, 11, 15], target = 9,\n",
    "\n",
    "    Because nums[0] + nums[1] = 2 + 7 = 9,\n",
    "    return [0, 1]."
   ]
  },
  {
   "cell_type": "code",
   "execution_count": 27,
   "metadata": {},
   "outputs": [
    {
     "data": {
      "text/plain": [
       "[1, 0]"
      ]
     },
     "execution_count": 27,
     "metadata": {},
     "output_type": "execute_result"
    }
   ],
   "source": [
    "nums, target = [2, 7, 11, 15], 9\n",
    "def twoSum(nums, target):\n",
    "        \"\"\"\n",
    "        :type nums: List[int]\n",
    "        :type target: int\n",
    "        :rtype: List[int]\n",
    "        \"\"\"\n",
    "        hash_map = dict()\n",
    "        for i, x in enumerate(nums):\n",
    "            if target - x in hash_map:\n",
    "                return [i, hash_map[target - x]]\n",
    "            hash_map[x] = i\n",
    "twoSum(nums,target)"
   ]
  },
  {
   "cell_type": "markdown",
   "metadata": {},
   "source": [
    "## 007-Reversed Integer\n",
    "\n",
    "Given a 32-bit signed integer, reverse digits of an integer.\n",
    "\n",
    "Example 1:\n",
    "\n",
    "    Input: 123\n",
    "    Output: 321\n",
    "Example 2:\n",
    "\n",
    "    Input: -123\n",
    "    Output: -321\n",
    "Example 3:\n",
    "\n",
    "    Input: 120\n",
    "    Output: 21\n",
    "Note:\n",
    "Assume we are dealing with an environment which could only store integers within the 32-bit signed integer range: [−231,  231 − 1]. For the purpose of this problem, assume that your function returns 0 when the reversed integer overflows."
   ]
  },
  {
   "cell_type": "code",
   "execution_count": 3,
   "metadata": {},
   "outputs": [
    {
     "data": {
      "text/plain": [
       "84638474"
      ]
     },
     "execution_count": 3,
     "metadata": {},
     "output_type": "execute_result"
    }
   ],
   "source": [
    "x = 47483648\n",
    "def reverse(x):\n",
    "    isNegative = False\n",
    "    if x < 0:\n",
    "        isNegative = True\n",
    "        x = x * (-1)\n",
    "    num = 0    \n",
    "    while x > 0:\n",
    "        temp = x % 10\n",
    "        #print(temp)\n",
    "        num = num * 10 + (temp)        \n",
    "        x = x // 10\n",
    "    if isNegative:\n",
    "        if (-1*num) < (-2 ** 31):\n",
    "            return 0\n",
    "        return (-1 * num)\n",
    "    else:\n",
    "        if num > (2**31 - 1):\n",
    "            return 0\n",
    "        return num\n",
    "reverse(x)"
   ]
  },
  {
   "cell_type": "markdown",
   "metadata": {},
   "source": [
    "## 009-Pallindrome\n",
    "\n",
    "Determine whether an integer is a palindrome. An integer is a palindrome when it reads the same backward as forward.\n",
    "\n",
    "Example 1:\n",
    "\n",
    "    Input: 121\n",
    "    Output: true\n",
    "Example 2:\n",
    "\n",
    "    Input: -121\n",
    "    Output: false\n",
    "    Explanation: From left to right, it reads -121. From right to left, it becomes 121-. Therefore it is not a palindrome.\n",
    "Example 3:\n",
    "\n",
    "    Input: 10\n",
    "    Output: false\n",
    "    Explanation: Reads 01 from right to left. Therefore it is not a palindrome.\n",
    "Follow up:\n",
    "\n",
    "Coud you solve it without converting the integer to a string?"
   ]
  },
  {
   "cell_type": "code",
   "execution_count": 28,
   "metadata": {},
   "outputs": [
    {
     "data": {
      "text/plain": [
       "True"
      ]
     },
     "execution_count": 28,
     "metadata": {},
     "output_type": "execute_result"
    }
   ],
   "source": [
    "x = 121\n",
    "def reverse(x):\n",
    "    if x < 0:\n",
    "        return False\n",
    "    num = 0 \n",
    "    check = x\n",
    "    while x > 0:\n",
    "        temp = x % 10\n",
    "        #print(temp)\n",
    "        num = num * 10 + (temp)        \n",
    "        x = x // 10\n",
    "    else:\n",
    "        if (num==check):\n",
    "            return True\n",
    "        else:\n",
    "            return False\n",
    "    \n",
    "reverse(x)"
   ]
  },
  {
   "cell_type": "markdown",
   "metadata": {},
   "source": [
    "## 050-Pow(x,n)\n",
    "\n",
    "Implement pow(x, n), which calculates x raised to the power n (xn).\n",
    "\n",
    "    Example 1:\n",
    "\n",
    "    Input: 2.00000, 10\n",
    "    Output: 1024.00000\n",
    "    \n",
    "    Example 2:\n",
    "\n",
    "    Input: 2.10000, 3\n",
    "    Output: 9.26100\n",
    "    \n",
    "    Example 3:\n",
    "\n",
    "    Input: 2.00000, -2\n",
    "    Output: 0.25000\n",
    "    Explanation: 2-2 = 1/22 = 1/4 = 0.25\n",
    "    \n",
    "Note:\n",
    "\n",
    "    -100.0 < x < 100.0\n",
    "\n",
    "    n is a 32-bit signed integer, within the range [−2^31, 2^31 − 1]\n",
    "    \n",
    "[Exponention By Power](https://en.wikipedia.org/wiki/Exponentiation_by_squaring)"
   ]
  },
  {
   "cell_type": "code",
   "execution_count": 29,
   "metadata": {},
   "outputs": [
    {
     "name": "stdout",
     "output_type": "stream",
     "text": [
      "8^-3 = 0.001953125\n",
      "9^-8 = 2.3230573125418767e-08\n",
      "10^10 = 10000000000\n",
      "5^-8 = 2.560000000000002e-06\n",
      "5^1 = 5\n",
      "2^7 = 128\n",
      "6^-5 = 0.00012860082304526747\n",
      "6^0 = 1\n",
      "9^-5 = 1.6935087808430282e-05\n",
      "7^-8 = 1.7346652555743026e-07\n",
      "2^1 = 2\n",
      "4^7 = 16384\n",
      "10^4 = 10000\n",
      "7^0 = 1\n",
      "1^-8 = 1.0\n",
      "8^6 = 262144\n",
      "1^3 = 1\n",
      "8^2 = 64\n",
      "3^-1 = 0.3333333333333333\n",
      "6^-2 = 0.027777777777777776\n",
      "5^-4 = 0.0016000000000000007\n",
      "5^1 = 5\n",
      "1^-8 = 1.0\n",
      "6^-9 = 9.922903012752119e-08\n",
      "10^10 = 10000000000\n",
      "10^-1 = 0.1\n",
      "1^10 = 1\n",
      "9^7 = 4782969\n",
      "8^-6 = 3.814697265625e-06\n",
      "4^-1 = 0.25\n",
      "2^-10 = 0.0009765625\n",
      "1^-3 = 1.0\n",
      "4^-1 = 0.25\n",
      "7^-1 = 0.14285714285714285\n",
      "3^3 = 27\n",
      "10^0 = 1\n",
      "3^4 = 81\n",
      "5^-6 = 6.400000000000004e-05\n",
      "3^-7 = 0.00045724737082761767\n",
      "1^1 = 1\n",
      "3^3 = 27\n",
      "3^-9 = 5.080526342529085e-05\n",
      "2^10 = 1024\n",
      "3^-3 = 0.037037037037037035\n",
      "7^4 = 2401\n",
      "4^-8 = 1.52587890625e-05\n",
      "5^-5 = 0.0003200000000000002\n",
      "5^-1 = 0.2\n",
      "10^-2 = 0.010000000000000002\n",
      "4^-5 = 0.0009765625\n",
      "4^5 = 1024\n",
      "2^-10 = 0.0009765625\n",
      "4^-9 = 3.814697265625e-06\n",
      "10^-2 = 0.010000000000000002\n",
      "10^3 = 1000\n",
      "2^6 = 64\n",
      "3^-3 = 0.037037037037037035\n",
      "9^10 = 3486784401\n",
      "5^-8 = 2.560000000000002e-06\n",
      "6^-1 = 0.16666666666666666\n",
      "7^2 = 49\n",
      "4^-8 = 1.52587890625e-05\n",
      "8^-4 = 0.000244140625\n",
      "9^-8 = 2.3230573125418767e-08\n",
      "5^-7 = 1.2800000000000008e-05\n",
      "2^6 = 64\n",
      "10^-1 = 0.1\n",
      "5^9 = 1953125\n",
      "5^10 = 9765625\n",
      "3^5 = 243\n",
      "3^-3 = 0.037037037037037035\n",
      "8^4 = 4096\n",
      "6^-6 = 2.143347050754458e-05\n",
      "10^-10 = 1.0000000000000011e-10\n",
      "10^-7 = 1.0000000000000006e-07\n",
      "7^10 = 282475249\n",
      "6^9 = 10077696\n",
      "10^-7 = 1.0000000000000006e-07\n",
      "1^1 = 1\n",
      "1^9 = 1\n",
      "10^-6 = 1.0000000000000006e-06\n",
      "6^1 = 6\n",
      "3^-8 = 0.00015241579027587256\n",
      "2^6 = 64\n",
      "10^0 = 1\n",
      "10^8 = 100000000\n",
      "5^9 = 1953125\n",
      "8^10 = 1073741824\n",
      "9^2 = 81\n",
      "10^-5 = 1.0000000000000006e-05\n",
      "5^5 = 3125\n",
      "9^-10 = 2.8679719907924403e-10\n",
      "5^-7 = 1.2800000000000008e-05\n",
      "10^-6 = 1.0000000000000006e-06\n",
      "4^3 = 64\n",
      "3^6 = 729\n",
      "4^7 = 16384\n",
      "7^-10 = 3.5401331746414338e-09\n",
      "4^-2 = 0.0625\n",
      "2^-4 = 0.0625\n"
     ]
    }
   ],
   "source": [
    "import random\n",
    "def myPow(x,n): \n",
    "    if n == 0: return 1\n",
    "    if n < 0 : return myPow(1/x, -n )\n",
    "    if n == 1 : return x\n",
    "    if n % 2 == 0:\n",
    "        return myPow(x * x, n//2 )\n",
    "    else:\n",
    "        return x * myPow(x * x, (n-1)//2)\n",
    "\n",
    "for i in range(100):\n",
    "    x,n = random.randint(1,10), random.randint(-10,10)\n",
    "    res = myPow(x,n)\n",
    "    print(str(x) + \"^\" + str(n) + \" = \" + str(res))\n",
    "    "
   ]
  },
  {
   "cell_type": "markdown",
   "metadata": {},
   "source": [
    "## 054-Spiral Matrix\n",
    "\n",
    "Given a matrix of m x n elements (m rows, n columns), return all elements of the matrix in spiral order.\n",
    "\n",
    "Example 1:\n",
    "\n",
    "    Input:\n",
    "    [\n",
    "     [ 1, 2, 3 ],\n",
    "     [ 4, 5, 6 ],\n",
    "     [ 7, 8, 9 ]\n",
    "    ]\n",
    "    Output: [1,2,3,6,9,8,7,4,5]\n",
    "Example 2:\n",
    "\n",
    "    Input:\n",
    "    [\n",
    "      [1, 2, 3, 4],\n",
    "      [5, 6, 7, 8],\n",
    "      [9,10,11,12]\n",
    "    ]\n",
    "    Output: [1,2,3,4,8,12,11,10,9,5,6,7]"
   ]
  },
  {
   "cell_type": "code",
   "execution_count": 11,
   "metadata": {},
   "outputs": [],
   "source": [
    "class Solution(object):\n",
    "    def spiralOrder(self, matrix):\n",
    "        if not matrix:  return []\n",
    "        \n",
    "        firstRow = matrix.pop(0)\n",
    "        return list(firstRow) + self.spiralOrder(zip(*matrix)[::-1])"
   ]
  },
  {
   "cell_type": "markdown",
   "metadata": {},
   "source": [
    "## 066-Plus One\n",
    "\n",
    "Given a non-empty array of digits representing a non-negative integer, plus one to the integer.\n",
    "\n",
    "The digits are stored such that the most significant digit is at the head of the list, and each element in the array contain a single digit.\n",
    "\n",
    "You may assume the integer does not contain any leading zero, except the number 0 itself.\n",
    "\n",
    "Example 1:\n",
    "\n",
    "    Input: [1,2,3]\n",
    "    Output: [1,2,4]\n",
    "    Explanation: The array represents the integer 123.\n",
    "Example 2:\n",
    "\n",
    "    Input: [4,3,2,1]\n",
    "    Output: [4,3,2,2]\n",
    "    Explanation: The array represents the integer 4321."
   ]
  },
  {
   "cell_type": "code",
   "execution_count": 24,
   "metadata": {},
   "outputs": [
    {
     "name": "stdout",
     "output_type": "stream",
     "text": [
      "[1, 2, 3]\n",
      "124\n"
     ]
    },
    {
     "data": {
      "text/plain": [
       "[1, 2, 4]"
      ]
     },
     "execution_count": 24,
     "metadata": {},
     "output_type": "execute_result"
    }
   ],
   "source": [
    "import random\n",
    "Input = random.sample(range(30), 4)\n",
    "\n",
    "def plusOne(digits):\n",
    "    lenOfDigits = len(digits) - 1\n",
    "    numberToReturn = 0\n",
    "    print(digits)\n",
    "    for i in digits:\n",
    "        numberToReturn += i * 10**lenOfDigits\n",
    "        lenOfDigits -= 1\n",
    "    numberToReturn = numberToReturn + 1\n",
    "    print(numberToReturn)\n",
    "    listToReturn = list()\n",
    "    while numberToReturn>0:\n",
    "        temp = numberToReturn % 10\n",
    "        listToReturn.append(temp)\n",
    "        numberToReturn = numberToReturn // 10\n",
    "    listToReturn = list(reversed(listToReturn))\n",
    "    return listToReturn\n",
    "plusOne([1,2,3])"
   ]
  },
  {
   "cell_type": "markdown",
   "metadata": {},
   "source": [
    "# 067-Add Binary\n",
    "Given two binary strings, return their sum (also a binary string).\n",
    "\n",
    "The input strings are both non-empty and contains only characters 1 or 0.\n",
    "\n",
    "    Example 1:\n",
    "\n",
    "    Input: a = \"11\", b = \"1\"\n",
    "    Output: \"100\"\n",
    "    \n",
    "    Example 2:\n",
    "\n",
    "    Input: a = \"1010\", b = \"1011\"\n",
    "    Output: \"10101\""
   ]
  },
  {
   "cell_type": "code",
   "execution_count": 25,
   "metadata": {},
   "outputs": [
    {
     "data": {
      "text/plain": [
       "'10101'"
      ]
     },
     "execution_count": 25,
     "metadata": {},
     "output_type": "execute_result"
    }
   ],
   "source": [
    "a = \"1010\"\n",
    "b = \"1011\"\n",
    "def addBinary(a, b):\n",
    "    a = list(a)\n",
    "    b = list(b)\n",
    "\n",
    "    if len(a) > len(b):\n",
    "        while len(a) > len(b):\n",
    "            b.insert(0,\"0\")\n",
    "    elif len(a) < len(b):\n",
    "        while len(a) < len(b):\n",
    "            a.insert(0,\"0\")\n",
    "    #print(a)\n",
    "    #print()\n",
    "    #print(b)\n",
    "    \"\"\"\n",
    "    count = 0\n",
    "    intValue = 0\n",
    "    for char in reversed(a):\n",
    "        intValue += 2**count *int(char)\n",
    "        count += 1\n",
    "    print(intValue)\n",
    "    \"\"\" \n",
    "    count = 0\n",
    "    intValueA, intValueB = 0, 0\n",
    "    for i in reversed(range(len(a))):\n",
    "        intValueA += 2**count * int(a[i])\n",
    "        intValueB += 2**count * int(b[i])\n",
    "        count += 1   \n",
    "    sumOfValue = intValueA + intValueB\n",
    "    if sumOfValue == 0:\n",
    "        return \"0\"\n",
    "    string = list()\n",
    "    while sumOfValue > 0:\n",
    "        temp = sumOfValue % 2\n",
    "        sumOfValue = sumOfValue // 2\n",
    "        string.insert(0,str(temp))\n",
    "\n",
    "    stringToReturn = \"\"\n",
    "    for char in string:\n",
    "        stringToReturn += char\n",
    "\n",
    "    return stringToReturn\n",
    "    \n",
    "addBinary(a,b)"
   ]
  },
  {
   "cell_type": "markdown",
   "metadata": {},
   "source": [
    "## 118-Pascals Triangle\n",
    "Given a non-negative integer numRows, generate the first numRows of Pascal's triangle.\n",
    "\n",
    "![Pascals Triangle](./99-resource/PascalTriangleAnimated2.gif)\n",
    "\n",
    "In Pascal's triangle, each number is the sum of the two numbers directly above it\n",
    "\n",
    "Example:\n",
    "\n",
    "    Input: 5\n",
    "    Output:\n",
    "    [\n",
    "         [1],\n",
    "        [1,1],\n",
    "       [1,2,1],\n",
    "      [1,3,3,1],\n",
    "     [1,4,6,4,1]\n",
    "    ]"
   ]
  },
  {
   "cell_type": "code",
   "execution_count": 26,
   "metadata": {},
   "outputs": [
    {
     "data": {
      "text/plain": [
       "[[1],\n",
       " [1, 1],\n",
       " [1, 2, 1],\n",
       " [1, 3, 3, 1],\n",
       " [1, 4, 6, 4, 1],\n",
       " [1, 5, 10, 10, 5, 1],\n",
       " [1, 6, 15, 20, 15, 6, 1],\n",
       " [1, 7, 21, 35, 35, 21, 7, 1],\n",
       " [1, 8, 28, 56, 70, 56, 28, 8, 1],\n",
       " [1, 9, 36, 84, 126, 126, 84, 36, 9, 1],\n",
       " [1, 10, 45, 120, 210, 252, 210, 120, 45, 10, 1],\n",
       " [1, 11, 55, 165, 330, 462, 462, 330, 165, 55, 11, 1],\n",
       " [1, 12, 66, 220, 495, 792, 924, 792, 495, 220, 66, 12, 1],\n",
       " [1, 13, 78, 286, 715, 1287, 1716, 1716, 1287, 715, 286, 78, 13, 1]]"
      ]
     },
     "execution_count": 26,
     "metadata": {},
     "output_type": "execute_result"
    }
   ],
   "source": [
    "def generate(numRows):\n",
    "    if numRows == 0: return []\n",
    "    listToReturn = []\n",
    "    line = 1\n",
    "    while line <= numRows:\n",
    "        C = 1\n",
    "        i = 1\n",
    "        listInThisRow = list()\n",
    "        while i <= line:\n",
    "            listInThisRow.append(C)\n",
    "            C = C * (line - i) // i\n",
    "            i += 1\n",
    "        line += 1\n",
    "        listToReturn.append(listInThisRow)\n",
    "    return listToReturn\n",
    "generate(14) \n",
    "\n"
   ]
  },
  {
   "cell_type": "markdown",
   "metadata": {},
   "source": [
    "## 498-Diagonal Reverse\n",
    "\n",
    "Given a matrix of M x N elements (M rows, N columns), return all elements of the matrix in diagonal order as shown in the below image.\n",
    "\n",
    "    Input:\n",
    "    [\n",
    "     [ 1, 2, 3 ],\n",
    "     [ 4, 5, 6 ],\n",
    "     [ 7, 8, 9 ]\n",
    "    ]\n",
    "    Output:  [1,2,4,7,5,3,6,8,9]\n",
    "Explanation:\n",
    "\n",
    "![Diagonal Traverse](./99-resource/diagonal_traverse.png)"
   ]
  },
  {
   "cell_type": "code",
   "execution_count": 23,
   "metadata": {},
   "outputs": [
    {
     "data": {
      "text/plain": [
       "[1, 2, 4, 7, 5, 3, 6, 8, 9]"
      ]
     },
     "execution_count": 23,
     "metadata": {},
     "output_type": "execute_result"
    }
   ],
   "source": [
    "matrix = [\n",
    " [ 1, 2, 3 ],\n",
    " [ 4, 5, 6 ], \n",
    " [ 7, 8, 9 ] \n",
    "]\n",
    "def findDiagonalOrder(matrix):\n",
    "    #len(matrix) --> Rows\n",
    "    #len(matrix[0]) --> collumn\n",
    "    if not matrix or not matrix[0]:\n",
    "            return []\n",
    "    i = 0\n",
    "    j = 0\n",
    "    row = len(matrix)\n",
    "    col = len(matrix[0])\n",
    "    returnValues = []\n",
    "    signal = 0\n",
    "    while i < row and j < col:\n",
    "        returnValues.append(matrix[i][j])\n",
    "        #print(i,j)\n",
    "        if signal == 0: \n",
    "            if j == col - 1:\n",
    "                i += 1\n",
    "                signal = 1\n",
    "                continue\n",
    "            if i == 0:\n",
    "                j += 1\n",
    "                signal = 1\n",
    "                continue\n",
    "            i -= 1\n",
    "            j += 1\n",
    "        else:\n",
    "            if i == row - 1:\n",
    "                j += 1\n",
    "                signal = 0\n",
    "                continue\n",
    "            if j == 0:\n",
    "                i += 1\n",
    "                signal = 0\n",
    "                continue\n",
    "            i += 1\n",
    "            j -= 1\n",
    "            \n",
    "    return returnValues\n",
    "                \n",
    "findDiagonalOrder(matrix)"
   ]
  },
  {
   "cell_type": "markdown",
   "metadata": {},
   "source": [
    "## 686-RepeatedStringMatch\n",
    "\n",
    "Given two strings A and B, find the minimum number of times A has to be repeated such that B is a substring of it. If no such solution, return -1.\n",
    "\n",
    "For example, with A = \"abcd\" and B = \"cdabcdab\".\n",
    "\n",
    "Return 3, because by repeating A three times (“abcdabcdabcd”), B is a substring of it; and B is not a substring of A repeated two times (\"abcdabcd\").\n",
    "\n",
    "__Note:__\n",
    "\n",
    "The length of A and B will be between 1 and 10000."
   ]
  },
  {
   "cell_type": "code",
   "execution_count": 30,
   "metadata": {},
   "outputs": [
    {
     "data": {
      "text/plain": [
       "3"
      ]
     },
     "execution_count": 30,
     "metadata": {},
     "output_type": "execute_result"
    }
   ],
   "source": [
    "A = \"abcd\"\n",
    "B = \"cdabcdab\"\n",
    "def repeatedStringMatch(A,B):\n",
    "    count = 1\n",
    "    keepChecking = True\n",
    "\n",
    "    while(keepChecking):\n",
    "        A+=A\n",
    "        count+=1\n",
    "        if count > 1000:\n",
    "            keepChecking = False\n",
    "            return -1\n",
    "        if B in A:\n",
    "            return count\n",
    "        else:\n",
    "            continue\n",
    "repeatedStringMatch(A,B)      \n",
    "\n",
    "# The above code does run, however --> it fails certain test cases."
   ]
  },
  {
   "cell_type": "code",
   "execution_count": 31,
   "metadata": {},
   "outputs": [
    {
     "data": {
      "text/plain": [
       "3"
      ]
     },
     "execution_count": 31,
     "metadata": {},
     "output_type": "execute_result"
    }
   ],
   "source": [
    " def repeatedStringMatch(A, B):\n",
    "        C = \"\"\n",
    "        for i in range(len(B)//len(A) + 3): \n",
    "            if B in C:\n",
    "                return i\n",
    "            C += A\n",
    "        return -1\n",
    "repeatedStringMatch(A,B)"
   ]
  },
  {
   "cell_type": "markdown",
   "metadata": {},
   "source": [
    "## 724-FindPivotIndex\n",
    "\n",
    "Given an array of integers nums, write a method that returns the \"pivot\" index of this array.\n",
    "\n",
    "We define the pivot index as the index where the sum of the numbers to the left of the index is equal to the sum of the numbers to the right of the index.\n",
    "\n",
    "If no such index exists, we should return -1. If there are multiple pivot indexes, you should return the left-most pivot index.\n",
    "\n",
    "Example 1:\n",
    "\n",
    "    Input: \n",
    "    nums = [1, 7, 3, 6, 5, 6]\n",
    "    Output: 3\n",
    "    Explanation: \n",
    "    The sum of the numbers to the left of index 3 (nums[3] = 6) is equal to the sum of numbers to the right of index 3.\n",
    "    Also, 3 is the first index where this occurs.\n",
    "Example 2:\n",
    "\n",
    "    Input: \n",
    "    nums = [1, 2, 3]\n",
    "    Output: -1\n",
    "    Explanation: \n",
    "    There is no index that satisfies the conditions in the problem statement.\n",
    "Note:\n",
    "\n",
    "The length of nums will be in the range [0, 10000].\n",
    "Each element nums[i] will be an integer in the range [-1000, 1000]."
   ]
  },
  {
   "cell_type": "code",
   "execution_count": 32,
   "metadata": {},
   "outputs": [
    {
     "data": {
      "text/plain": [
       "3"
      ]
     },
     "execution_count": 32,
     "metadata": {},
     "output_type": "execute_result"
    }
   ],
   "source": [
    "nums =  [1, 7, 3, 6, 5, 6]\n",
    "#.       0. 1. 2. 3. 4. 5  \n",
    "#.        \n",
    "\n",
    "def findPivotIndex(nums):\n",
    "    if len(nums) == 0: return -1\n",
    "    elif len(nums) == 1: return 0\n",
    "    \n",
    "    leftSum = 0\n",
    "    totalSum = sum(nums)\n",
    "    for i in range(len(nums)):\n",
    "        if leftSum == totalSum - leftSum - nums[i]:\n",
    "            return i\n",
    "        leftSum += nums[i]\n",
    "    return -1\n",
    "findPivotIndex(nums=nums)"
   ]
  },
  {
   "cell_type": "markdown",
   "metadata": {},
   "source": [
    "## 747-Largest Number at least twice of others\n",
    "\n",
    "In a given integer array nums, there is always exactly one largest element.\n",
    "\n",
    "Find whether the largest element in the array is at least twice as much as every other number in the array.\n",
    "\n",
    "If it is, return the index of the largest element, otherwise return -1.\n",
    "\n",
    "Example 1:\n",
    "\n",
    "    Input: nums = [3, 6, 1, 0]\n",
    "    Output: 1\n",
    "    Explanation: 6 is the largest integer, and for every other number in the array x,\n",
    "    6 is more than twice as big as x.  The index of value 6 is 1, so we return 1.\n",
    " \n",
    "\n",
    "Example 2:\n",
    "\n",
    "    Input: nums = [1, 2, 3, 4]\n",
    "    Output: -1\n",
    "    Explanation: 4 isn't at least as big as twice the value of 3, so we return -1.\n",
    "\n",
    "\n",
    "Note:\n",
    "\n",
    "nums will have a length in the range [1, 50].\n",
    "Every nums[i] will be an integer in the range [0, 99]."
   ]
  },
  {
   "cell_type": "code",
   "execution_count": 34,
   "metadata": {},
   "outputs": [
    {
     "data": {
      "text/plain": [
       "3"
      ]
     },
     "execution_count": 34,
     "metadata": {},
     "output_type": "execute_result"
    }
   ],
   "source": [
    "nums = [0,0,0,2]\n",
    "def dominantIndex(nums):\n",
    "    m = max(nums)\n",
    "    if all(m >= 2*x for x in nums if x != m):\n",
    "        return nums.index(m)\n",
    "    return -1\n",
    "dominantIndex(nums)"
   ]
  },
  {
   "cell_type": "markdown",
   "metadata": {},
   "source": [
    "# 028-Implement strStr().\n",
    "\n",
    "Return the index of the first occurrence of needle in haystack, or -1 if needle is not part of haystack.\n",
    "\n",
    "    Example 1:\n",
    "\n",
    "    Input: haystack = \"hello\", needle = \"ll\"\n",
    "    Output: 2\n",
    "    \n",
    "    Example 2:\n",
    "\n",
    "    Input: haystack = \"aaaaa\", needle = \"bba\"\n",
    "    Output: -1\n",
    "Clarification:\n",
    "\n",
    "What should we return when needle is an empty string? This is a great question to ask during an interview.\n",
    "\n",
    "For the purpose of this problem, we will return 0 when needle is an empty string. This is consistent to C's strstr() and Java's indexOf()."
   ]
  },
  {
   "cell_type": "code",
   "execution_count": 6,
   "metadata": {},
   "outputs": [
    {
     "data": {
      "text/plain": [
       "-1"
      ]
     },
     "execution_count": 6,
     "metadata": {},
     "output_type": "execute_result"
    }
   ],
   "source": [
    "haystack, needle = \"aa\", \"ll\"\n",
    "len(haystack)\n",
    "def strStr(haystack, needle):\n",
    "    \n",
    "    n = len(needle)\n",
    "    valueToReturn = -1\n",
    "    m = len(haystack)\n",
    "    for i in range(m-n+1):\n",
    "        if haystack[i:i+n] == needle:\n",
    "            valueToReturn = i\n",
    "    return valueToReturn\n",
    "strStr(haystack, needle)"
   ]
  },
  {
   "cell_type": "markdown",
   "metadata": {},
   "source": [
    "# 014-Longest Common Prefix\n",
    "Write a function to find the longest common prefix string amongst an array of strings.\n",
    "\n",
    "If there is no common prefix, return an empty string \"\".\n",
    "\n",
    "    Example 1:\n",
    "\n",
    "    Input: [\"flower\",\"flow\",\"flight\"]\n",
    "    Output: \"fl\"\n",
    "    Example 2:\n",
    "\n",
    "    Input: [\"dog\",\"racecar\",\"car\"]\n",
    "    Output: \"\"\n",
    "Explanation: There is no common prefix among the input strings.\n",
    "Note:\n",
    "\n",
    "All given inputs are in lowercase letters a-z."
   ]
  },
  {
   "cell_type": "code",
   "execution_count": 7,
   "metadata": {},
   "outputs": [
    {
     "data": {
      "text/plain": [
       "'fl'"
      ]
     },
     "execution_count": 7,
     "metadata": {},
     "output_type": "execute_result"
    }
   ],
   "source": [
    "strs = [\"flower\",\"flow\",\"flight\"]\n",
    "def longestCommonPrefix(strs):\n",
    "        if not strs:\n",
    "            return \"\"\n",
    "            \n",
    "        for i, letter_group in enumerate(zip(*strs)):\n",
    "            if len(set(letter_group)) > 1:\n",
    "                return strs[0][:i]\n",
    "        else:\n",
    "            return min(strs)\n",
    "longestCommonPrefix(strs)"
   ]
  },
  {
   "cell_type": "code",
   "execution_count": null,
   "metadata": {},
   "outputs": [],
   "source": []
  }
 ],
 "metadata": {
  "kernelspec": {
   "display_name": "Python 3",
   "language": "python",
   "name": "python3"
  },
  "language_info": {
   "codemirror_mode": {
    "name": "ipython",
    "version": 3
   },
   "file_extension": ".py",
   "mimetype": "text/x-python",
   "name": "python",
   "nbconvert_exporter": "python",
   "pygments_lexer": "ipython3",
   "version": "3.6.5"
  }
 },
 "nbformat": 4,
 "nbformat_minor": 2
}
