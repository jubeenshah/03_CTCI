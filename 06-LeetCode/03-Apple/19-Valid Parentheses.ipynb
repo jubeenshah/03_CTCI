{
 "cells": [
  {
   "cell_type": "code",
   "execution_count": 8,
   "metadata": {},
   "outputs": [
    {
     "data": {
      "text/plain": [
       "True"
      ]
     },
     "execution_count": 8,
     "metadata": {},
     "output_type": "execute_result"
    }
   ],
   "source": [
    "s = \"()[]{}\"\n",
    "import re\n",
    "def validParantheses(s):\n",
    "    if s == \"\":\n",
    "        return True\n",
    "    \n",
    "    openingBraceList = [\"{\", \"(\", \"[\"]\n",
    "    closingBraceList = [\"}\", \")\", \"]\"]\n",
    "    bracesStack = list()\n",
    "    for currentBrace in s:\n",
    "        if currentBrace in openingBraceList:\n",
    "            bracesStack.append(currentBrace)\n",
    "        if currentBrace in closingBraceList:\n",
    "            if bracesStack:\n",
    "                openingBrance = bracesStack.pop()\n",
    "            else:\n",
    "                return False\n",
    "            \n",
    "            if (openingBrance== \"{\" and currentBrace == \"}\") or \\\n",
    "               (openingBrance == \"(\" and currentBrace == \")\") or \\\n",
    "               (openingBrance == \"[\" and currentBrace == \"]\"):\n",
    "                continue\n",
    "            else:\n",
    "                return False\n",
    "    if bracesStack:\n",
    "        return False\n",
    "    return True\n",
    "                \n",
    "    print(bracesStack)\n",
    "\n",
    "validParantheses(s)"
   ]
  },
  {
   "cell_type": "code",
   "execution_count": null,
   "metadata": {},
   "outputs": [],
   "source": []
  },
  {
   "cell_type": "code",
   "execution_count": null,
   "metadata": {},
   "outputs": [],
   "source": []
  }
 ],
 "metadata": {
  "kernelspec": {
   "display_name": "Python 3",
   "language": "python",
   "name": "python3"
  },
  "language_info": {
   "codemirror_mode": {
    "name": "ipython",
    "version": 3
   },
   "file_extension": ".py",
   "mimetype": "text/x-python",
   "name": "python",
   "nbconvert_exporter": "python",
   "pygments_lexer": "ipython3",
   "version": "3.6.5"
  }
 },
 "nbformat": 4,
 "nbformat_minor": 2
}
