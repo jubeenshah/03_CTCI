{
 "cells": [
  {
   "cell_type": "code",
   "execution_count": 149,
   "metadata": {},
   "outputs": [
    {
     "name": "stdout",
     "output_type": "stream",
     "text": [
      "{'hos': [], 'boo': [], 'any': [], 'bde': [], 'oww': [], 'bop': [], 'bbo': [], 'brr': [], 'ehy': [], 'ery': [], 'eev': [], 'efl': [], 'ppu': [], 'bmu': [], 'aiv': [], 'lxy': [], 'apy': [], 'ghu': [], 'ehm': [], 'dor': [], 'aah': [], 'amn': [], 'agp': [], 'aey': [], 'cdo': [], 'enp': [], 'bjo': [], 'dis': [], 'amx': [], 'hoo': [], 'dej': [], 'ely': [], 'amr': [], 'aqu': [], 'imr': [], 'anp': [], 'gho': [], 'elt': [], 'gmy': [], 'bey': [], 'lno': [], 'aft': [], 'eel': [], 'los': [], 'abj': []}\n"
     ]
    },
    {
     "data": {
      "text/plain": [
       "[['hos'],\n",
       " ['boo'],\n",
       " ['nay'],\n",
       " ['deb', 'deb'],\n",
       " ['wow'],\n",
       " ['bop'],\n",
       " ['bob'],\n",
       " ['brr'],\n",
       " ['hey'],\n",
       " ['rye'],\n",
       " ['eve'],\n",
       " ['elf'],\n",
       " ['pup', 'pup'],\n",
       " ['bum'],\n",
       " ['iva'],\n",
       " ['lyx'],\n",
       " ['yap'],\n",
       " ['ugh', 'ugh'],\n",
       " ['hem'],\n",
       " ['rod'],\n",
       " ['aha'],\n",
       " ['nam'],\n",
       " ['gap'],\n",
       " ['yea'],\n",
       " ['doc'],\n",
       " ['pen'],\n",
       " ['job'],\n",
       " ['dis'],\n",
       " ['max'],\n",
       " ['oho'],\n",
       " ['jed'],\n",
       " ['lye'],\n",
       " ['ram'],\n",
       " ['qua'],\n",
       " ['mir'],\n",
       " ['nap'],\n",
       " ['hog'],\n",
       " ['let'],\n",
       " ['gym'],\n",
       " ['bye'],\n",
       " ['lon'],\n",
       " ['aft'],\n",
       " ['eel'],\n",
       " ['sol'],\n",
       " ['jab']]"
      ]
     },
     "execution_count": 149,
     "metadata": {},
     "output_type": "execute_result"
    }
   ],
   "source": [
    "strs = [\"hos\",\"boo\",\"nay\",\"deb\",\"wow\",\"bop\",\"bob\",\"brr\",\"hey\",\"rye\",\"eve\",\"elf\",\"pup\",\"bum\",\"iva\",\"lyx\",\"yap\",\"ugh\",\"hem\",\"rod\",\"aha\",\"nam\",\"gap\",\"yea\",\"doc\",\"pen\",\"job\",\"dis\",\"max\",\"oho\",\"jed\",\"lye\",\"ram\",\"pup\",\"qua\",\"ugh\",\"mir\",\"nap\",\"deb\",\"hog\",\"let\",\"gym\",\"bye\",\"lon\",\"aft\",\"eel\",\"sol\",\"jab\"]\n",
    "\n",
    "def groupAnagrams(strs):\n",
    "    #strs.sort()\n",
    "    #print(strs)\n",
    "    if strs == '':\n",
    "        return []\n",
    "    emptyDictionary = {}\n",
    "    \n",
    "    for element in strs:\n",
    "        sortedElement = ''.join(sorted(element))\n",
    "        emptyDictionary[sortedElement] = []\n",
    "    print(emptyDictionary)  \n",
    "    for element in strs:\n",
    "        sortedEle = ''.join(sorted(element))\n",
    "        if sortedEle in emptyDictionary:\n",
    "            emptyDictionary[sortedEle].append(element) \n",
    "    #print(list(emptyDictionary.values()))\n",
    "    \n",
    "    return list(emptyDictionary.values())\n",
    "            \n",
    "            \n",
    "    \n",
    "        \n",
    "    \n",
    "groupAnagrams(strs)"
   ]
  },
  {
   "cell_type": "code",
   "execution_count": 86,
   "metadata": {},
   "outputs": [
    {
     "data": {
      "text/plain": [
       "5861254092641047583"
      ]
     },
     "execution_count": 86,
     "metadata": {},
     "output_type": "execute_result"
    }
   ],
   "source": [
    "hash(\"eat\")\n",
    "hash(\"tea\")"
   ]
  },
  {
   "cell_type": "code",
   "execution_count": 157,
   "metadata": {},
   "outputs": [
    {
     "name": "stdout",
     "output_type": "stream",
     "text": [
      "bob {'a': 0, 'b': 2, 'c': 0, 'd': 0, 'e': 0, 'f': 0, 'g': 0, 'h': 0, 'i': 0, 'j': 0, 'k': 0, 'l': 0, 'm': 0, 'n': 0, 'o': 1, 'p': 0, 'q': 0, 'r': 0, 's': 0, 't': 0, 'u': 0, 'v': 0, 'w': 0, 'x': 0, 'y': 0, 'z': 0}\n",
      "boo {'a': 0, 'b': 1, 'c': 0, 'd': 0, 'e': 0, 'f': 0, 'g': 0, 'h': 0, 'i': 0, 'j': 0, 'k': 0, 'l': 0, 'm': 0, 'n': 0, 'o': 2, 'p': 0, 'q': 0, 'r': 0, 's': 0, 't': 0, 'u': 0, 'v': 0, 'w': 0, 'x': 0, 'y': 0, 'z': 0}\n"
     ]
    },
    {
     "data": {
      "text/plain": [
       "[['bob'], ['boo']]"
      ]
     },
     "execution_count": 157,
     "metadata": {},
     "output_type": "execute_result"
    }
   ],
   "source": [
    "\n",
    "strs = [\"bob\",\"boo\"]\n",
    "\n",
    "def groupAnagrams2(strs):\n",
    "    #strs.sort()\n",
    "    emptyDictionary = {}\n",
    "    hashedValues = {}\n",
    "    for eachElement in strs:\n",
    "        hashmap = getHash(eachElement)\n",
    "        #print(eachElement, hashmap)\n",
    "        emptyDictionary[str(list(hashmap))] = []\n",
    "        hashedValues[eachElement] = hashmap\n",
    "    #print(emptyDictionary)\n",
    "    #print(str(list(hashedValues['eat'])))\n",
    "    for eachElement in strs:\n",
    "        #print(emptyDictionary)\n",
    "        if eachElement in hashedValues:\n",
    "            emptyDictionary[str(list(hashedValues[eachElement]))].append(eachElement)\n",
    "    return list(emptyDictionary.values())       \n",
    "\n",
    "def getHash(string):\n",
    "    #print(strs)\n",
    "    hashmap = {}\n",
    "    for index in range(97,123):\n",
    "        hashmap[chr(index)] = 0\n",
    "    for letter in string:\n",
    "        \n",
    "        if letter in hashmap:\n",
    "            hashmap[letter] += 1\n",
    "    print(string, hashmap)       \n",
    "    return hashmap.values()\n",
    "        \n",
    "        \n",
    "            \n",
    "    \n",
    "        \n",
    "    \n",
    "groupAnagrams2(strs)"
   ]
  },
  {
   "cell_type": "code",
   "execution_count": 167,
   "metadata": {},
   "outputs": [
    {
     "name": "stdout",
     "output_type": "stream",
     "text": [
      "defaultdict(<class 'list'>, {})\n"
     ]
    },
    {
     "data": {
      "text/plain": [
       "[['hos'],\n",
       " ['boo'],\n",
       " ['nay'],\n",
       " ['deb', 'deb'],\n",
       " ['wow'],\n",
       " ['bop'],\n",
       " ['bob'],\n",
       " ['brr'],\n",
       " ['hey'],\n",
       " ['rye'],\n",
       " ['eve'],\n",
       " ['elf'],\n",
       " ['pup', 'pup'],\n",
       " ['bum'],\n",
       " ['iva'],\n",
       " ['lyx'],\n",
       " ['yap'],\n",
       " ['ugh', 'ugh'],\n",
       " ['hem'],\n",
       " ['rod'],\n",
       " ['aha'],\n",
       " ['nam'],\n",
       " ['gap'],\n",
       " ['yea'],\n",
       " ['doc'],\n",
       " ['pen'],\n",
       " ['job'],\n",
       " ['dis'],\n",
       " ['max'],\n",
       " ['oho'],\n",
       " ['jed'],\n",
       " ['lye'],\n",
       " ['ram'],\n",
       " ['qua'],\n",
       " ['mir'],\n",
       " ['nap'],\n",
       " ['hog'],\n",
       " ['let'],\n",
       " ['gym'],\n",
       " ['bye'],\n",
       " ['lon'],\n",
       " ['aft'],\n",
       " ['eel'],\n",
       " ['sol'],\n",
       " ['jab']]"
      ]
     },
     "execution_count": 167,
     "metadata": {},
     "output_type": "execute_result"
    }
   ],
   "source": [
    "from collections import defaultdict\n",
    "strs = [\"hos\",\"boo\",\"nay\",\"deb\",\"wow\",\"bop\",\"bob\",\"brr\",\"hey\",\"rye\",\"eve\",\"elf\",\"pup\",\"bum\",\"iva\",\"lyx\",\"yap\",\"ugh\",\"hem\",\"rod\",\"aha\",\"nam\",\"gap\",\"yea\",\"doc\",\"pen\",\"job\",\"dis\",\"max\",\"oho\",\"jed\",\"lye\",\"ram\",\"pup\",\"qua\",\"ugh\",\"mir\",\"nap\",\"deb\",\"hog\",\"let\",\"gym\",\"bye\",\"lon\",\"aft\",\"eel\",\"sol\",\"jab\"]\n",
    "\n",
    "def groupAnagrams3(strs):\n",
    "\n",
    "\n",
    "    groups = defaultdict(list)\n",
    "    print(groups)\n",
    "    for s in strs:\n",
    "        groups[''.join(sorted(s))].append(s)\n",
    "\n",
    "    return list(groups.values())\n",
    "groupAnagrams3(strs)"
   ]
  },
  {
   "cell_type": "code",
   "execution_count": null,
   "metadata": {},
   "outputs": [],
   "source": []
  }
 ],
 "metadata": {
  "kernelspec": {
   "display_name": "Python 3",
   "language": "python",
   "name": "python3"
  },
  "language_info": {
   "codemirror_mode": {
    "name": "ipython",
    "version": 3
   },
   "file_extension": ".py",
   "mimetype": "text/x-python",
   "name": "python",
   "nbconvert_exporter": "python",
   "pygments_lexer": "ipython3",
   "version": "3.6.5"
  }
 },
 "nbformat": 4,
 "nbformat_minor": 2
}
