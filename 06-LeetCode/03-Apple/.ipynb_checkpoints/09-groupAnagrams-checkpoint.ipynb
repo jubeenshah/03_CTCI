{
 "cells": [
  {
   "cell_type": "code",
   "execution_count": 75,
   "metadata": {},
   "outputs": [
    {
     "name": "stdout",
     "output_type": "stream",
     "text": [
      "{'aet': [], 'ant': [], 'abt': []}\n",
      "[['eat', 'tea', 'ate'], ['tan', 'nat'], ['bat']]\n"
     ]
    },
    {
     "data": {
      "text/plain": [
       "{'aet': ['eat', 'tea', 'ate'], 'ant': ['tan', 'nat'], 'abt': ['bat']}"
      ]
     },
     "execution_count": 75,
     "metadata": {},
     "output_type": "execute_result"
    }
   ],
   "source": [
    "strs = [\"eat\", \"tea\", \"tan\", \"ate\", \"nat\", \"bat\"]\n",
    "\n",
    "def groupAnagrams(strs):\n",
    "    #strs.sort()\n",
    "    #print(strs)\n",
    "    if strs == '':\n",
    "        return []\n",
    "    emptyDictionary = {}\n",
    "    \n",
    "    for element in strs:\n",
    "        sortedElement = ''.join(sorted(element))\n",
    "        emptyDictionary[sortedElement] = []\n",
    "    print(emptyDictionary)  \n",
    "    for element in strs:\n",
    "        sortedEle = ''.join(sorted(element))\n",
    "        if sortedEle in emptyDictionary:\n",
    "            emptyDictionary[sortedEle].append(element) \n",
    "    print(list(emptyDictionary.values()))\n",
    "    \n",
    "    return list(emptyDictionary.values())\n",
    "            \n",
    "            \n",
    "    \n",
    "        \n",
    "    \n",
    "groupAnagrams(strs)"
   ]
  },
  {
   "cell_type": "code",
   "execution_count": 10,
   "metadata": {},
   "outputs": [],
   "source": [
    "string = \"zxy\"\n"
   ]
  },
  {
   "cell_type": "code",
   "execution_count": 11,
   "metadata": {},
   "outputs": [
    {
     "data": {
      "text/plain": [
       "'xyz'"
      ]
     },
     "execution_count": 11,
     "metadata": {},
     "output_type": "execute_result"
    }
   ],
   "source": [
    "''.join(sorted(string))"
   ]
  },
  {
   "cell_type": "code",
   "execution_count": 45,
   "metadata": {},
   "outputs": [
    {
     "name": "stdout",
     "output_type": "stream",
     "text": [
      "{'aet': ['ate'], 'ant': ['nat']}\n",
      "dict_keys(['aet', 'ant'])\n"
     ]
    }
   ],
   "source": [
    "test = {'aet': ['ate'], 'ant': ['nat']}\n",
    "print(test)\n",
    "print(test.keys())"
   ]
  },
  {
   "cell_type": "code",
   "execution_count": null,
   "metadata": {},
   "outputs": [],
   "source": []
  }
 ],
 "metadata": {
  "kernelspec": {
   "display_name": "Python 3",
   "language": "python",
   "name": "python3"
  },
  "language_info": {
   "codemirror_mode": {
    "name": "ipython",
    "version": 3
   },
   "file_extension": ".py",
   "mimetype": "text/x-python",
   "name": "python",
   "nbconvert_exporter": "python",
   "pygments_lexer": "ipython3",
   "version": "3.6.5"
  }
 },
 "nbformat": 4,
 "nbformat_minor": 2
}
