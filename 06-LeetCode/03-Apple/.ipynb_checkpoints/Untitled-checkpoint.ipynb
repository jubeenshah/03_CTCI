{
 "cells": [
  {
   "cell_type": "code",
   "execution_count": 175,
   "metadata": {},
   "outputs": [
    {
     "data": {
      "text/plain": [
       "0"
      ]
     },
     "execution_count": 175,
     "metadata": {},
     "output_type": "execute_result"
    }
   ],
   "source": [
    "string = \"  -0012a42\"\n",
    "def atoi(str):\n",
    "    onlyIntString = \"\"\n",
    "    \"\"\"\n",
    "    test = str.split(' ')\n",
    "    for i in test:\n",
    "        if i == '':\n",
    "            continue\n",
    "        try:\n",
    "            if int(i) > 2**31 -1:\n",
    "                return 2**31\n",
    "            elif int(i) < -2**31:\n",
    "                return -2**31\n",
    "            return int(i)\n",
    "        except:\n",
    "            return 0\n",
    "        \n",
    "    \"\"\"\n",
    "    \n",
    "    for i in str:\n",
    "        if ord(i) == 45:\n",
    "            onlyIntString += i\n",
    "        if (ord(i) >= 48 and ord(i) <= 57):\n",
    "            #print(int(i))\n",
    "            onlyIntString += i\n",
    "        if (ord(i) <= 48 or ord(i) >= 57):\n",
    "            break\n",
    "        if ord(i) == 46:\n",
    "            break\n",
    "        #print(onlyIntString)\n",
    "    try:\n",
    "        if int(onlyIntString) > 2**31 -1:\n",
    "            return 2**31\n",
    "        elif int(onlyIntString) < -2**31:\n",
    "            return -2**31\n",
    "        #print(\"HEll2o\")\n",
    "        return int(float(onlyIntString))\n",
    "    except:\n",
    "        return 0\n",
    "    return 0\n",
    "\n",
    "    #48#57#45\n",
    "    \n",
    "atoi(string)"
   ]
  },
  {
   "cell_type": "code",
   "execution_count": 165,
   "metadata": {},
   "outputs": [
    {
     "ename": "IndentationError",
     "evalue": "unindent does not match any outer indentation level (<ipython-input-165-3aa1d2a9d4d7>, line 9)",
     "output_type": "error",
     "traceback": [
      "\u001b[0;36m  File \u001b[0;32m\"<ipython-input-165-3aa1d2a9d4d7>\"\u001b[0;36m, line \u001b[0;32m9\u001b[0m\n\u001b[0;31m    return 0\u001b[0m\n\u001b[0m            ^\u001b[0m\n\u001b[0;31mIndentationError\u001b[0m\u001b[0;31m:\u001b[0m unindent does not match any outer indentation level\n"
     ]
    }
   ],
   "source": [
    "if onlyIntString != \"\":\n",
    "        print(int(onlyIntString))\n",
    "        if int(onlyIntString) > 2**31 -1:\n",
    "            return 2**31\n",
    "        elif int(onlyIntString) < -2**31:\n",
    "            return -2**31\n",
    "        print(type(int(onlyIntString)))\n",
    "        return int(onlyIntString)\n",
    "    return 0"
   ]
  },
  {
   "cell_type": "code",
   "execution_count": 134,
   "metadata": {},
   "outputs": [
    {
     "ename": "SyntaxError",
     "evalue": "'return' outside function (<ipython-input-134-2642486e8aa1>, line 10)",
     "output_type": "error",
     "traceback": [
      "\u001b[0;36m  File \u001b[0;32m\"<ipython-input-134-2642486e8aa1>\"\u001b[0;36m, line \u001b[0;32m10\u001b[0m\n\u001b[0;31m    return 0\u001b[0m\n\u001b[0m            ^\u001b[0m\n\u001b[0;31mSyntaxError\u001b[0m\u001b[0;31m:\u001b[0m 'return' outside function\n"
     ]
    }
   ],
   "source": [
    "string = \"   words and 987\"\n",
    "test = string.split(' ')\n",
    "for i in test:\n",
    "    if i == '':\n",
    "        continue\n",
    "    try:\n",
    "        int(i)\n",
    "    except:\n",
    "        break"
   ]
  },
  {
   "cell_type": "code",
   "execution_count": 206,
   "metadata": {},
   "outputs": [
    {
     "data": {
      "text/plain": [
       "39"
      ]
     },
     "execution_count": 206,
     "metadata": {},
     "output_type": "execute_result"
    }
   ],
   "source": []
  },
  {
   "cell_type": "code",
   "execution_count": 263,
   "metadata": {},
   "outputs": [
    {
     "name": "stdout",
     "output_type": "stream",
     "text": [
      "\n"
     ]
    },
    {
     "ename": "ValueError",
     "evalue": "invalid literal for int() with base 10: ''",
     "output_type": "error",
     "traceback": [
      "\u001b[0;31m---------------------------------------------------------------------------\u001b[0m",
      "\u001b[0;31mValueError\u001b[0m                                Traceback (most recent call last)",
      "\u001b[0;32m<ipython-input-263-520708550e9f>\u001b[0m in \u001b[0;36m<module>\u001b[0;34m()\u001b[0m\n\u001b[1;32m     31\u001b[0m     \u001b[0mprint\u001b[0m\u001b[0;34m(\u001b[0m\u001b[0mnumberToReturn\u001b[0m\u001b[0;34m)\u001b[0m\u001b[0;34m\u001b[0m\u001b[0m\n\u001b[1;32m     32\u001b[0m     \u001b[0;32mreturn\u001b[0m  \u001b[0mint\u001b[0m\u001b[0;34m(\u001b[0m\u001b[0mnumberToReturn\u001b[0m\u001b[0;34m)\u001b[0m\u001b[0;34m\u001b[0m\u001b[0m\n\u001b[0;32m---> 33\u001b[0;31m \u001b[0matoi\u001b[0m\u001b[0;34m(\u001b[0m\u001b[0mstr\u001b[0m\u001b[0;34m)\u001b[0m\u001b[0;34m\u001b[0m\u001b[0m\n\u001b[0m",
      "\u001b[0;32m<ipython-input-263-520708550e9f>\u001b[0m in \u001b[0;36matoi\u001b[0;34m(str)\u001b[0m\n\u001b[1;32m     30\u001b[0m         \u001b[0mnumberToReturn\u001b[0m \u001b[0;34m+=\u001b[0m \u001b[0monlyIntString\u001b[0m\u001b[0;34m[\u001b[0m\u001b[0mi\u001b[0m\u001b[0;34m]\u001b[0m\u001b[0;34m\u001b[0m\u001b[0m\n\u001b[1;32m     31\u001b[0m     \u001b[0mprint\u001b[0m\u001b[0;34m(\u001b[0m\u001b[0mnumberToReturn\u001b[0m\u001b[0;34m)\u001b[0m\u001b[0;34m\u001b[0m\u001b[0m\n\u001b[0;32m---> 32\u001b[0;31m     \u001b[0;32mreturn\u001b[0m  \u001b[0mint\u001b[0m\u001b[0;34m(\u001b[0m\u001b[0mnumberToReturn\u001b[0m\u001b[0;34m)\u001b[0m\u001b[0;34m\u001b[0m\u001b[0m\n\u001b[0m\u001b[1;32m     33\u001b[0m \u001b[0matoi\u001b[0m\u001b[0;34m(\u001b[0m\u001b[0mstr\u001b[0m\u001b[0;34m)\u001b[0m\u001b[0;34m\u001b[0m\u001b[0m\n",
      "\u001b[0;31mValueError\u001b[0m: invalid literal for int() with base 10: ''"
     ]
    }
   ],
   "source": [
    "str = \"   -123-123qwe\"\n",
    "def atoi(str):\n",
    "    str = str.strip()\n",
    "    if str == \"\":\n",
    "        return 0\n",
    "    onlyIntString = \"\"\n",
    "    for i in str:\n",
    "        if ord(i) == 45:\n",
    "            onlyIntString += i\n",
    "        elif ord(i) == 46:\n",
    "            onlyIntString += i\n",
    "        elif (ord(i) >= 48 and ord(i) <= 57):\n",
    "            #print(int(i))\n",
    "            onlyIntString += i\n",
    "        elif (ord(i) <= 48 or ord(i) >= 57): \n",
    "            break\n",
    "            \n",
    "    #print(onlyIntString)\n",
    "    isNegative = False\n",
    "    try:\n",
    "        if onlyIntString[0] == \"-\":\n",
    "            isNegative = True\n",
    "    except:\n",
    "        return 0\n",
    "    #print(isNegative)\n",
    "    numberToReturn = \"\"\n",
    "    for i in range(0,len(onlyIntString)):\n",
    "        if (ord(onlyIntString[i]) <= 48 or ord(onlyIntString[i]) >= 57):\n",
    "            break\n",
    "        numberToReturn += onlyIntString[i]\n",
    "    print(numberToReturn)\n",
    "    return  int(numberToReturn)\n",
    "atoi(str)"
   ]
  },
  {
   "cell_type": "code",
   "execution_count": null,
   "metadata": {},
   "outputs": [],
   "source": []
  }
 ],
 "metadata": {
  "kernelspec": {
   "display_name": "Python 3",
   "language": "python",
   "name": "python3"
  },
  "language_info": {
   "codemirror_mode": {
    "name": "ipython",
    "version": 3
   },
   "file_extension": ".py",
   "mimetype": "text/x-python",
   "name": "python",
   "nbconvert_exporter": "python",
   "pygments_lexer": "ipython3",
   "version": "3.6.5"
  }
 },
 "nbformat": 4,
 "nbformat_minor": 2
}
