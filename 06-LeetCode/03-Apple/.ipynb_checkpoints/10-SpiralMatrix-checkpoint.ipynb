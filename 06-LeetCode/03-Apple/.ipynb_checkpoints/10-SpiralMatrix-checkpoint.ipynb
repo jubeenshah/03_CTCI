{
 "cells": [
  {
   "cell_type": "code",
   "execution_count": 46,
   "metadata": {},
   "outputs": [
    {
     "name": "stdout",
     "output_type": "stream",
     "text": [
      "1\n",
      "2\n",
      "3\n",
      "4\n",
      "8\n",
      "12\n",
      "11\n",
      "10\n",
      "9\n",
      "5\n",
      "6\n",
      "7\n"
     ]
    }
   ],
   "source": [
    "matrix = [\n",
    "  [1, 2, 3, 4],\n",
    "  [5, 6, 7, 8],\n",
    "  [9,10,11,12]\n",
    "]\n",
    "\n",
    "def spiralMatrix(matrix):\n",
    "    #print(matrix)\n",
    "    listToReturn = []\n",
    "    if len(matrix) == 0:\n",
    "        return listToReturn\n",
    "    rowBegin = 0\n",
    "    rowEnd = len(matrix) - 1\n",
    "    collumnBegin = 0\n",
    "    collumnEnd = len(matrix[0]) - 1\n",
    "    \n",
    "    while(rowBegin <= rowEnd and collumnBegin <= collumnEnd):\n",
    "        \n",
    "        \n",
    "        for i in range(collumnBegin, collumnEnd+1):\n",
    "        listToReturn.append(matrix[rowBegin][i])\n",
    "            \n",
    "            \n",
    "        rowBegin += 1\n",
    "        \n",
    "        for i in range(rowBegin, rowEnd+1):\n",
    "            listToReturn.append(matrix[i][collumnEnd])\n",
    "            \n",
    "        collumnEnd -= 1\n",
    "        \n",
    "        if rowBegin <= rowEnd:\n",
    "            for i in range(collumnEnd, collumnBegin-1, -1):\n",
    "                listToReturn.append(matrix[rowEnd][i])\n",
    "                \n",
    "        rowEnd -= 1\n",
    "        \n",
    "        if collumnBegin <= collumnEnd:\n",
    "            for i in range(rowEnd, rowBegin-1, -1):\n",
    "                listToReturn.append(matrix[i][collumnBegin])\n",
    "                \n",
    "        collumnBegin+=1\n",
    "            \n",
    "        return listToReturn\n",
    "\n",
    "spiralMatrix(matrix)"
   ]
  },
  {
   "cell_type": "code",
   "execution_count": 19,
   "metadata": {},
   "outputs": [
    {
     "name": "stdout",
     "output_type": "stream",
     "text": [
      "10\n",
      "9\n",
      "8\n",
      "7\n",
      "6\n",
      "5\n",
      "4\n",
      "3\n"
     ]
    }
   ],
   "source": [
    "for i in range(10,1+1,-1):\n",
    "    print(i)"
   ]
  },
  {
   "cell_type": "code",
   "execution_count": null,
   "metadata": {},
   "outputs": [],
   "source": []
  }
 ],
 "metadata": {
  "kernelspec": {
   "display_name": "Python 3",
   "language": "python",
   "name": "python3"
  },
  "language_info": {
   "codemirror_mode": {
    "name": "ipython",
    "version": 3
   },
   "file_extension": ".py",
   "mimetype": "text/x-python",
   "name": "python",
   "nbconvert_exporter": "python",
   "pygments_lexer": "ipython3",
   "version": "3.6.5"
  }
 },
 "nbformat": 4,
 "nbformat_minor": 2
}
