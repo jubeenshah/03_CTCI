{
 "cells": [
  {
   "cell_type": "markdown",
   "metadata": {},
   "source": [
    "Given an array of integers and an integer `k`, you need to find the total number of `continuous subarrays` whose sum equals to `k`.\n",
    "\n",
    "```\n",
    "Example 1:\n",
    "\n",
    "Input:nums = [1,1,1], k = 2\n",
    "Output: 2\n",
    "Note:\n",
    "```\n",
    "\n",
    "The length of the array is in range `[1, 20,000]`.\n",
    "The range of numbers in the array is `[-1000, 1000]` and the range of the integer k is `[-1e7, 1e7]`."
   ]
  },
  {
   "cell_type": "code",
   "execution_count": 74,
   "metadata": {},
   "outputs": [
    {
     "name": "stdout",
     "output_type": "stream",
     "text": [
      "Counter()\n",
      "1\n",
      "0 -1 0\n",
      "3\n",
      "1 1 1\n",
      "6\n",
      "1 4 0\n"
     ]
    },
    {
     "data": {
      "text/plain": [
       "1"
      ]
     },
     "execution_count": 74,
     "metadata": {},
     "output_type": "execute_result"
    }
   ],
   "source": [
    "nums = [1,2,3]\n",
    "k = 2\n",
    "import collections\n",
    "def findSubArraySum(nums,k):\n",
    "    tempDict = collections.Counter()\n",
    "    print(tempDict)\n",
    "    tempDict[0]= 1\n",
    "    sumX = 0\n",
    "    ans = 0\n",
    "    for x in nums:\n",
    "        print(sumX+x)\n",
    "        sumX+=x\n",
    "        ans += tempDict[sumX - k]\n",
    "        print(ans,sumX-k,tempDict[sumX-k])\n",
    "        tempDict[sumX] += 1\n",
    "    return ans\n",
    "findSubArraySum(nums,k)"
   ]
  },
  {
   "cell_type": "code",
   "execution_count": 33,
   "metadata": {},
   "outputs": [
    {
     "name": "stdout",
     "output_type": "stream",
     "text": [
      "[1]\n"
     ]
    }
   ],
   "source": [
    "print(nums[0:1])"
   ]
  },
  {
   "cell_type": "code",
   "execution_count": null,
   "metadata": {},
   "outputs": [],
   "source": []
  }
 ],
 "metadata": {
  "kernelspec": {
   "display_name": "Python 3",
   "language": "python",
   "name": "python3"
  },
  "language_info": {
   "codemirror_mode": {
    "name": "ipython",
    "version": 3
   },
   "file_extension": ".py",
   "mimetype": "text/x-python",
   "name": "python",
   "nbconvert_exporter": "python",
   "pygments_lexer": "ipython3",
   "version": "3.6.5"
  }
 },
 "nbformat": 4,
 "nbformat_minor": 2
}
