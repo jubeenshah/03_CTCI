{
 "cells": [
  {
   "cell_type": "code",
   "execution_count": 45,
   "metadata": {},
   "outputs": [
    {
     "name": "stdout",
     "output_type": "stream",
     "text": [
      "[-3, 0, 1, 2]\n",
      "-2\n",
      "-1\n",
      "0\n"
     ]
    },
    {
     "data": {
      "text/plain": [
       "0"
      ]
     },
     "execution_count": 45,
     "metadata": {},
     "output_type": "execute_result"
    }
   ],
   "source": [
    "nums = [0,2,1,-3]\n",
    "target = 1\n",
    "\n",
    "def sumClosest(nums, target):\n",
    "    \n",
    "    nums.sort()\n",
    "    print(nums)\n",
    "    returnVal = []\n",
    "    difference = sum(nums[:3])\n",
    "    print(difference)\n",
    "    for i in range(0, len(nums)):\n",
    "        j = i + 1\n",
    "        k = len(nums)-1\n",
    "        while(j<k):\n",
    "            sumOfThree = sum((nums[i], nums[j], nums[k]))\n",
    "            if abs(sumOfThree-target) < abs(difference - target):\n",
    "                difference = sumOfThree\n",
    "                print(difference)\n",
    "            if sumOfThree < target:\n",
    "                j = j + 1\n",
    "            elif sumOfThree > target:\n",
    "                k = k - 1\n",
    "            else:\n",
    "                return difference\n",
    "    return difference\n",
    "sumClosest(nums, target)"
   ]
  },
  {
   "cell_type": "code",
   "execution_count": 46,
   "metadata": {},
   "outputs": [],
   "source": [
    "def sumClosestOptimized(nums, target):\n",
    "    \n",
    "    nums.sort()\n",
    "    ans = float(\"inf\")\n",
    "\n",
    "    for i in range(len(nums)-2):\n",
    "        minSum = nums[i]+nums[i+1]+nums[i+2]\n",
    "        maxSum = nums[i]+nums[-1]+nums[-2]\n",
    "        left,right = i+1,len(nums)-1\n",
    "\n",
    "        if minSum >= target:\n",
    "            if abs(ans-target)<abs(minSum-target):\n",
    "                return ans\n",
    "            return minSum\n",
    "        if maxSum == target:\n",
    "            return maxSum\n",
    "        elif maxSum < target:\n",
    "            if abs(maxSum-target) < abs(ans-target):\n",
    "                ans = maxSum\n",
    "            continue\n",
    "        else:\n",
    "            while right > left:\n",
    "                temp = nums[i] + nums[left] + nums[right]\n",
    "                if abs(temp - target) < abs(ans - target):\n",
    "                    ans = temp\n",
    "                if temp > target:\n",
    "                    right-=1\n",
    "                    while right > left and nums[right] == nums[right+1]:\n",
    "                        right-=1\n",
    "                elif temp == target:\n",
    "                    return temp\n",
    "                else:\n",
    "                    left+=1\n",
    "                    while right > left and nums[left-1] == nums[left]:\n",
    "                        left+=1\n",
    "    return ans\n"
   ]
  },
  {
   "cell_type": "code",
   "execution_count": null,
   "metadata": {},
   "outputs": [],
   "source": []
  }
 ],
 "metadata": {
  "kernelspec": {
   "display_name": "Python 3",
   "language": "python",
   "name": "python3"
  },
  "language_info": {
   "codemirror_mode": {
    "name": "ipython",
    "version": 3
   },
   "file_extension": ".py",
   "mimetype": "text/x-python",
   "name": "python",
   "nbconvert_exporter": "python",
   "pygments_lexer": "ipython3",
   "version": "3.6.5"
  }
 },
 "nbformat": 4,
 "nbformat_minor": 2
}
