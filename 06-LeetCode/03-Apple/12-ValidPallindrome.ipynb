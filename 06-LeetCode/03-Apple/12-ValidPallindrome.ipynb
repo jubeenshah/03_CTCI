{
 "cells": [
  {
   "cell_type": "code",
   "execution_count": 44,
   "metadata": {},
   "outputs": [
    {
     "data": {
      "text/plain": [
       "True"
      ]
     },
     "execution_count": 44,
     "metadata": {},
     "output_type": "execute_result"
    }
   ],
   "source": [
    "s = \"A man, a plan, a canal: Panama\"\n",
    "\n",
    "def isValidPallindrome(s):\n",
    "    s = s.lower()\n",
    "    s = s.replace(\" \", '')\n",
    "    #print(s)\n",
    "    if s == '':\n",
    "        return True\n",
    "    badChars = ['!', '@', '#', '$', '%', '^', '&', '*', '(', ')', '_', '+', '{', '}', '|', '-', '=', '[', '', ']', '\\\\', ':', '\"', ';', '', \"'\", '<', '>', '?', ',', '.', '/', '~', '`', '']\n",
    "    for char in badChars:\n",
    "        s = s.replace(char,'')\n",
    "    return s == s[::-1]       \n",
    "    #if stringToReverse == stringToReverse[::-1]:\n",
    "    #    return True\n",
    "    #else:\n",
    "    #    return False\n",
    "        \n",
    "    \n",
    "\n",
    "    \n",
    "isValidPallindrome(s)\n",
    "    "
   ]
  },
  {
   "cell_type": "code",
   "execution_count": 45,
   "metadata": {},
   "outputs": [],
   "source": [
    "import re\n",
    "def isValidPallindrome2(s):\n",
    "    s = re.sub(r'\\W+', '', s).lower()\n",
    "    print(s)\n",
    "    return s == s[::-1]"
   ]
  },
  {
   "cell_type": "code",
   "execution_count": 49,
   "metadata": {},
   "outputs": [
    {
     "name": "stdout",
     "output_type": "stream",
     "text": [
      "21amanaplanacanalpanama12\n"
     ]
    },
    {
     "data": {
      "text/plain": [
       "True"
      ]
     },
     "execution_count": 49,
     "metadata": {},
     "output_type": "execute_result"
    }
   ],
   "source": [
    "isValidPallindrome2(\"21A man, a plan, a canal: Panama12\")"
   ]
  },
  {
   "cell_type": "code",
   "execution_count": 48,
   "metadata": {},
   "outputs": [
    {
     "data": {
      "text/plain": [
       "True"
      ]
     },
     "execution_count": 48,
     "metadata": {},
     "output_type": "execute_result"
    }
   ],
   "source": [
    "def isValidPallindrome3(s):\n",
    "    s = s.lower()\n",
    "    #print(s)\n",
    "    if s == '':\n",
    "        return True\n",
    "    stringToReverse = ''\n",
    "    for char in s:\n",
    "        if (ord(char) >=97 and ord(char)<=122) or (ord(char)>=48 and ord(char)<=57):\n",
    "            stringToReverse += char\n",
    "\n",
    "    if stringToReverse == stringToReverse[::-1]:\n",
    "        return True\n",
    "    else:\n",
    "        return False\n",
    "isValidPallindrome3(\"21A man, a plan, a canal: Panama12\")"
   ]
  },
  {
   "cell_type": "code",
   "execution_count": null,
   "metadata": {},
   "outputs": [],
   "source": []
  }
 ],
 "metadata": {
  "kernelspec": {
   "display_name": "Python 3",
   "language": "python",
   "name": "python3"
  },
  "language_info": {
   "codemirror_mode": {
    "name": "ipython",
    "version": 3
   },
   "file_extension": ".py",
   "mimetype": "text/x-python",
   "name": "python",
   "nbconvert_exporter": "python",
   "pygments_lexer": "ipython3",
   "version": "3.6.5"
  }
 },
 "nbformat": 4,
 "nbformat_minor": 2
}
