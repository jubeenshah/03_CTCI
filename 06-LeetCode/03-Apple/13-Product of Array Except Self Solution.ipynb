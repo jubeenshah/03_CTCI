{
 "cells": [
  {
   "cell_type": "markdown",
   "metadata": {},
   "source": [
    "```\n",
    "Given an array nums of n integers where n > 1,  return an array output such that output[i] is equal to the product of all the elements of nums except nums[i].\n",
    "\n",
    "Example:\n",
    "\n",
    "Input:  [1,2,3,4]\n",
    "Output: [24,12,8,6]\n",
    "Note: Please solve it without division and in O(n).\n",
    "\n",
    "Follow up:\n",
    "Could you solve it with constant space complexity? (The output array does not count as extra space for the purpose of space complexity analysis.)\n",
    "```"
   ]
  },
  {
   "cell_type": "code",
   "execution_count": 33,
   "metadata": {},
   "outputs": [
    {
     "name": "stdout",
     "output_type": "stream",
     "text": [
      "1 [1, 1, 1, 1] 1\n",
      "2 [1, 1, 1, 1] 2\n",
      "6 [1, 1, 2, 1] 3\n",
      "24 [1, 1, 2, 6] 4\n",
      "4 [1, 1, 2, 6] 4\n",
      "12 [1, 1, 8, 6] 3\n",
      "24 [1, 12, 8, 6] 2\n",
      "24 [24, 12, 8, 6] 1\n"
     ]
    },
    {
     "data": {
      "text/plain": [
       "[24, 12, 8, 6]"
      ]
     },
     "execution_count": 33,
     "metadata": {},
     "output_type": "execute_result"
    }
   ],
   "source": [
    "nums = [1,2,3,4]\n",
    "def ProductOfArrayExceptSelf(nums):\n",
    "    listToReturn = [1] * len(nums)\n",
    "    product = 1\n",
    "    \n",
    "    for num in range(len(nums)):\n",
    "        listToReturn[num] *=product\n",
    "        product *= nums[num]\n",
    "        print(product, listToReturn,nums[num])\n",
    "    product = 1\n",
    "    for num in range(len(nums)-1,-1,-1):\n",
    "        listToReturn[num] *= product\n",
    "        product *= nums[num]\n",
    "        print(product, listToReturn,nums[num])\n",
    "    return (listToReturn)\n",
    "ProductOfArrayExceptSelf(nums)"
   ]
  },
  {
   "cell_type": "code",
   "execution_count": null,
   "metadata": {},
   "outputs": [],
   "source": []
  }
 ],
 "metadata": {
  "kernelspec": {
   "display_name": "Python 3",
   "language": "python",
   "name": "python3"
  },
  "language_info": {
   "codemirror_mode": {
    "name": "ipython",
    "version": 3
   },
   "file_extension": ".py",
   "mimetype": "text/x-python",
   "name": "python",
   "nbconvert_exporter": "python",
   "pygments_lexer": "ipython3",
   "version": "3.6.5"
  }
 },
 "nbformat": 4,
 "nbformat_minor": 2
}
