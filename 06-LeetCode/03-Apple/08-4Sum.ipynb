{
 "cells": [
  {
   "cell_type": "code",
   "execution_count": 44,
   "metadata": {},
   "outputs": [
    {
     "name": "stdout",
     "output_type": "stream",
     "text": [
      "[-2, -1, 0, 0, 1, 2] 0\n",
      "0 1 4 5\n",
      "0 2 3 5\n",
      "1 2 3 4\n"
     ]
    },
    {
     "data": {
      "text/plain": [
       "[[-2, -1, 1, 2], [-2, 0, 0, 2], [-1, 0, 0, 1]]"
      ]
     },
     "execution_count": 44,
     "metadata": {},
     "output_type": "execute_result"
    }
   ],
   "source": [
    "nums = [1, 0, -1, 0, -2, 2]\n",
    "target = 0\n",
    "\n",
    "def fourSum(nums, target):\n",
    "    nums.sort()\n",
    "    print(nums, target)\n",
    "    listOfQuadruplets = []\n",
    "    for i in range(len(nums)-3):\n",
    "        if i > 0 and nums[i] == nums[i-1]:\n",
    "            continue\n",
    "        for j in range(i+1,len(nums)-2):\n",
    "            if j > (i+1) and nums[j] == nums[j-1]:\n",
    "                continue\n",
    "            left = j + 1\n",
    "            right = len(nums) - 1\n",
    "            while left < right:\n",
    "                temp = nums[i] + nums[j] + nums[left] + nums[right]\n",
    "                if temp < target:\n",
    "                    left = left + 1\n",
    "                    while left < right and nums[left] == nums[left-1]:\n",
    "                        left = left + 1\n",
    "                elif temp > target:\n",
    "                    right = right - 1\n",
    "                    while left < right and nums[right] == nums[right+1]:\n",
    "                        right = right - 1\n",
    "                else:\n",
    "                    print(i,j,left,right)\n",
    "                    listOfQuadruplets.append([nums[i],nums[j],nums[left],nums[right]])  \n",
    "                    left = left + 1\n",
    "                    right = right - 1\n",
    "    return (listOfQuadruplets)\n",
    "    \n",
    "    \n",
    "fourSum(nums, target)    "
   ]
  },
  {
   "cell_type": "code",
   "execution_count": null,
   "metadata": {},
   "outputs": [],
   "source": []
  }
 ],
 "metadata": {
  "kernelspec": {
   "display_name": "Python 3",
   "language": "python",
   "name": "python3"
  },
  "language_info": {
   "codemirror_mode": {
    "name": "ipython",
    "version": 3
   },
   "file_extension": ".py",
   "mimetype": "text/x-python",
   "name": "python",
   "nbconvert_exporter": "python",
   "pygments_lexer": "ipython3",
   "version": "3.6.5"
  }
 },
 "nbformat": 4,
 "nbformat_minor": 2
}
