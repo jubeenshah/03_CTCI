{
 "cells": [
  {
   "cell_type": "code",
   "execution_count": 55,
   "metadata": {},
   "outputs": [
    {
     "data": {
      "text/plain": [
       "'BANC'"
      ]
     },
     "execution_count": 55,
     "metadata": {},
     "output_type": "execute_result"
    }
   ],
   "source": [
    "S = \"ADOBECODEBANC\"\n",
    "T = \"ABC\"\n",
    "import collections\n",
    "def minWindowSubstring(s,t):\n",
    "    if not t:\n",
    "        return ''\n",
    "\n",
    "    counter = {}\n",
    "    for c in t:\n",
    "        counter[c] = counter.get(c, 0) + 1\n",
    "\n",
    "    target = len(counter)\n",
    "    left = 0\n",
    "    ret = ''\n",
    "    for ind, val in enumerate(s):\n",
    "        if val not in counter:\n",
    "            continue\n",
    "        counter[val] -= 1\n",
    "        if counter[val] == 0:\n",
    "            target -= 1\n",
    "        if target == 0:\n",
    "            # we want to update left position to make it be more greedy\n",
    "            while s[left] not in counter or counter[s[left]] < 0:\n",
    "                if s[left] in counter:\n",
    "                    counter[s[left]] += 1\n",
    "                left += 1\n",
    "            counter[s[left]] += 1\n",
    "            target += 1\n",
    "            # print(left, target, counter)\n",
    "            if not ret or len(ret) > (ind - left):\n",
    "                ret = s[left: (ind + 1)]\n",
    "\n",
    "            left += 1\n",
    "\n",
    "    return ret\n",
    "        \n",
    "        \n",
    "\n",
    "minWindowSubstring(S,T)"
   ]
  },
  {
   "cell_type": "code",
   "execution_count": null,
   "metadata": {},
   "outputs": [],
   "source": []
  }
 ],
 "metadata": {
  "kernelspec": {
   "display_name": "Python 3",
   "language": "python",
   "name": "python3"
  },
  "language_info": {
   "codemirror_mode": {
    "name": "ipython",
    "version": 3
   },
   "file_extension": ".py",
   "mimetype": "text/x-python",
   "name": "python",
   "nbconvert_exporter": "python",
   "pygments_lexer": "ipython3",
   "version": "3.6.5"
  }
 },
 "nbformat": 4,
 "nbformat_minor": 2
}
