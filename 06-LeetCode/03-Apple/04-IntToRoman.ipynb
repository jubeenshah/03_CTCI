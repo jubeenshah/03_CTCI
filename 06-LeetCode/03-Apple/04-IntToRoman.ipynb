{
 "cells": [
  {
   "cell_type": "code",
   "execution_count": 13,
   "metadata": {},
   "outputs": [
    {
     "data": {
      "text/plain": [
       "'LVIII'"
      ]
     },
     "execution_count": 13,
     "metadata": {},
     "output_type": "execute_result"
    }
   ],
   "source": [
    "num = 58\n",
    "\n",
    "def intToRoman(num):\n",
    "    #print(num)\n",
    "    if not num:\n",
    "        return\n",
    "    values = [ 1000, 900, 500, 400, 100, 90, 50, 40, 10, 9, 5, 4, 1 ]\n",
    "    Roman = [ \"M\", \"CM\", \"D\", \"CD\", \"C\", \"XC\", \"L\", \"XL\", \"X\", \"IX\", \"V\", \"IV\", \"I\" ]\n",
    "    out = ''\n",
    "    for i,j in zip(values, Roman):\n",
    "        #print(i,j)\n",
    "        out = out + j * int(num/i)\n",
    "        num = num % i\n",
    "    return out\n",
    "    \n",
    "    \n",
    "intToRoman(num)"
   ]
  },
  {
   "cell_type": "code",
   "execution_count": 20,
   "metadata": {},
   "outputs": [
    {
     "name": "stdout",
     "output_type": "stream",
     "text": [
      "23 / 1000 = 0\n",
      "23 / 900 = 0\n",
      "23 / 500 = 0\n",
      "23 / 400 = 0\n",
      "23 / 100 = 0\n",
      "23 / 90 = 0\n",
      "23 / 50 = 0\n",
      "23 / 40 = 0\n",
      "23 / 10 = 2\n",
      "3 / 9 = 0\n",
      "3 / 5 = 0\n",
      "3 / 4 = 0\n",
      "3 / 1 = 3\n"
     ]
    },
    {
     "data": {
      "text/plain": [
       "'XXIII'"
      ]
     },
     "execution_count": 20,
     "metadata": {},
     "output_type": "execute_result"
    }
   ],
   "source": [
    "num = 23\n",
    "\n",
    "def intToRoman2(num):\n",
    "    #print(num)\n",
    "    if not num:\n",
    "        return\n",
    "    IntValues = [ 1000, 900, 500, 400, 100, 90, 50, 40, 10, 9, 5, 4, 1 ]\n",
    "    RomanValues = [ \"M\", \"CM\", \"D\", \"CD\", \"C\", \"XC\", \"L\", \"XL\", \"X\", \"IX\", \"V\", \"IV\", \"I\" ]\n",
    "    result = ''\n",
    "    for i, j in zip(IntValues, RomanValues):\n",
    "        result = result + j * int(num/i)\n",
    "        print(num,\"/\",i,\"=\",int(num/i))\n",
    "        num = num % i\n",
    "    return result\n",
    "\n",
    "intToRoman2(num)"
   ]
  },
  {
   "cell_type": "code",
   "execution_count": 31,
   "metadata": {},
   "outputs": [
    {
     "data": {
      "text/plain": [
       "'III'"
      ]
     },
     "execution_count": 31,
     "metadata": {},
     "output_type": "execute_result"
    }
   ],
   "source": [
    "def intToRoman3(num):\n",
    "    if not num:\n",
    "        return\n",
    "    IntValues = [ 1000, 900, 500, 400, 100, 90, 50, 40, 10, 9, 5, 4, 1 ]\n",
    "    RomanValues = [ \"M\", \"CM\", \"D\", \"CD\", \"C\", \"XC\", \"L\", \"XL\", \"X\", \"IX\", \"V\", \"IV\", \"I\" ]\n",
    "    result = ''\n",
    "    for index, value in enumerate(IntValues):\n",
    "        #print(index,value)\n",
    "        if value <= num:\n",
    "            x =  num // value\n",
    "            result = result + (RomanValues[index] * x)\n",
    "            num = num % value\n",
    "    return result\n",
    "\n",
    "intToRoman3(3)"
   ]
  },
  {
   "cell_type": "code",
   "execution_count": null,
   "metadata": {},
   "outputs": [],
   "source": []
  }
 ],
 "metadata": {
  "kernelspec": {
   "display_name": "Python 3",
   "language": "python",
   "name": "python3"
  },
  "language_info": {
   "codemirror_mode": {
    "name": "ipython",
    "version": 3
   },
   "file_extension": ".py",
   "mimetype": "text/x-python",
   "name": "python",
   "nbconvert_exporter": "python",
   "pygments_lexer": "ipython3",
   "version": "3.6.5"
  }
 },
 "nbformat": 4,
 "nbformat_minor": 2
}
