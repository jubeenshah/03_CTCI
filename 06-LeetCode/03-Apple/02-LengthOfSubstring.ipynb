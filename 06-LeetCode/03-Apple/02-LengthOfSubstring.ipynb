{
 "cells": [
  {
   "cell_type": "code",
   "execution_count": 48,
   "metadata": {},
   "outputs": [
    {
     "name": "stdout",
     "output_type": "stream",
     "text": [
      "pwwkew\n",
      "p\n",
      "pw\n",
      "w\n",
      "wk\n",
      "wke\n",
      "kew\n"
     ]
    },
    {
     "data": {
      "text/plain": [
       "3"
      ]
     },
     "execution_count": 48,
     "metadata": {},
     "output_type": "execute_result"
    }
   ],
   "source": [
    "s = \"pwwkew\"\n",
    "\n",
    "def lengthOfLongestSubstring(s):\n",
    "    print(s)\n",
    "    start, end, result = 0,0,0\n",
    "    \n",
    "    while start < len(s) and end <len(s):\n",
    "        if s[end] not in s[start:end]:\n",
    "            print(s[start:end+1])\n",
    "            end += 1\n",
    "        else:\n",
    "            start += 1\n",
    "        result = max(end-start, result)\n",
    "    return (result)\n",
    "            \n",
    "lengthOfLongestSubstring(s)"
   ]
  },
  {
   "cell_type": "code",
   "execution_count": 54,
   "metadata": {},
   "outputs": [
    {
     "name": "stdout",
     "output_type": "stream",
     "text": [
      "w\n",
      "w\n"
     ]
    },
    {
     "data": {
      "text/plain": [
       "3"
      ]
     },
     "execution_count": 54,
     "metadata": {},
     "output_type": "execute_result"
    }
   ],
   "source": [
    "def optimizedLengthOfSubstring(s):\n",
    "    returnVal = 0\n",
    "    substring = \"\"\n",
    "    for everyLetter in s:\n",
    "        if everyLetter in substring:\n",
    "            #print(everyLetter) \n",
    "            while True:\n",
    "                if substring[0] == everyLetter:\n",
    "                    substring = substring[1:]\n",
    "                    substring += everyLetter\n",
    "                    break\n",
    "                else:\n",
    "                    substring = substring[1:]\n",
    "        else:\n",
    "            substring += everyLetter\n",
    "    return max(len(substring), returnVal)\n",
    "optimizedLengthOfSubstring(s)"
   ]
  },
  {
   "cell_type": "code",
   "execution_count": null,
   "metadata": {},
   "outputs": [],
   "source": []
  }
 ],
 "metadata": {
  "kernelspec": {
   "display_name": "Python 3",
   "language": "python",
   "name": "python3"
  },
  "language_info": {
   "codemirror_mode": {
    "name": "ipython",
    "version": 3
   },
   "file_extension": ".py",
   "mimetype": "text/x-python",
   "name": "python",
   "nbconvert_exporter": "python",
   "pygments_lexer": "ipython3",
   "version": "3.6.5"
  }
 },
 "nbformat": 4,
 "nbformat_minor": 2
}
