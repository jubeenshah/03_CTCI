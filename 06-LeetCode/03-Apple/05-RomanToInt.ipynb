{
 "cells": [
  {
   "cell_type": "code",
   "execution_count": 16,
   "metadata": {},
   "outputs": [
    {
     "name": "stdout",
     "output_type": "stream",
     "text": [
      "XIX\n",
      "10\n",
      "1\n",
      "10\n"
     ]
    },
    {
     "data": {
      "text/plain": [
       "19"
      ]
     },
     "execution_count": 16,
     "metadata": {},
     "output_type": "execute_result"
    }
   ],
   "source": [
    "String = \"XIX\"\n",
    "\n",
    "def romanToInt(string):\n",
    "    print(string)\n",
    "    romanValues = {'M':1000, 'D':500, 'C': 100, 'L':50, 'X': 10, 'V':5, 'I':1}\n",
    "    rev = string[::-1]\n",
    "    result = 0\n",
    "    for index, value in enumerate(rev):\n",
    "        print(romanValues[value])\n",
    "        value = romanValues[value]\n",
    "        #print(value)\n",
    "        if index == 0:\n",
    "            result += value\n",
    "        else:\n",
    "            if romanValues[rev[index-1]] > value:\n",
    "                result -= value\n",
    "            else:\n",
    "                result += value\n",
    "    return result\n",
    "    \n",
    "romanToInt(String)"
   ]
  },
  {
   "cell_type": "code",
   "execution_count": null,
   "metadata": {},
   "outputs": [],
   "source": []
  }
 ],
 "metadata": {
  "kernelspec": {
   "display_name": "Python 3",
   "language": "python",
   "name": "python3"
  },
  "language_info": {
   "codemirror_mode": {
    "name": "ipython",
    "version": 3
   },
   "file_extension": ".py",
   "mimetype": "text/x-python",
   "name": "python",
   "nbconvert_exporter": "python",
   "pygments_lexer": "ipython3",
   "version": "3.6.5"
  }
 },
 "nbformat": 4,
 "nbformat_minor": 2
}
