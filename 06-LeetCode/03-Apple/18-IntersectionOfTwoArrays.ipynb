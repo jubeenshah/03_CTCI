{
 "cells": [
  {
   "cell_type": "code",
   "execution_count": 53,
   "metadata": {},
   "outputs": [
    {
     "name": "stdout",
     "output_type": "stream",
     "text": [
      "[1, 2] [1, 2, 3, 4]\n"
     ]
    },
    {
     "data": {
      "text/plain": [
       "[1, 2]"
      ]
     },
     "execution_count": 53,
     "metadata": {},
     "output_type": "execute_result"
    }
   ],
   "source": [
    "nums1 = [1,2]\n",
    "nums2 = [3,1,1,1,2,2,3,4]\n",
    "import collections\n",
    "def intersect(nums1,nums2):\n",
    "    tempDict1 = collections.Counter(nums1)\n",
    "    tempDict2 = collections.Counter(nums2)\n",
    "    list1 = sorted(tempDict1.keys())\n",
    "    list2 = sorted(tempDict2.keys())\n",
    "    listToReturn = []\n",
    "    print(list1,list2)\n",
    "    for i in list1:\n",
    "        if i in list2:\n",
    "            listToReturn.append(i)\n",
    "   \n",
    "                \n",
    "    return (listToReturn)\n",
    "\n",
    "intersect(nums1,nums2)"
   ]
  },
  {
   "cell_type": "code",
   "execution_count": 56,
   "metadata": {},
   "outputs": [
    {
     "name": "stdout",
     "output_type": "stream",
     "text": [
      "[1, 2] [1, 1, 1, 2, 2, 3, 3, 4]\n"
     ]
    },
    {
     "data": {
      "text/plain": [
       "[1, 1, 1, 2, 2]"
      ]
     },
     "execution_count": 56,
     "metadata": {},
     "output_type": "execute_result"
    }
   ],
   "source": [
    "nums1 = [1,2]\n",
    "nums2 = [3,1,1,1,2,2,3,4]\n",
    "import collections\n",
    "def intersect(nums1,nums2):\n",
    "    list1 = sorted(nums1)\n",
    "    list2 = sorted(nums2)\n",
    "    listToReturn = []\n",
    "    print(list1,list2)\n",
    "    if len(list1) >= len(list2):\n",
    "        for i in list1:\n",
    "            if i in list2:\n",
    "                listToReturn.append(i)\n",
    "    else:\n",
    "        for i in list2:\n",
    "            if i in list1:\n",
    "                listToReturn.append(i)\n",
    "   \n",
    "                \n",
    "    return (listToReturn)\n",
    "\n",
    "intersect(nums1,nums2)"
   ]
  },
  {
   "cell_type": "code",
   "execution_count": null,
   "metadata": {},
   "outputs": [],
   "source": []
  }
 ],
 "metadata": {
  "kernelspec": {
   "display_name": "Python 3",
   "language": "python",
   "name": "python3"
  },
  "language_info": {
   "codemirror_mode": {
    "name": "ipython",
    "version": 3
   },
   "file_extension": ".py",
   "mimetype": "text/x-python",
   "name": "python",
   "nbconvert_exporter": "python",
   "pygments_lexer": "ipython3",
   "version": "3.6.5"
  }
 },
 "nbformat": 4,
 "nbformat_minor": 2
}
