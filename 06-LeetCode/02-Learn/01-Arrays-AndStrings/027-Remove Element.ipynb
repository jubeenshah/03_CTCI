{
 "cells": [
  {
   "cell_type": "markdown",
   "metadata": {},
   "source": [
    "# 027-Remove Element\n",
    "\n",
    "Given an array nums and a value val, remove all instances of that value in-place and return the new length.\n",
    "\n",
    "Do not allocate extra space for another array, you must do this by modifying the input array in-place with O(1) extra memory.\n",
    "\n",
    "The order of elements can be changed. It doesn't matter what you leave beyond the new length.\n",
    "\n",
    "Example 1:\n",
    "\n",
    "    Given nums = [3,2,2,3], val = 3,\n",
    "\n",
    "    Your function should return length = 2, with the first two elements of nums being 2.\n",
    "\n",
    "    It doesn't matter what you leave beyond the returned length.\n",
    "    \n",
    "Example 2:\n",
    "\n",
    "    Given nums = [0,1,2,2,3,0,4,2], val = 2,\n",
    "\n",
    "    Your function should return length = 5, with the first five elements of nums containing 0, 1, 3, 0, and 4.\n",
    "\n",
    "    Note that the order of those five elements can be arbitrary.\n",
    "\n",
    "    It doesn't matter what values are set beyond the returned length.\n",
    "    \n",
    "Clarification:\n",
    "\n",
    "Confused why the returned value is an integer but your answer is an array?\n",
    "\n",
    "Note that the input array is passed in by reference, which means modification to the input array will be known to the caller as well.\n",
    "\n",
    "Internally you can think of this:\n",
    "\n",
    "```C++\n",
    "    // nums is passed in by reference. (i.e., without making a copy)\n",
    "    int len = removeElement(nums, val);\n",
    "\n",
    "    // any modification to nums in your function would be known by the caller.\n",
    "    // using the length returned by your function, it prints the first len elements.\n",
    "    for (int i = 0; i < len; i++) {\n",
    "        print(nums[i]);\n",
    "    }```"
   ]
  },
  {
   "cell_type": "code",
   "execution_count": 6,
   "metadata": {},
   "outputs": [
    {
     "name": "stdout",
     "output_type": "stream",
     "text": [
      "1-->1\n",
      "2-->3\n",
      "2-->3\n",
      "2-->3\n",
      "2-->4\n",
      "2-->4\n",
      "3-->5\n",
      "3-->5\n",
      "3-->6\n",
      "4-->7\n",
      "4-->8\n",
      "5-->9\n",
      "5-->10\n",
      "18\n"
     ]
    },
    {
     "data": {
      "text/plain": [
       "13"
      ]
     },
     "execution_count": 6,
     "metadata": {},
     "output_type": "execute_result"
    }
   ],
   "source": [
    "nums = [1,2,2,3,4,5,6,7,5,4,3,3,2,2,2,8,9,10]\n",
    "val = 2\n",
    "def removeElement(nums, val):\n",
    "    \"\"\"\n",
    "    :type nums: List[int]\n",
    "    :type val: int\n",
    "    :rtype: int\n",
    "    \"\"\"\n",
    "    nums.sort()\n",
    "    i,k=0,0\n",
    "    for i in range(len(nums)):\n",
    "        if nums[i] != val :\n",
    "            #print(str(nums[k]) + \"-->\" +str(nums[i]) )\n",
    "            nums[k] = nums[i]\n",
    "            k+=1\n",
    "    #print(nums)\n",
    "    return k\n",
    "removeElement(nums, val)"
   ]
  },
  {
   "cell_type": "code",
   "execution_count": 3,
   "metadata": {},
   "outputs": [
    {
     "name": "stdout",
     "output_type": "stream",
     "text": [
      "18\n"
     ]
    }
   ],
   "source": []
  },
  {
   "cell_type": "code",
   "execution_count": null,
   "metadata": {},
   "outputs": [],
   "source": []
  }
 ],
 "metadata": {
  "kernelspec": {
   "display_name": "Python 3",
   "language": "python",
   "name": "python3"
  },
  "language_info": {
   "codemirror_mode": {
    "name": "ipython",
    "version": 3
   },
   "file_extension": ".py",
   "mimetype": "text/x-python",
   "name": "python",
   "nbconvert_exporter": "python",
   "pygments_lexer": "ipython3",
   "version": "3.6.5"
  }
 },
 "nbformat": 4,
 "nbformat_minor": 2
}
