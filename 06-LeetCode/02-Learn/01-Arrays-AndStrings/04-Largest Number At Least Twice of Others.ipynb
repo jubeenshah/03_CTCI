{
 "cells": [
  {
   "cell_type": "markdown",
   "metadata": {},
   "source": [
    "# Largest Number at least twice of others\n",
    "In a given integer array nums, there is always exactly one largest element.\n",
    "\n",
    "Find whether the largest element in the array is at least twice as much as every other number in the array.\n",
    "\n",
    "If it is, return the index of the largest element, otherwise return -1.\n",
    "\n",
    "Example 1:\n",
    "\n",
    "    Input: nums = [3, 6, 1, 0]\n",
    "    Output: 1\n",
    "    Explanation: 6 is the largest integer, and for every other number in the array x,\n",
    "    6 is more than twice as big as x.  The index of value 6 is 1, so we return 1.\n",
    " \n",
    "\n",
    "Example 2:\n",
    "\n",
    "    Input: nums = [1, 2, 3, 4]\n",
    "    Output: -1\n",
    "    Explanation: 4 isn't at least as big as twice the value of 3, so we return -1.\n",
    "\n",
    "\n",
    "Note:\n",
    "\n",
    "nums will have a length in the range [1, 50].\n",
    "Every nums[i] will be an integer in the range [0, 99].\n"
   ]
  },
  {
   "cell_type": "code",
   "execution_count": 34,
   "metadata": {},
   "outputs": [
    {
     "data": {
      "text/plain": [
       "3"
      ]
     },
     "execution_count": 34,
     "metadata": {},
     "output_type": "execute_result"
    }
   ],
   "source": [
    "nums = [0,0,0,2]\n",
    "def dominantIndex(nums):\n",
    "    if len(nums) == 0 : return -1\n",
    "    if len(nums) == 1 : return  1\n",
    "\n",
    "    \n",
    "    largestNum = max(nums)\n",
    "    #print(largestNum)\n",
    "    for i in range(len(nums)):\n",
    "        returnIndex = False\n",
    "        if nums[i] != 0:\n",
    "            if largestNum // nums[i] >= 2:\n",
    "                #print(largestNum//nums[i])\n",
    "                returnIndex = True\n",
    "            if largestNum == nums[i] and :\n",
    "                returnIndex = True\n",
    "        else:\n",
    "            if largestNum > 2 * 0:\n",
    "                #print(largestNum)\n",
    "                returnIndex = True\n",
    "            else:\n",
    "                returnIndex = False\n",
    "        #print(returnIndex)\n",
    "    \n",
    "    if returnIndex:\n",
    "        return nums.index(largestNum)\n",
    "    else:\n",
    "        return -1\n",
    "    \n",
    "dominantIndex(nums)"
   ]
  },
  {
   "cell_type": "code",
   "execution_count": 36,
   "metadata": {},
   "outputs": [
    {
     "name": "stdout",
     "output_type": "stream",
     "text": [
      "1.11 µs ± 24.7 ns per loop (mean ± std. dev. of 7 runs, 1000000 loops each)\n"
     ]
    }
   ],
   "source": [
    "%%timeit\n",
    "nums = [0,0,0,2]\n",
    "def dominantIndex(nums):\n",
    "    m = max(nums)\n",
    "    if all(m >= 2*x for x in nums if x != m):\n",
    "        return nums.index(m)\n",
    "    return -1\n",
    "dominantIndex(nums)"
   ]
  },
  {
   "cell_type": "code",
   "execution_count": null,
   "metadata": {},
   "outputs": [],
   "source": []
  }
 ],
 "metadata": {
  "kernelspec": {
   "display_name": "Python 3",
   "language": "python",
   "name": "python3"
  },
  "language_info": {
   "codemirror_mode": {
    "name": "ipython",
    "version": 3
   },
   "file_extension": ".py",
   "mimetype": "text/x-python",
   "name": "python",
   "nbconvert_exporter": "python",
   "pygments_lexer": "ipython3",
   "version": "3.6.5"
  }
 },
 "nbformat": 4,
 "nbformat_minor": 2
}
