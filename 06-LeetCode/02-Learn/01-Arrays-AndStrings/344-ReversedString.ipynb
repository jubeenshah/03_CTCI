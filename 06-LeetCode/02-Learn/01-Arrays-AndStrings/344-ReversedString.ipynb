{
 "cells": [
  {
   "cell_type": "markdown",
   "metadata": {},
   "source": [
    "Write a function that takes a string as input and returns the string reversed.\n",
    "\n",
    "    Example 1:\n",
    "\n",
    "    Input: \"hello\"\n",
    "    Output: \"olleh\"\n",
    "    Example 2:\n",
    "\n",
    "    Input: \"A man, a plan, a canal: Panama\"\n",
    "    Output: \"amanaP :lanac a ,nalp a ,nam A\""
   ]
  },
  {
   "cell_type": "code",
   "execution_count": 11,
   "metadata": {},
   "outputs": [
    {
     "data": {
      "text/plain": [
       "'amanaP :lanac a ,nalp a ,nam A'"
      ]
     },
     "execution_count": 11,
     "metadata": {},
     "output_type": "execute_result"
    }
   ],
   "source": [
    "s = \"A man, a plan, a canal: Panama\"\n",
    "def reverseString(s):\n",
    "    if len(s) == 0:\n",
    "        return \"\"\n",
    "    else:\n",
    "        return s[::-1]\n",
    "reverseString(s)"
   ]
  },
  {
   "cell_type": "code",
   "execution_count": null,
   "metadata": {},
   "outputs": [],
   "source": []
  },
  {
   "cell_type": "code",
   "execution_count": null,
   "metadata": {},
   "outputs": [],
   "source": []
  }
 ],
 "metadata": {
  "kernelspec": {
   "display_name": "Python 3",
   "language": "python",
   "name": "python3"
  },
  "language_info": {
   "codemirror_mode": {
    "name": "ipython",
    "version": 3
   },
   "file_extension": ".py",
   "mimetype": "text/x-python",
   "name": "python",
   "nbconvert_exporter": "python",
   "pygments_lexer": "ipython3",
   "version": "3.6.5"
  }
 },
 "nbformat": 4,
 "nbformat_minor": 2
}
