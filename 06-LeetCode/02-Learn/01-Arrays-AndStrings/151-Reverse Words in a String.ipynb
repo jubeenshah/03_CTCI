{
 "cells": [
  {
   "cell_type": "markdown",
   "metadata": {},
   "source": [
    "# 151-Reverse Words in a String\n",
    "\n",
    "Given an input string, reverse the string word by word.\n",
    "\n",
    "Example:  \n",
    "\n",
    "    Input: \"the sky is blue\",\n",
    "    Output: \"blue is sky the\".\n",
    "Note:\n",
    "\n",
    "A word is defined as a sequence of non-space characters.\n",
    "Input string may contain leading or trailing spaces. However, your reversed string should not contain leading or trailing spaces.\n",
    "\n",
    "You need to reduce multiple spaces between two words to a single space in the reversed string.\n"
   ]
  },
  {
   "cell_type": "code",
   "execution_count": 63,
   "metadata": {},
   "outputs": [
    {
     "name": "stdout",
     "output_type": "stream",
     "text": [
      "['1']\n"
     ]
    },
    {
     "data": {
      "text/plain": [
       "'1'"
      ]
     },
     "execution_count": 63,
     "metadata": {},
     "output_type": "execute_result"
    }
   ],
   "source": [
    "s = \"1 \"\n",
    "def reverseWords(s):\n",
    "    listToUse = s.strip().split()\n",
    "    \n",
    "    reversedListToUse = reversed(listToUse)\n",
    "    stringToReturn = \"\"\n",
    "    print(listToUse)\n",
    "    count = len(listToUse)\n",
    "    for word in reversedListToUse:\n",
    "        if word == \"\":\n",
    "            continue\n",
    "        stringToReturn = stringToReturn +str(word)\n",
    "        count = count - 1\n",
    "        if count > 0:\n",
    "            stringToReturn += \" \"\n",
    "    return stringToReturn\n",
    "reverseWords(s)"
   ]
  }
 ],
 "metadata": {
  "kernelspec": {
   "display_name": "Python 3",
   "language": "python",
   "name": "python3"
  },
  "language_info": {
   "codemirror_mode": {
    "name": "ipython",
    "version": 3
   },
   "file_extension": ".py",
   "mimetype": "text/x-python",
   "name": "python",
   "nbconvert_exporter": "python",
   "pygments_lexer": "ipython3",
   "version": "3.6.5"
  }
 },
 "nbformat": 4,
 "nbformat_minor": 2
}
