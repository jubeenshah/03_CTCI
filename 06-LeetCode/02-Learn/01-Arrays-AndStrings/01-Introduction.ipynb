{
 "cells": [
  {
   "cell_type": "markdown",
   "metadata": {},
   "source": [
    "# Introduction\n",
    "\n",
    "`Array` is one of the fundamental blocks in data structure. Since a `string` is just formed by an array of characters, they are both similar. Most interview questions fall into this category.\n",
    "\n",
    "In this card, we will introduce array and string. After finishing this card, you should:\n",
    "\n",
    " * Understand the differences between array and dynamic array;\n",
    " * Be familiar with basic operations in the array and dynamic array;\n",
    " * Understand multidimensional arrays and be able to use a two-dimensional array;\n",
    " * Understand the concept of string and the different features string has;\n",
    " * Be able to apply the two-pointer technique to practical problems."
   ]
  }
 ],
 "metadata": {
  "kernelspec": {
   "display_name": "Python 3",
   "language": "python",
   "name": "python3"
  },
  "language_info": {
   "codemirror_mode": {
    "name": "ipython",
    "version": 3
   },
   "file_extension": ".py",
   "mimetype": "text/x-python",
   "name": "python",
   "nbconvert_exporter": "python",
   "pygments_lexer": "ipython3",
   "version": "3.6.5"
  }
 },
 "nbformat": 4,
 "nbformat_minor": 2
}
