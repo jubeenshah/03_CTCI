{
 "cells": [
  {
   "cell_type": "markdown",
   "metadata": {},
   "source": [
    "Given a matrix of m x n elements (m rows, n columns), return all elements of the matrix in spiral order.\n",
    "\n",
    "Example 1:\n",
    "\n",
    "    Input:\n",
    "    [\n",
    "     [ 1, 2, 3 ],\n",
    "     [ 4, 5, 6 ],\n",
    "     [ 7, 8, 9 ]\n",
    "    ]\n",
    "    Output: [1,2,3,6,9,8,7,4,5]\n",
    "Example 2:\n",
    "\n",
    "    Input:\n",
    "    [\n",
    "      [1, 2, 3, 4],\n",
    "      [5, 6, 7, 8],\n",
    "      [9,10,11,12]\n",
    "    ]\n",
    "    Output: [1,2,3,4,8,12,11,10,9,5,6,7]"
   ]
  },
  {
   "cell_type": "code",
   "execution_count": 13,
   "metadata": {},
   "outputs": [
    {
     "data": {
      "text/plain": [
       "[1, 2, 3, 6, 9, 8, 7, 4, 5]"
      ]
     },
     "execution_count": 13,
     "metadata": {},
     "output_type": "execute_result"
    }
   ],
   "source": [
    "matrix = [\n",
    " [ 1, 2, 3 ],\n",
    " [ 4, 5, 6 ],\n",
    " [ 7, 8, 9 ]\n",
    "]\n",
    "def spiralOrder(matrix):\n",
    "    if not matrix:  return []\n",
    "        \n",
    "    firstRow = matrix.pop(0)\n",
    "    return list(firstRow) + self.spiralOrder(zip(*matrix)[::-1])\n",
    "spiralOrder(matrix)            "
   ]
  }
 ],
 "metadata": {
  "kernelspec": {
   "display_name": "Python 3",
   "language": "python",
   "name": "python3"
  },
  "language_info": {
   "codemirror_mode": {
    "name": "ipython",
    "version": 3
   },
   "file_extension": ".py",
   "mimetype": "text/x-python",
   "name": "python",
   "nbconvert_exporter": "python",
   "pygments_lexer": "ipython3",
   "version": "3.6.5"
  }
 },
 "nbformat": 4,
 "nbformat_minor": 2
}
