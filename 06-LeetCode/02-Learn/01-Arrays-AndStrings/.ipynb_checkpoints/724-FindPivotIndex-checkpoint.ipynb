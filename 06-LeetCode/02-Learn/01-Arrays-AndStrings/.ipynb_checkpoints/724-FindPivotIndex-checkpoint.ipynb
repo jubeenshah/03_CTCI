{
 "cells": [
  {
   "cell_type": "markdown",
   "metadata": {},
   "source": [
    "Given an array of integers nums, write a method that returns the \"pivot\" index of this array.\n",
    "\n",
    "We define the pivot index as the index where the sum of the numbers to the left of the index is equal to the sum of the numbers to the right of the index.\n",
    "\n",
    "If no such index exists, we should return -1. If there are multiple pivot indexes, you should return the left-most pivot index.\n",
    "\n",
    "Example 1:\n",
    "\n",
    "    Input: \n",
    "    nums = [1, 7, 3, 6, 5, 6]\n",
    "    Output: 3\n",
    "    Explanation: \n",
    "    The sum of the numbers to the left of index 3 (nums[3] = 6) is equal to the sum of numbers to the right of index 3.\n",
    "    Also, 3 is the first index where this occurs.\n",
    "Example 2:\n",
    "\n",
    "    Input: \n",
    "    nums = [1, 2, 3]\n",
    "    Output: -1\n",
    "    Explanation: \n",
    "    There is no index that satisfies the conditions in the problem statement.\n",
    "Note:\n",
    "\n",
    "The length of nums will be in the range [0, 10000].\n",
    "Each element nums[i] will be an integer in the range [-1000, 1000]."
   ]
  },
  {
   "cell_type": "code",
   "execution_count": 35,
   "metadata": {},
   "outputs": [
    {
     "data": {
      "text/plain": [
       "3"
      ]
     },
     "execution_count": 35,
     "metadata": {},
     "output_type": "execute_result"
    }
   ],
   "source": [
    "nums =  [1, 7, 3, 6, 5, 6]\n",
    "#.       0. 1. 2. 3. 4. 5  \n",
    "#.        \n",
    "\n",
    "def findPivotIndex(nums):\n",
    "    if len(nums) == 0: return -1\n",
    "    elif len(nums) == 1: return 0\n",
    "    \n",
    "    leftSum = 0\n",
    "    totalSum = sum(nums)\n",
    "    for i in range(len(nums)):\n",
    "        if leftSum == totalSum - leftSum - nums[i]:\n",
    "            return i\n",
    "        leftSum += nums[i]\n",
    "    return -1\n",
    "findPivotIndex(nums=nums)"
   ]
  },
  {
   "cell_type": "code",
   "execution_count": 38,
   "metadata": {},
   "outputs": [
    {
     "name": "stdout",
     "output_type": "stream",
     "text": [
      "1.09 µs ± 53.9 ns per loop (mean ± std. dev. of 7 runs, 1000000 loops each)\n"
     ]
    }
   ],
   "source": [
    "%%timeit\n",
    "def pivotIndex(self, nums):\n",
    "    # Time: O(n)\n",
    "    # Space: O(1)\n",
    "    left, right = 0, sum(nums)\n",
    "    for index, num in enumerate(nums):\n",
    "        right -= num\n",
    "        if left == right:\n",
    "            return index\n",
    "        left += num\n",
    "    return -1\n",
    "findPivotIndex(nums=nums)\n"
   ]
  },
  {
   "cell_type": "code",
   "execution_count": null,
   "metadata": {},
   "outputs": [],
   "source": []
  }
 ],
 "metadata": {
  "kernelspec": {
   "display_name": "Python 3",
   "language": "python",
   "name": "python3"
  },
  "language_info": {
   "codemirror_mode": {
    "name": "ipython",
    "version": 3
   },
   "file_extension": ".py",
   "mimetype": "text/x-python",
   "name": "python",
   "nbconvert_exporter": "python",
   "pygments_lexer": "ipython3",
   "version": "3.6.5"
  }
 },
 "nbformat": 4,
 "nbformat_minor": 2
}
