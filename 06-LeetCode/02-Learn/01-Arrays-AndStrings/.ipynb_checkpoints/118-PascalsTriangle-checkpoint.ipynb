{
 "cells": [
  {
   "cell_type": "markdown",
   "metadata": {},
   "source": [
    "Given a non-negative integer numRows, generate the first numRows of Pascal's triangle.\n",
    "\n",
    "![Pascals Triangle](../../99-resource/PascalTriangleAnimated2.gif)\n",
    "\n",
    "In Pascal's triangle, each number is the sum of the two numbers directly above it\n",
    "\n",
    "Example:\n",
    "\n",
    "    Input: 5\n",
    "    Output:\n",
    "    [\n",
    "         [1],\n",
    "        [1,1],\n",
    "       [1,2,1],\n",
    "      [1,3,3,1],\n",
    "     [1,4,6,4,1]\n",
    "    ]"
   ]
  },
  {
   "cell_type": "code",
   "execution_count": 2,
   "metadata": {},
   "outputs": [
    {
     "name": "stdout",
     "output_type": "stream",
     "text": [
      "1\n"
     ]
    }
   ],
   "source": [
    "numRows = input()"
   ]
  },
  {
   "cell_type": "code",
   "execution_count": 74,
   "metadata": {},
   "outputs": [
    {
     "data": {
      "text/plain": [
       "[[1],\n",
       " [1, 1],\n",
       " [1, 2, 1],\n",
       " [1, 3, 3, 1],\n",
       " [1, 4, 6, 4, 1],\n",
       " [1, 5, 10, 10, 5, 1],\n",
       " [1, 6, 15, 20, 15, 6, 1],\n",
       " [1, 7, 21, 35, 35, 21, 7, 1],\n",
       " [1, 8, 28, 56, 70, 56, 28, 8, 1],\n",
       " [1, 9, 36, 84, 126, 126, 84, 36, 9, 1],\n",
       " [1, 10, 45, 120, 210, 252, 210, 120, 45, 10, 1],\n",
       " [1, 11, 55, 165, 330, 462, 462, 330, 165, 55, 11, 1],\n",
       " [1, 12, 66, 220, 495, 792, 924, 792, 495, 220, 66, 12, 1],\n",
       " [1, 13, 78, 286, 715, 1287, 1716, 1716, 1287, 715, 286, 78, 13, 1],\n",
       " [1, 14, 91, 364, 1001, 2002, 3003, 3432, 3003, 2002, 1001, 364, 91, 14, 1]]"
      ]
     },
     "execution_count": 74,
     "metadata": {},
     "output_type": "execute_result"
    }
   ],
   "source": [
    "\n",
    "def generate(numRows):\n",
    "    if numRows == 0: return []\n",
    "    listToReturn = []\n",
    "    line = 1\n",
    "    while line <= numRows:\n",
    "        C = 1\n",
    "        i = 1\n",
    "        listInThisRow = list()\n",
    "        while i <= line:\n",
    "            listInThisRow.append(C)\n",
    "            C = C * (line - i) // i\n",
    "            i += 1\n",
    "        line += 1\n",
    "        listToReturn.append(listInThisRow)\n",
    "    return listToReturn\n",
    "generate(15) \n"
   ]
  },
  {
   "cell_type": "code",
   "execution_count": null,
   "metadata": {},
   "outputs": [],
   "source": []
  }
 ],
 "metadata": {
  "kernelspec": {
   "display_name": "Python 3",
   "language": "python",
   "name": "python3"
  },
  "language_info": {
   "codemirror_mode": {
    "name": "ipython",
    "version": 3
   },
   "file_extension": ".py",
   "mimetype": "text/x-python",
   "name": "python",
   "nbconvert_exporter": "python",
   "pygments_lexer": "ipython3",
   "version": "3.6.5"
  }
 },
 "nbformat": 4,
 "nbformat_minor": 2
}
