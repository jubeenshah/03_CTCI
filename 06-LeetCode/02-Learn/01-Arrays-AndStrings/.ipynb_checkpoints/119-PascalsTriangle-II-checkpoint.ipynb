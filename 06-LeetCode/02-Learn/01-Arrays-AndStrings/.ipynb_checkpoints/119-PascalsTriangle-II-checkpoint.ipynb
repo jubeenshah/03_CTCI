{
 "cells": [
  {
   "cell_type": "markdown",
   "metadata": {},
   "source": [
    "# 119-Pascal's Triangle II\n",
    "\n",
    "Given a non-negative index k where k ≤ 33, return the kth index row of the Pascal's triangle.\n",
    "\n",
    "Note that the row index starts from 0.\n",
    "\n",
    "![Pascals Triangle](../../99-resource/PascalTriangleAnimated2.gif)\n",
    "\n",
    "In Pascal's triangle, each number is the sum of the two numbers directly above it.\n",
    "\n",
    "Example:\n",
    "\n",
    "    Input: 3\n",
    "    Output: [1,3,3,1]\n",
    "Follow up:\n",
    "\n",
    "Could you optimize your algorithm to use only O(k) extra space?\n"
   ]
  },
  {
   "cell_type": "markdown",
   "metadata": {},
   "source": [
    "            0 -----------> 0\n",
    "           0 1 ----------> 0, 0\n",
    "          0 1 2 ---------> 0, 0 + 1, 0 \n",
    "         0 1 2 3 --------> 0, 0 + 1, 1 + 2, 0\n",
    "        0 1 2 3 4 -------> 0, 0 + 1, 1 + 2, 2 + 3, 0\n",
    "       0 1 2 3 4 5 ------> 0, 0 + 1, 1 + 2, 2 + 3, 3 + 4, 0\n",
    "      0 1 2 3 4 5 6 -----> 0, 0 + 1, 1 + 2, 2 + 3, 3 + 4, 4 + 5, 0"
   ]
  },
  {
   "cell_type": "code",
   "execution_count": 5,
   "metadata": {},
   "outputs": [
    {
     "data": {
      "text/plain": [
       "[1, 7, 21, 35, 35, 21, 7, 1]"
      ]
     },
     "execution_count": 5,
     "metadata": {},
     "output_type": "execute_result"
    }
   ],
   "source": [
    "def getRow(rowIndex):\n",
    "    L = [1]\n",
    "    for i in range(rowIndex):\n",
    "        L = [1] + [L[i] + L[i+1] for i in range(len(L)-1)] + [1]\n",
    "    return L\n",
    "getRow(7)\n",
    "    "
   ]
  }
 ],
 "metadata": {
  "kernelspec": {
   "display_name": "Python 3",
   "language": "python",
   "name": "python3"
  },
  "language_info": {
   "codemirror_mode": {
    "name": "ipython",
    "version": 3
   },
   "file_extension": ".py",
   "mimetype": "text/x-python",
   "name": "python",
   "nbconvert_exporter": "python",
   "pygments_lexer": "ipython3",
   "version": "3.6.5"
  }
 },
 "nbformat": 4,
 "nbformat_minor": 2
}
