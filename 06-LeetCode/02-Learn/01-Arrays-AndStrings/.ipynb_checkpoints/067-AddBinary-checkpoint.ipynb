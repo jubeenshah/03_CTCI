{
 "cells": [
  {
   "cell_type": "markdown",
   "metadata": {},
   "source": [
    "# Add Binary\n",
    "Given two binary strings, return their sum (also a binary string).\n",
    "\n",
    "The input strings are both non-empty and contains only characters 1 or 0.\n",
    "\n",
    "    Example 1:\n",
    "\n",
    "    Input: a = \"11\", b = \"1\"\n",
    "    Output: \"100\"\n",
    "    \n",
    "    Example 2:\n",
    "\n",
    "    Input: a = \"1010\", b = \"1011\"\n",
    "    Output: \"10101\""
   ]
  },
  {
   "cell_type": "code",
   "execution_count": 59,
   "metadata": {},
   "outputs": [
    {
     "data": {
      "text/plain": [
       "'10101'"
      ]
     },
     "execution_count": 59,
     "metadata": {},
     "output_type": "execute_result"
    }
   ],
   "source": [
    "a = \"1010\"\n",
    "b = \"1011\"\n",
    "def addBinary(a, b):\n",
    "    a = list(a)\n",
    "    b = list(b)\n",
    "\n",
    "    if len(a) > len(b):\n",
    "        while len(a) > len(b):\n",
    "            b.insert(0,\"0\")\n",
    "    elif len(a) < len(b):\n",
    "        while len(a) < len(b):\n",
    "            a.insert(0,\"0\")\n",
    "    #print(a)\n",
    "    #print()\n",
    "    #print(b)\n",
    "    \"\"\"\n",
    "    count = 0\n",
    "    intValue = 0\n",
    "    for char in reversed(a):\n",
    "        intValue += 2**count *int(char)\n",
    "        count += 1\n",
    "    print(intValue)\n",
    "    \"\"\" \n",
    "    count = 0\n",
    "    intValueA, intValueB = 0, 0\n",
    "    for i in reversed(range(len(a))):\n",
    "        intValueA += 2**count * int(a[i])\n",
    "        intValueB += 2**count * int(b[i])\n",
    "        count += 1   \n",
    "    sumOfValue = intValueA + intValueB\n",
    "    if sumOfValue == 0:\n",
    "        return \"0\"\n",
    "    string = list()\n",
    "    while sumOfValue > 0:\n",
    "        temp = sumOfValue % 2\n",
    "        sumOfValue = sumOfValue // 2\n",
    "        string.insert(0,str(temp))\n",
    "\n",
    "    stringToReturn = \"\"\n",
    "    for char in string:\n",
    "        stringToReturn += char\n",
    "\n",
    "    return stringToReturn\n",
    "    \n",
    "addBinary(a,b)"
   ]
  },
  {
   "cell_type": "code",
   "execution_count": null,
   "metadata": {},
   "outputs": [],
   "source": []
  }
 ],
 "metadata": {
  "kernelspec": {
   "display_name": "Python 3",
   "language": "python",
   "name": "python3"
  },
  "language_info": {
   "codemirror_mode": {
    "name": "ipython",
    "version": 3
   },
   "file_extension": ".py",
   "mimetype": "text/x-python",
   "name": "python",
   "nbconvert_exporter": "python",
   "pygments_lexer": "ipython3",
   "version": "3.6.5"
  }
 },
 "nbformat": 4,
 "nbformat_minor": 2
}
