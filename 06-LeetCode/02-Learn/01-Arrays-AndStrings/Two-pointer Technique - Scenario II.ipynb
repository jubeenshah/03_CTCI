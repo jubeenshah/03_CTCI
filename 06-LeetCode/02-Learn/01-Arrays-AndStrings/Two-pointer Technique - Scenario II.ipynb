{
 "cells": [
  {
   "cell_type": "markdown",
   "metadata": {},
   "source": [
    " # Two-pointer Technique - Scenario II\n",
    " \n",
    " An Example\n",
    "Let's start with another classic problem:\n",
    "\n",
    "Given an array and a value, remove all instances of that value in-place and return the new length.\n",
    "If we don't have the limitation of space complexity, it will be easier. We can initialize a new array to store the answer. Iterate the original array and add the element to the new array if the element is not equal to the given target value.\n",
    "\n",
    "Actually, it is equivalent to using two pointers, one is used for the iteration of the original array and another one always points at the last position of the new array.\n",
    "\n",
    "\n",
    "\n",
    "Reconsider the Space Limitation\n",
    "Now let's reconsider the space limitation.\n",
    "\n",
    "We can use a similar strategy. We still use two pointers: one is still used for the iteration while the second one always points at the position for next addition.\n",
    "\n",
    "Here is the code for your reference:\n",
    "\n",
    " ```C++\n",
    " public int removeElement(int[] nums, int val) {\n",
    "    int k = 0;\n",
    "    for (int i = 0; i < nums.length; ++i) {\n",
    "        if (nums[i] != val) {\n",
    "            nums[k] = nums[i];\n",
    "            k++;\n",
    "        }\n",
    "    }\n",
    "    return k;\n",
    "}\n",
    "```\n",
    "\n",
    "\n",
    "We use two pointers, one faster-runner i and one slower-runner k, in the example above. i moves one step each time while k moves one step only if a new needed value is added.\n",
    "\n",
    " \n",
    "\n",
    "Summary\n",
    "This is a very common scenario of using the two-pointer technique when you need:\n",
    "\n",
    "One slow-runner and one fast-runner at the same time.\n",
    "The key to solving this kind of problems is to\n",
    "\n",
    "Determine the movement strategy for both pointers.\n",
    "Similar to the previous scenario, you might sometimes need to sort the array before using the two-pointer technique. And you might need a greedy thought to determine your movement strategy."
   ]
  },
  {
   "cell_type": "code",
   "execution_count": 7,
   "metadata": {},
   "outputs": [
    {
     "name": "stdout",
     "output_type": "stream",
     "text": [
      "1-->1\n",
      "2-->3\n",
      "2-->3\n",
      "2-->3\n",
      "2-->4\n",
      "2-->4\n",
      "3-->5\n",
      "3-->5\n",
      "3-->6\n",
      "4-->7\n",
      "4-->8\n",
      "5-->9\n",
      "5-->10\n",
      "[1, 3, 3, 3, 4, 4, 5, 5, 6, 7, 8, 9, 10, 6, 7, 8, 9, 10]\n"
     ]
    },
    {
     "data": {
      "text/plain": [
       "13"
      ]
     },
     "execution_count": 7,
     "metadata": {},
     "output_type": "execute_result"
    }
   ],
   "source": [
    "nums = [1,2,2,3,4,5,6,7,5,4,3,3,2,2,2,8,9,10]\n",
    "\n",
    "val = 2\n",
    "def removeElement(nums, val):\n",
    "    i,k = 0, 0\n",
    "    nums.sort()\n",
    "    for i in range(len(nums)):\n",
    "        if nums[i] != val:\n",
    "            print(str(nums[k]) + \"-->\" +str(nums[i]) )\n",
    "            nums[k] = nums[i]\n",
    "            k+=1\n",
    "    print(nums)\n",
    "    return k\n",
    "removeElement(nums, val)"
   ]
  },
  {
   "cell_type": "code",
   "execution_count": 10,
   "metadata": {},
   "outputs": [
    {
     "name": "stdout",
     "output_type": "stream",
     "text": [
      "[1, 2, 2, 2, 2, 2, 3, 3, 3, 4, 4, 5, 5, 6, 7, 8, 9, 10]\n"
     ]
    }
   ],
   "source": []
  },
  {
   "cell_type": "code",
   "execution_count": null,
   "metadata": {},
   "outputs": [],
   "source": []
  }
 ],
 "metadata": {
  "kernelspec": {
   "display_name": "Python 3",
   "language": "python",
   "name": "python3"
  },
  "language_info": {
   "codemirror_mode": {
    "name": "ipython",
    "version": 3
   },
   "file_extension": ".py",
   "mimetype": "text/x-python",
   "name": "python",
   "nbconvert_exporter": "python",
   "pygments_lexer": "ipython3",
   "version": "3.6.5"
  }
 },
 "nbformat": 4,
 "nbformat_minor": 2
}
