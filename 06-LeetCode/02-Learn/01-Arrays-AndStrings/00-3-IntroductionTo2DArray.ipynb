{
 "cells": [
  {
   "cell_type": "markdown",
   "metadata": {},
   "source": [
    "# Introduction to 2d Array\n",
    "\n",
    "Similar to a `one-dimensional array`, a `two-dimensional` array also consists of a sequence of elements. But the elements can be laid out in a `rectangular grid` rather than a line.\n",
    "\n",
    "```c++\n",
    "#include <iostream>\n",
    "\n",
    "template <size_t n, size_t m>\n",
    "void printArray(int (&a)[n][m]) {\n",
    "    for (int i = 0; i < n; ++i) {\n",
    "        for (int j = 0; j < m; ++j) {\n",
    "            cout << a[i][j] << \" \";\n",
    "        }\n",
    "        cout << endl;\n",
    "    }\n",
    "}\n",
    "\n",
    "int main() {\n",
    "    cout << \"Example I:\" << endl;\n",
    "    int a[2][5];\n",
    "    printArray(a);\n",
    "    cout << \"Example II:\" << endl;\n",
    "    int b[2][5] = {{1, 2, 3}};\n",
    "    printArray(b);\n",
    "    cout << \"Example III:\"<< endl;\n",
    "    int c[][5] = {1, 2, 3, 4, 5, 6, 7};\n",
    "    printArray(c);\n",
    "    cout << \"Example IV:\" << endl;\n",
    "    int d[][5] = {{1, 2, 3, 4}, {5, 6}, {7}};\n",
    "    printArray(d);\n",
    "}\n",
    "\n",
    "```\n",
    "\n",
    "\n"
   ]
  },
  {
   "cell_type": "markdown",
   "metadata": {},
   "source": [
    "## Principle\n",
    "\n",
    "In some languages, the multidimensional array is actually implemented internally as a one-dimensional array while in some other languages, there is actually no multidimensional array at all.\n",
    "\n",
    " * C++ stores the two-dimensional array as a one-dimensional array.\n",
    " * In Java, the two-dimensional array is actually a one-dimensional array which contains M elements, each of which is an array of N integers.\n",
    " \n",
    " \n",
    "## Dynamic 2D Array\n",
    "\n",
    " * Similar to the one-dimensional dynamic array, we can also define a dynamic two-dimensional array. Actually, it can be just a nested dynamic array.\n",
    " "
   ]
  }
 ],
 "metadata": {
  "kernelspec": {
   "display_name": "Python 3",
   "language": "python",
   "name": "python3"
  },
  "language_info": {
   "codemirror_mode": {
    "name": "ipython",
    "version": 3
   },
   "file_extension": ".py",
   "mimetype": "text/x-python",
   "name": "python",
   "nbconvert_exporter": "python",
   "pygments_lexer": "ipython3",
   "version": "3.6.5"
  }
 },
 "nbformat": 4,
 "nbformat_minor": 2
}
