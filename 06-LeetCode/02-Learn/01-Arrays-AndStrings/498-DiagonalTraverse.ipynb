{
 "cells": [
  {
   "cell_type": "markdown",
   "metadata": {},
   "source": [
    "# Diagonal Traverse\n",
    "\n",
    "Given a matrix of M x N elements (M rows, N columns), return all elements of the matrix in diagonal order as shown in the below image.\n",
    "\n",
    "    Input:\n",
    "    [\n",
    "     [ 1, 2, 3 ],\n",
    "     [ 4, 5, 6 ],\n",
    "     [ 7, 8, 9 ]\n",
    "    ]\n",
    "    Output:  [1,2,4,7,5,3,6,8,9]\n",
    "Explanation:\n",
    "\n",
    "![Diagonal Traverse](../../99-resource/diagonal_traverse.png)"
   ]
  },
  {
   "cell_type": "code",
   "execution_count": 29,
   "metadata": {},
   "outputs": [
    {
     "name": "stdout",
     "output_type": "stream",
     "text": [
      "0 0\n",
      "0 1\n",
      "1 0\n",
      "2 0\n",
      "1 1\n",
      "0 2\n",
      "1 2\n",
      "2 1\n",
      "2 2\n"
     ]
    },
    {
     "data": {
      "text/plain": [
       "[1, 2, 4, 7, 5, 3, 6, 8, 9]"
      ]
     },
     "execution_count": 29,
     "metadata": {},
     "output_type": "execute_result"
    }
   ],
   "source": [
    "matrix = [\n",
    " [ 1, 2, 3 ],\n",
    " [ 4, 5, 6 ], \n",
    " [ 7, 8, 9 ] \n",
    "]\n",
    "def findDiagonalOrder(matrix):\n",
    "    #len(matrix) --> Rows\n",
    "    #len(matrix[0]) --> collumn\n",
    "    if not matrix or not matrix[0]:\n",
    "            return []\n",
    "    i = 0\n",
    "    j = 0\n",
    "    row = len(matrix)\n",
    "    col = len(matrix[0])\n",
    "    returnValues = []\n",
    "    signal = 0\n",
    "    while i < row and j < col:\n",
    "        returnValues.append(matrix[i][j])\n",
    "        print(i,j)\n",
    "        if signal == 0: \n",
    "            if j == col - 1:\n",
    "                i += 1\n",
    "                signal = 1\n",
    "                continue\n",
    "            if i == 0:\n",
    "                j += 1\n",
    "                signal = 1\n",
    "                continue\n",
    "            i -= 1\n",
    "            j += 1\n",
    "        else:\n",
    "            if i == row - 1:\n",
    "                j += 1\n",
    "                signal = 0\n",
    "                continue\n",
    "            if j == 0:\n",
    "                i += 1\n",
    "                signal = 0\n",
    "                continue\n",
    "            i += 1\n",
    "            j -= 1\n",
    "            \n",
    "    return returnValues\n",
    "                \n",
    "findDiagonalOrder(matrix)"
   ]
  },
  {
   "cell_type": "code",
   "execution_count": 24,
   "metadata": {},
   "outputs": [
    {
     "data": {
      "text/plain": [
       "[1, 2]"
      ]
     },
     "execution_count": 24,
     "metadata": {},
     "output_type": "execute_result"
    }
   ],
   "source": [
    "matrix2 = [\n",
    " [ 1, 2, 3 ],\n",
    " [ 4, 5, 6 ], \n",
    " [ 7, 8, 9 ] \n",
    "]\n",
    "def findDiagonalOrder2(matrix):\n",
    "        \"\"\"\n",
    "        :type matrix: List[List[int]]\n",
    "        :rtype: List[int]\n",
    "        \"\"\"\n",
    "        if not matrix or not matrix[0]:\n",
    "            return []\n",
    "        i = 0\n",
    "        j = 0\n",
    "        row = len(matrix)\n",
    "        col = len(matrix[0])\n",
    "        res = []\n",
    "        signal = 0\n",
    "        while i < row and j < col:\n",
    "            res.append(matrix[i][j])\n",
    "            if signal == 0:\n",
    "                if j == col - 1:\n",
    "                    i += 1\n",
    "                    signal = 1\n",
    "                    continue\n",
    "                if i == 0:\n",
    "                    j += 1\n",
    "                    signal = 1\n",
    "                    continue\n",
    "                i -= 1\n",
    "                j += 1\n",
    "            else:\n",
    "                if i == row - 1:\n",
    "                    j += 1\n",
    "                    signal = 0\n",
    "                    continue\n",
    "                if j == 0:\n",
    "                    i += 1\n",
    "                    signal = 0\n",
    "                    continue\n",
    "                i += 1\n",
    "                j -= 1\n",
    "        return res\n",
    "findDiagonalOrder2(matrix2)"
   ]
  },
  {
   "cell_type": "code",
   "execution_count": null,
   "metadata": {},
   "outputs": [],
   "source": []
  }
 ],
 "metadata": {
  "kernelspec": {
   "display_name": "Python 3",
   "language": "python",
   "name": "python3"
  },
  "language_info": {
   "codemirror_mode": {
    "name": "ipython",
    "version": 3
   },
   "file_extension": ".py",
   "mimetype": "text/x-python",
   "name": "python",
   "nbconvert_exporter": "python",
   "pygments_lexer": "ipython3",
   "version": "3.6.5"
  }
 },
 "nbformat": 4,
 "nbformat_minor": 2
}
