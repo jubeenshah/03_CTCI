{
 "cells": [
  {
   "cell_type": "markdown",
   "metadata": {},
   "source": [
    "# 485-Max Consecutive Ones\n",
    "\n",
    "\n",
    "Given a binary array, find the maximum number of consecutive 1s in this array.\n",
    "\n",
    "Example 1:\n",
    "\n",
    "    Input: [1,1,0,1,1,1]\n",
    "    Output: 3\n",
    "    Explanation: The first two digits or the last three digits are consecutive 1s.\n",
    "        The maximum number of consecutive 1s is 3.\n",
    "Note:\n",
    "\n",
    "The input array will only contain 0 and 1.\n",
    "The length of input array is a positive integer and will not exceed 10,000"
   ]
  },
  {
   "cell_type": "code",
   "execution_count": 6,
   "metadata": {},
   "outputs": [
    {
     "data": {
      "text/plain": [
       "7"
      ]
     },
     "execution_count": 6,
     "metadata": {},
     "output_type": "execute_result"
    }
   ],
   "source": [
    "nums = [0,0,0,1,1,1,1,1,1,1,0,1,1,1]\n",
    "def findMaxConsecutiveOnes(nums):\n",
    "    count = 0\n",
    "    maxCount = 0\n",
    "    for i in nums:\n",
    "        if i == 1:\n",
    "            count+=1\n",
    "            if count > maxCount:\n",
    "                maxCount = count\n",
    "        if i == 0:\n",
    "            count = 0\n",
    "    return maxCount\n",
    "\n",
    "findMaxConsecutiveOnes(nums)"
   ]
  },
  {
   "cell_type": "code",
   "execution_count": null,
   "metadata": {},
   "outputs": [],
   "source": []
  }
 ],
 "metadata": {
  "kernelspec": {
   "display_name": "Python 3",
   "language": "python",
   "name": "python3"
  },
  "language_info": {
   "codemirror_mode": {
    "name": "ipython",
    "version": 3
   },
   "file_extension": ".py",
   "mimetype": "text/x-python",
   "name": "python",
   "nbconvert_exporter": "python",
   "pygments_lexer": "ipython3",
   "version": "3.6.5"
  }
 },
 "nbformat": 4,
 "nbformat_minor": 2
}
