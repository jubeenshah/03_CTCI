{
 "cells": [
  {
   "cell_type": "code",
   "execution_count": 8,
   "metadata": {
    "scrolled": true
   },
   "outputs": [
    {
     "data": {
      "text/plain": [
       "1"
      ]
     },
     "execution_count": 8,
     "metadata": {},
     "output_type": "execute_result"
    }
   ],
   "source": [
    "class Solution:\n",
    "    def kthGrammar(self, N: int, K: int) -> int:\n",
    "        if N==1:\n",
    "            return 0\n",
    "        half=2**(N-2)\n",
    "        if K<=half:\n",
    "            return self.kthGrammar(N-1,K)\n",
    "        else:\n",
    "            res=self.kthGrammar(N-1,K-half)\n",
    "            if res==0:\n",
    "                return 1\n",
    "            else:\n",
    "                return 0 \n",
    "    \n",
    "checkTest = Solution()\n",
    "checkTest.kthGrammar(4,5)"
   ]
  },
  {
   "cell_type": "code",
   "execution_count": 14,
   "metadata": {},
   "outputs": [
    {
     "name": "stdout",
     "output_type": "stream",
     "text": [
      "0 01\n",
      "01 0110\n",
      "0110 01101001\n",
      "01101001 0110100110010110\n",
      "0110100110010110 01101001100101101001011001101001\n"
     ]
    }
   ],
   "source": [
    "dictionary = {}\n",
    "def gen(string):\n",
    "    result = \"\"\n",
    "    if string in dictionary:\n",
    "        return dictionary[string]\n",
    "    else:\n",
    "        for eachletter in string:\n",
    "\n",
    "            if eachletter == \"0\":\n",
    "                result += \"01\"\n",
    "            elif eachletter == \"1\":\n",
    "                result += \"10\"\n",
    "        dictionary[string] = result\n",
    "        return (result)\n",
    "string = \"0\"\n",
    "for i in range(0,5):\n",
    "    string = gen(string)\n",
    "    #print(string)\n",
    "    \n",
    "for i,v in enumerate(dictionary):\n",
    "    print(v, dictionary[v])"
   ]
  },
  {
   "cell_type": "code",
   "execution_count": null,
   "metadata": {},
   "outputs": [],
   "source": []
  }
 ],
 "metadata": {
  "kernelspec": {
   "display_name": "Python 3",
   "language": "python",
   "name": "python3"
  },
  "language_info": {
   "codemirror_mode": {
    "name": "ipython",
    "version": 3
   },
   "file_extension": ".py",
   "mimetype": "text/x-python",
   "name": "python",
   "nbconvert_exporter": "python",
   "pygments_lexer": "ipython3",
   "version": "3.6.5"
  }
 },
 "nbformat": 4,
 "nbformat_minor": 2
}
