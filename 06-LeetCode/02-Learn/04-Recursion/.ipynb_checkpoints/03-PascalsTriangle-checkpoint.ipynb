{
 "cells": [
  {
   "cell_type": "markdown",
   "metadata": {},
   "source": [
    "Given a non-negative integer numRows, generate the first numRows of Pascal's triangle."
   ]
  },
  {
   "cell_type": "markdown",
   "metadata": {},
   "source": [
    "```\n",
    "Input: 5\n",
    "Output:\n",
    "[\n",
    "     [1],\n",
    "    [1,1],\n",
    "   [1,2,1],\n",
    "  [1,3,3,1],\n",
    " [1,4,6,4,1]\n",
    "]\n",
    "```"
   ]
  },
  {
   "cell_type": "code",
   "execution_count": 35,
   "metadata": {},
   "outputs": [
    {
     "name": "stdout",
     "output_type": "stream",
     "text": [
      "                                                 1                                                  \n",
      "\n",
      "                                                1 1                                                 \n",
      "\n",
      "                                               1 2 1                                                \n",
      "\n",
      "                                              1 3 3 1                                               \n",
      "\n",
      "                                             1 4 6 4 1                                              \n",
      "\n",
      "                                           1 5 10 10 5 1                                            \n",
      "\n",
      "                                          1 6 15 20 15 6 1                                          \n",
      "\n",
      "                                        1 7 21 35 35 21 7 1                                         \n",
      "\n",
      "                                       1 8 28 56 70 56 28 8 1                                       \n",
      "\n",
      "                                    1 9 36 84 126 126 84 36 9 1                                     \n",
      "\n"
     ]
    }
   ],
   "source": [
    "numRows = 10\n",
    "def pascalsTriangle(numRows):\n",
    "    result = [[1]]\n",
    "    for i in range(1,numRows):\n",
    "        result = result + [list(map(lambda x,y: x+y, result[-1]+ [0],[0]+ result[-1] ))]\n",
    "    return result[:numRows]\n",
    "def draw(n):\n",
    "    for p in pascalsTriangle(n):\n",
    "        print(' '.join(map(str,p)).center(n*n)+'\\n')\n",
    "draw(numRows)"
   ]
  },
  {
   "cell_type": "code",
   "execution_count": 46,
   "metadata": {},
   "outputs": [
    {
     "name": "stdout",
     "output_type": "stream",
     "text": [
      "[1, 15, 105, 455, 1365, 3003, 5005, 6435, 6435, 5005, 3003, 1365, 455, 105, 15, 1]\n"
     ]
    }
   ],
   "source": [
    "def pascalsTriangleII(rowIndex):\n",
    "    result = [[1]]\n",
    "    for i in range(1,rowIndex+1):\n",
    "        result += [list(map(lambda x,y: x+y , result[-1]+[0],[0]+result[-1]))]\n",
    "    print(result[rowIndex])\n",
    "pascalsTriangleII(15)"
   ]
  },
  {
   "cell_type": "code",
   "execution_count": null,
   "metadata": {},
   "outputs": [],
   "source": []
  }
 ],
 "metadata": {
  "kernelspec": {
   "display_name": "Python 3",
   "language": "python",
   "name": "python3"
  },
  "language_info": {
   "codemirror_mode": {
    "name": "ipython",
    "version": 3
   },
   "file_extension": ".py",
   "mimetype": "text/x-python",
   "name": "python",
   "nbconvert_exporter": "python",
   "pygments_lexer": "ipython3",
   "version": "3.6.5"
  }
 },
 "nbformat": 4,
 "nbformat_minor": 2
}
