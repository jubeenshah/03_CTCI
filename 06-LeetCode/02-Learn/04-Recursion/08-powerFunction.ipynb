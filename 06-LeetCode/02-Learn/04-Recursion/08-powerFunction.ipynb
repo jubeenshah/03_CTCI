{
 "cells": [
  {
   "cell_type": "markdown",
   "metadata": {},
   "source": [
    "Implement pow(x, n), which calculates x raised to the power n (xn).\n",
    "\n",
    "```\n",
    "Example 1:\n",
    "\n",
    "Input: 2.00000, 10\n",
    "Output: 1024.00000\n",
    "Example 2:\n",
    "\n",
    "Input: 2.10000, 3\n",
    "Output: 9.26100\n",
    "Example 3:\n",
    "\n",
    "Input: 2.00000, -2\n",
    "Output: 0.25000\n",
    "Explanation: 2-2 = 1/22 = 1/4 = 0.25\n",
    "```"
   ]
  },
  {
   "cell_type": "code",
   "execution_count": 50,
   "metadata": {},
   "outputs": [
    {
     "name": "stdout",
     "output_type": "stream",
     "text": [
      "1\n",
      "2.1\n",
      "4.41\n"
     ]
    },
    {
     "data": {
      "text/plain": [
       "9.261000000000001"
      ]
     },
     "execution_count": 50,
     "metadata": {},
     "output_type": "execute_result"
    }
   ],
   "source": [
    "class Solution:\n",
    "    def myPow(self, x: float, n: int) -> float:\n",
    "        if n == 0:\n",
    "            return 1\n",
    "        elif n > 0:\n",
    "            result = 1\n",
    "            for i in range(1,n+1):\n",
    "                print(result)\n",
    "                result = x * result\n",
    "            return result\n",
    "        else:\n",
    "            result = 1.0\n",
    "            for i in range(0,abs(n)):\n",
    "                print(result,n)\n",
    "                result = result / x\n",
    "            return result\n",
    "check = Solution()\n",
    "check.myPow(2.10000, 3)"
   ]
  },
  {
   "cell_type": "code",
   "execution_count": 81,
   "metadata": {},
   "outputs": [
    {
     "name": "stdout",
     "output_type": "stream",
     "text": [
      "1\n"
     ]
    },
    {
     "data": {
      "text/plain": [
       "1e-05"
      ]
     },
     "execution_count": 81,
     "metadata": {},
     "output_type": "execute_result"
    }
   ],
   "source": [
    "class Solution:\n",
    "    def myPow(self, x: float, n: int) -> float:\n",
    "        if n == 0:\n",
    "            return 1\n",
    "        elif n > 0:\n",
    "            return self.calc(x,n+1)\n",
    "        else:\n",
    "            return 1/self.calc(x,n-1)\n",
    "        \n",
    "    def calc(self,x,n):\n",
    "        result = 1\n",
    "        for i in range(1,abs(n)):\n",
    "            print(result)\n",
    "            result = x * result\n",
    "        return result\n",
    "check = Solution()\n",
    "check.myPow(0.00001, 1)"
   ]
  },
  {
   "cell_type": "code",
   "execution_count": 64,
   "metadata": {},
   "outputs": [
    {
     "data": {
      "text/plain": [
       "0.0"
      ]
     },
     "execution_count": 64,
     "metadata": {},
     "output_type": "execute_result"
    }
   ],
   "source": [
    "0.00001**2147483647"
   ]
  },
  {
   "cell_type": "code",
   "execution_count": 80,
   "metadata": {},
   "outputs": [
    {
     "data": {
      "text/plain": [
       "113942339071719105303347844107459721731274973123224077839768300896360907323829752061119049672331608445040592005240747791797777653401784879435475202072804096501440690777228441188316388422652994095556536339487559948280673060705575530583128579252027017706818584296619079767958824715606220063032667541075362334889445888193016021074127626436608"
      ]
     },
     "execution_count": 80,
     "metadata": {},
     "output_type": "execute_result"
    }
   ],
   "source": [
    "class Solution:\n",
    "    def myPow(self, x: float, n: int) -> float:\n",
    "        if not n:\n",
    "            return 1\n",
    "        if n % 2:\n",
    "            return x * self.myPow(x,n-1)\n",
    "        if n < 0:\n",
    "            return 1/self.myPow(x,-n)\n",
    "        return self.myPow(x*x,n/2)\n",
    "check = Solution()\n",
    "check.myPow(2, 1123)"
   ]
  },
  {
   "cell_type": "code",
   "execution_count": 72,
   "metadata": {},
   "outputs": [
    {
     "data": {
      "text/plain": [
       "0.0"
      ]
     },
     "execution_count": 72,
     "metadata": {},
     "output_type": "execute_result"
    }
   ],
   "source": []
  },
  {
   "cell_type": "code",
   "execution_count": null,
   "metadata": {},
   "outputs": [],
   "source": []
  }
 ],
 "metadata": {
  "kernelspec": {
   "display_name": "Python 3",
   "language": "python",
   "name": "python3"
  },
  "language_info": {
   "codemirror_mode": {
    "name": "ipython",
    "version": 3
   },
   "file_extension": ".py",
   "mimetype": "text/x-python",
   "name": "python",
   "nbconvert_exporter": "python",
   "pygments_lexer": "ipython3",
   "version": "3.6.5"
  }
 },
 "nbformat": 4,
 "nbformat_minor": 2
}
