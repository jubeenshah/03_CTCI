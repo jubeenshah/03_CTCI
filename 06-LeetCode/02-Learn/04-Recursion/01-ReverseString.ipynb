{
 "cells": [
  {
   "cell_type": "code",
   "execution_count": 27,
   "metadata": {},
   "outputs": [
    {
     "name": "stdout",
     "output_type": "stream",
     "text": [
      "1 5 0 4 ['1', '2', '3', '4', '5']\n",
      "2 4 1 3 ['5', '2', '3', '4', '1']\n",
      "3 3 2 2 ['5', '4', '3', '2', '1']\n"
     ]
    }
   ],
   "source": [
    "s = [\"1\",\"2\",\"3\",\"4\",\"5\"]\n",
    "def recursiveStringReverse(s):\n",
    "    start = 0\n",
    "    end = len(s)-1\n",
    "    def helper(start, end):\n",
    "        if start > end:\n",
    "            return\n",
    "        else:\n",
    "            print(s[start],s[end],start,end,s)\n",
    "            s[start],s[end] = s[end], s[start]\n",
    "            helper(start+1,end-1)\n",
    "        return s\n",
    "    helper(start, end)\n",
    "\n",
    "recursiveStringReverse(s)\n",
    "#print(s)"
   ]
  },
  {
   "cell_type": "code",
   "execution_count": 29,
   "metadata": {},
   "outputs": [
    {
     "name": "stdout",
     "output_type": "stream",
     "text": [
      "1 5 0 4 ['1', '2', '3', '4', '5']\n",
      "2 4 1 3 ['5', '2', '3', '4', '1']\n"
     ]
    },
    {
     "data": {
      "text/plain": [
       "['5', '4', '3', '2', '1']"
      ]
     },
     "execution_count": 29,
     "metadata": {},
     "output_type": "execute_result"
    }
   ],
   "source": [
    "s = [\"1\",\"2\",\"3\",\"4\",\"5\"]\n",
    "def recursiveStringReverse(s):\n",
    "    start = 0\n",
    "    end = len(s)-1\n",
    "\n",
    "    while start < end:\n",
    "        print(s[start],s[end],start,end,s)\n",
    "        s[start],s[end] = s[end], s[start]\n",
    "        start = start + 1\n",
    "        end = end - 1\n",
    "    return s\n",
    "\n",
    "recursiveStringReverse(s)\n",
    "#print(s)"
   ]
  },
  {
   "cell_type": "code",
   "execution_count": null,
   "metadata": {},
   "outputs": [],
   "source": []
  }
 ],
 "metadata": {
  "kernelspec": {
   "display_name": "Python 3",
   "language": "python",
   "name": "python3"
  },
  "language_info": {
   "codemirror_mode": {
    "name": "ipython",
    "version": 3
   },
   "file_extension": ".py",
   "mimetype": "text/x-python",
   "name": "python",
   "nbconvert_exporter": "python",
   "pygments_lexer": "ipython3",
   "version": "3.6.5"
  }
 },
 "nbformat": 4,
 "nbformat_minor": 2
}
