{
 "cells": [
  {
   "cell_type": "markdown",
   "metadata": {},
   "source": [
    "There is a garden with N slots. In each slot, there is a flower. The N flowers will bloom one by one in N days. In each day, there will be exactly one flower blooming and it will be in the status of blooming since then.\n",
    "\n",
    "Given an array flowers consists of number from 1 to N. Each number in the array represents the place where the flower will open in that day.\n",
    "\n",
    "For example, flowers[i] = x means that the unique flower that blooms at day i will be at position x, where i and x will be in the range from 1 to N.\n",
    "\n",
    "Also given an integer k, you need to output in which day there exists two flowers in the status of blooming, and also the number of flowers between them is k and these flowers are not blooming.\n",
    "\n",
    "If there isn't such day, output -1.\n",
    "\n",
    "Example 1:\n",
    "\n",
    "    Input: \n",
    "    flowers: [1,3,2]\n",
    "    k: 1\n",
    "    Output: 2\n",
    "    Explanation: In the second day, the first and the third flower have become blooming.\n",
    "Example 2:\n",
    "\n",
    "    Input: \n",
    "    flowers: [1,2,3]\n",
    "    k: 1\n",
    "    Output: -1\n",
    "    Note:\n",
    "\n",
    "The given array will be in the range [1, 20000]."
   ]
  },
  {
   "cell_type": "code",
   "execution_count": null,
   "metadata": {},
   "outputs": [],
   "source": []
  }
 ],
 "metadata": {
  "kernelspec": {
   "display_name": "Python 3",
   "language": "python",
   "name": "python3"
  },
  "language_info": {
   "codemirror_mode": {
    "name": "ipython",
    "version": 3
   },
   "file_extension": ".py",
   "mimetype": "text/x-python",
   "name": "python",
   "nbconvert_exporter": "python",
   "pygments_lexer": "ipython3",
   "version": "3.6.5"
  }
 },
 "nbformat": 4,
 "nbformat_minor": 2
}
