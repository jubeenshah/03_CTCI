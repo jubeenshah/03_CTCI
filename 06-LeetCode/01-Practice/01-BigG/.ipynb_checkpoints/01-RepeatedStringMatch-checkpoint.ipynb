{
 "cells": [
  {
   "cell_type": "markdown",
   "metadata": {},
   "source": [
    "Given two strings A and B, find the minimum number of times A has to be repeated such that B is a substring of it. If no such solution, return -1.\n",
    "\n",
    "For example, with A = \"abcd\" and B = \"cdabcdab\".\n",
    "\n",
    "Return 3, because by repeating A three times (“abcdabcdabcd”), B is a substring of it; and B is not a substring of A repeated two times (\"abcdabcd\").\n",
    "\n",
    "__Note:__\n",
    "\n",
    "The length of A and B will be between 1 and 10000."
   ]
  },
  {
   "cell_type": "code",
   "execution_count": 4,
   "metadata": {},
   "outputs": [
    {
     "data": {
      "text/plain": [
       "3"
      ]
     },
     "execution_count": 4,
     "metadata": {},
     "output_type": "execute_result"
    }
   ],
   "source": [
    "A = \"abcd\"\n",
    "B = \"cdabcdab\"\n",
    "def repeatedStringMatch(A,B):\n",
    "    count = 1\n",
    "    keepChecking = True\n",
    "\n",
    "    while(keepChecking):\n",
    "        A+=A\n",
    "        count+=1\n",
    "        if count > 1000:\n",
    "            keepChecking = False\n",
    "            return -1\n",
    "        if B in A:\n",
    "            return count\n",
    "        else:\n",
    "            continue\n",
    "repeatedStringMatch(A,B)      \n",
    "\n",
    "# The above code does run, however --> it fails certain test cases."
   ]
  },
  {
   "cell_type": "code",
   "execution_count": 8,
   "metadata": {},
   "outputs": [
    {
     "data": {
      "text/plain": [
       "3"
      ]
     },
     "execution_count": 8,
     "metadata": {},
     "output_type": "execute_result"
    }
   ],
   "source": [
    " def repeatedStringMatch(A, B):\n",
    "        C = \"\"\n",
    "        for i in range(len(B)//len(A) + 3): \n",
    "            if B in C:\n",
    "                return i\n",
    "            C += A\n",
    "        return -1\n",
    "repeatedStringMatch(A,B)"
   ]
  },
  {
   "cell_type": "code",
   "execution_count": null,
   "metadata": {},
   "outputs": [],
   "source": []
  }
 ],
 "metadata": {
  "kernelspec": {
   "display_name": "Python 3",
   "language": "python",
   "name": "python3"
  },
  "language_info": {
   "codemirror_mode": {
    "name": "ipython",
    "version": 3
   },
   "file_extension": ".py",
   "mimetype": "text/x-python",
   "name": "python",
   "nbconvert_exporter": "python",
   "pygments_lexer": "ipython3",
   "version": "3.6.5"
  }
 },
 "nbformat": 4,
 "nbformat_minor": 2
}
