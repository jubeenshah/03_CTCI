{
 "cells": [
  {
   "cell_type": "markdown",
   "metadata": {},
   "source": [
    "Given an array of integers, return indices of the two numbers such that they add up to a specific target.\n",
    "\n",
    "You may assume that each input would have exactly one solution, and you may not use the same element twice.\n",
    "\n",
    "Example:\n",
    "```python\n",
    "    Given nums = [2, 7, 11, 15], target = 9,\n",
    "    Because nums[0] + nums[1] = 2 + 7 = 9,\n",
    "    return [0, 1].\n",
    "```"
   ]
  },
  {
   "cell_type": "code",
   "execution_count": null,
   "metadata": {},
   "outputs": [],
   "source": [
    "givenNums = [2, 7, 11, 15]\n",
    "target = 9\n",
    "def twoSum(nums, target):\n",
    "    hash_map = dict()\n",
    "    for i, x in enumerate(nums):\n",
    "        if target - x in hash_map:\n",
    "            return [i, hash_map[target - x]]\n",
    "        hash_map[x] = i\n",
    "            \n",
    "          \n",
    "twoSum(givenNums, target)"
   ]
  },
  {
   "cell_type": "code",
   "execution_count": 38,
   "metadata": {},
   "outputs": [
    {
     "name": "stdout",
     "output_type": "stream",
     "text": [
      "0\n",
      "{2: 0}\n"
     ]
    },
    {
     "data": {
      "text/plain": [
       "[0, 1]"
      ]
     },
     "execution_count": 38,
     "metadata": {},
     "output_type": "execute_result"
    }
   ],
   "source": [
    "givenNums = [2, 7, 11, 15]\n",
    "target = 9\n",
    "def twoSum(nums, target):\n",
    "    hold = {}\n",
    "    for i, n in enumerate(nums):\n",
    "        m = target - n\n",
    "        if m in hold: \n",
    "            print(hold)\n",
    "            return [hold[m], i]\n",
    "        else:\n",
    "            hold[n] = i\n",
    "            print(hold[n])\n",
    "twoSum(givenNums, target)"
   ]
  },
  {
   "cell_type": "code",
   "execution_count": null,
   "metadata": {},
   "outputs": [],
   "source": [
    "givenNums = [3,3]\n",
    "target = 6\n",
    "def twoSum(nums, target):\n",
    "    listToReturn = []\n",
    "    currentIndex = 0\n",
    "    #print(nums[currentIndex])\n",
    "    for i in nums:\n",
    "        try:\n",
    "            if(nums.index(target - nums[currentIndex])):\n",
    "                listToReturn.append(currentIndex)\n",
    "                listToReturn.append(nums.index(target - nums[currentIndex]))\n",
    "                break\n",
    "        except:\n",
    "            return listToReturn\n",
    "        currentIndex = currentIndex+1\n",
    "    return listToReturn\n",
    "twoSum(givenNums, target)"
   ]
  }
 ],
 "metadata": {
  "kernelspec": {
   "display_name": "Python 3",
   "language": "python",
   "name": "python3"
  },
  "language_info": {
   "codemirror_mode": {
    "name": "ipython",
    "version": 3
   },
   "file_extension": ".py",
   "mimetype": "text/x-python",
   "name": "python",
   "nbconvert_exporter": "python",
   "pygments_lexer": "ipython3",
   "version": "3.6.5"
  }
 },
 "nbformat": 4,
 "nbformat_minor": 2
}
