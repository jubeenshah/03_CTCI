{
 "cells": [
  {
   "cell_type": "markdown",
   "metadata": {},
   "source": [
    "# 35-Search Insert Position\n",
    "Given a sorted array and a target value, return the index if the target is found. If not, return the index where it would be if it were inserted in order.\n",
    "\n",
    "You may assume no duplicates in the array.\n",
    "\n",
    "Example 1:\n",
    "\n",
    "    Input: [1,3,5,6], 5\n",
    "    Output: 2\n",
    "Example 2:\n",
    "\n",
    "    Input: [1,3,5,6], 2\n",
    "    Output: 1\n",
    "Example 3:\n",
    "\n",
    "    Input: [1,3,5,6], 7\n",
    "    Output: 4\n",
    "Example 4:\n",
    "\n",
    "    Input: [1,3,5,6], 0\n",
    "    Output: 0"
   ]
  },
  {
   "cell_type": "code",
   "execution_count": 31,
   "metadata": {},
   "outputs": [
    {
     "data": {
      "text/plain": [
       "4"
      ]
     },
     "execution_count": 31,
     "metadata": {},
     "output_type": "execute_result"
    }
   ],
   "source": [
    "nums = [1,3,5,6]\n",
    "target = 7\n",
    "def searchInsert(nums, target):\n",
    "    if nums is None or target is None:\n",
    "        return 0\n",
    "    if target in nums:\n",
    "        return nums.index(target)\n",
    "    if target < nums[0]:\n",
    "        return 0\n",
    "    if target > nums[len(nums) - 1]:\n",
    "        return len(nums)\n",
    "    \n",
    "\n",
    "    for i in range(len(nums)):\n",
    "        if nums[i] > target:\n",
    "            return i\n",
    "    return len(nums)\n",
    "                \n",
    "    \n",
    "    \n",
    "searchInsert(nums, target)"
   ]
  },
  {
   "cell_type": "code",
   "execution_count": 30,
   "metadata": {},
   "outputs": [
    {
     "name": "stdout",
     "output_type": "stream",
     "text": [
      "False\n"
     ]
    }
   ],
   "source": [
    "nums = [1,3,5,6]\n",
    "target = 2\n",
    "some = (all(each >= target for each in nums))\n",
    "print(some)"
   ]
  },
  {
   "cell_type": "code",
   "execution_count": null,
   "metadata": {},
   "outputs": [],
   "source": []
  }
 ],
 "metadata": {
  "kernelspec": {
   "display_name": "Python 3",
   "language": "python",
   "name": "python3"
  },
  "language_info": {
   "codemirror_mode": {
    "name": "ipython",
    "version": 3
   },
   "file_extension": ".py",
   "mimetype": "text/x-python",
   "name": "python",
   "nbconvert_exporter": "python",
   "pygments_lexer": "ipython3",
   "version": "3.6.5"
  }
 },
 "nbformat": 4,
 "nbformat_minor": 2
}
