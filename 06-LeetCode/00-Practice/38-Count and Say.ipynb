{
 "cells": [
  {
   "cell_type": "markdown",
   "metadata": {},
   "source": [
    "# 38-Count and Say\n",
    "The count-and-say sequence is the sequence of integers with the first five terms as following:\n",
    "\n",
    "    1.     1\n",
    "    2.     11\n",
    "    3.     21\n",
    "    4.     1211\n",
    "    5.     111221\n",
    "    \n",
    "    1 is read off as \"one 1\" or 11.\n",
    "    11 is read off as \"two 1s\" or 21.\n",
    "    21 is read off as \"one 2, then one 1\" or 1211.\n",
    "\n",
    "Given an integer n where 1 ≤ n ≤ 30, generate the nth term of the count-and-say sequence.\n",
    "\n",
    "Note: Each term of the sequence of integers will be represented as a string.\n",
    "\n",
    "Example 1:\n",
    "\n",
    "    Input: 1\n",
    "    Output: \"1\"\n",
    "Example 2:\n",
    "\n",
    "    Input: 4\n",
    "    Output: \"1211\"\n",
    "    \n",
    "     1.     1\n",
    "     2.     11\n",
    "     3.     21\n",
    "     4.     1211\n",
    "     5.     111221 \n",
    "     6.     312211\n",
    "     7.     13112221\n",
    "     8.     1113213211\n",
    "     9.     31131211131221\n",
    "    10.     13211311123113112211"
   ]
  },
  {
   "cell_type": "code",
   "execution_count": 40,
   "metadata": {},
   "outputs": [
    {
     "name": "stdout",
     "output_type": "stream",
     "text": [
      "1 1\n",
      "2 11\n",
      "3 21\n",
      "4 1211\n",
      "5 111221\n",
      "6 312211\n",
      "7 13112221\n",
      "8 1113213211\n",
      "9 31131211131221\n",
      "10 13211311123113112211\n",
      "11 11131221133112132113212221\n",
      "12 3113112221232112111312211312113211\n",
      "13 1321132132111213122112311311222113111221131221\n",
      "14 11131221131211131231121113112221121321132132211331222113112211\n",
      "15 311311222113111231131112132112311321322112111312211312111322212311322113212221\n"
     ]
    }
   ],
   "source": [
    "\n",
    "def countAndSay(n):\n",
    "        s = '1'\n",
    "        for _ in range(n-1):\n",
    "            let, temp, count = s[0], '', 0\n",
    "            for l in s:\n",
    "                if let == l:\n",
    "                    count += 1\n",
    "                else:\n",
    "                    temp += str(count)+let\n",
    "                    let = l\n",
    "                    count = 1\n",
    "            temp += str(count)+let\n",
    "            s = temp\n",
    "        return s\n",
    "    \n",
    "for n in range(1,16):\n",
    "    x = countAndSay(n)\n",
    "    print(n,x)"
   ]
  },
  {
   "cell_type": "code",
   "execution_count": null,
   "metadata": {},
   "outputs": [],
   "source": []
  }
 ],
 "metadata": {
  "kernelspec": {
   "display_name": "Python 3",
   "language": "python",
   "name": "python3"
  },
  "language_info": {
   "codemirror_mode": {
    "name": "ipython",
    "version": 3
   },
   "file_extension": ".py",
   "mimetype": "text/x-python",
   "name": "python",
   "nbconvert_exporter": "python",
   "pygments_lexer": "ipython3",
   "version": "3.6.5"
  }
 },
 "nbformat": 4,
 "nbformat_minor": 2
}
