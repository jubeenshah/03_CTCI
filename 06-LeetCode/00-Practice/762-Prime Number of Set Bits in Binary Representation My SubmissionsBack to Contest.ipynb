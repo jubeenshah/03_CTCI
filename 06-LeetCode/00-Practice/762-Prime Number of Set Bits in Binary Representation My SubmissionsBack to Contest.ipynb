{
 "cells": [
  {
   "cell_type": "markdown",
   "metadata": {},
   "source": [
    "## 762. Prime Number of Set Bits in Binary Representation My SubmissionsBack to Contest\n",
    "Virtual User Accepted: 0\n",
    "Virtual User Tried: 0\n",
    "Virtual Total Accepted: 0\n",
    "Virtual Total Submissions: 0\n",
    "Difficulty: Easy\n",
    "Given two integers L and R, find the count of numbers in the range [L, R] (inclusive) having a prime number of set bits in their binary representation.\n",
    "\n",
    "(Recall that the number of set bits an integer has is the number of 1s present when written in binary. For example, 21 written in binary is 10101 which has 3 set bits. Also, 1 is not a prime.)\n",
    "\n",
    "Example 1:\n",
    "\n",
    "    Input: L = 6, R = 10\n",
    "    Output: 4\n",
    "    Explanation:\n",
    "    6 -> 110 (2 set bits, 2 is prime)\n",
    "    7 -> 111 (3 set bits, 3 is prime)\n",
    "    9 -> 1001 (2 set bits , 2 is prime)\n",
    "    10->1010 (2 set bits , 2 is prime)\n",
    "Example 2:\n",
    "\n",
    "    Input: L = 10, R = 15\n",
    "    Output: 5\n",
    "    Explanation:\n",
    "    10 -> 1010 (2 set bits, 2 is prime)\n",
    "    11 -> 1011 (3 set bits, 3 is prime)\n",
    "    12 -> 1100 (2 set bits, 2 is prime)\n",
    "    13 -> 1101 (3 set bits, 3 is prime)\n",
    "    14 -> 1110 (3 set bits, 3 is prime)\n",
    "    15 -> 1111 (4 set bits, 4 is not prime)\n",
    "Note:\n",
    "\n",
    "L, R will be integers L <= R in the range [1, 10^6].\n",
    "R - L will be at most 10000."
   ]
  },
  {
   "cell_type": "code",
   "execution_count": 41,
   "metadata": {},
   "outputs": [],
   "source": [
    "N = 1000\n",
    "is_prime = [1]*N\n",
    "is_prime[0] = 0\n",
    "is_prime[1] = 0\n",
    "primeList = list()\n",
    "def sieve():\n",
    "    i = 2\n",
    "    \n",
    "    while i*i <= N:\n",
    "        if is_prime[i] == 0:\n",
    "            i += 1\n",
    "            continue\n",
    "        j = 2*i\n",
    "        while j < N:\n",
    "            is_prime[j] = 0\n",
    "            j += i\n",
    "        i += 1\n",
    "sieve()\n",
    "for i in range(1, N):\n",
    "    if is_prime[i] == 1:\n",
    "        primeList.append(i)"
   ]
  },
  {
   "cell_type": "code",
   "execution_count": 42,
   "metadata": {},
   "outputs": [
    {
     "name": "stdout",
     "output_type": "stream",
     "text": [
      "4\n"
     ]
    }
   ],
   "source": [
    "L,R = 6,10\n",
    "countPrimeSetBits(L,R)\n",
    "def countPrimeSetBits(L, R):\n",
    "    countToReturn = 0\n",
    "    for i in range(L,R+1):\n",
    "        i = str(bin(i))\n",
    "        count = 0\n",
    "        for j in i:\n",
    "            if j ==\"1\":\n",
    "                count += 1\n",
    "        if count in primeList:\n",
    "            countToReturn += 1\n",
    "    print(countToReturn)"
   ]
  },
  {
   "cell_type": "code",
   "execution_count": null,
   "metadata": {},
   "outputs": [],
   "source": []
  },
  {
   "cell_type": "code",
   "execution_count": null,
   "metadata": {},
   "outputs": [],
   "source": []
  }
 ],
 "metadata": {
  "kernelspec": {
   "display_name": "Python 3",
   "language": "python",
   "name": "python3"
  },
  "language_info": {
   "codemirror_mode": {
    "name": "ipython",
    "version": 3
   },
   "file_extension": ".py",
   "mimetype": "text/x-python",
   "name": "python",
   "nbconvert_exporter": "python",
   "pygments_lexer": "ipython3",
   "version": "3.6.5"
  }
 },
 "nbformat": 4,
 "nbformat_minor": 2
}
