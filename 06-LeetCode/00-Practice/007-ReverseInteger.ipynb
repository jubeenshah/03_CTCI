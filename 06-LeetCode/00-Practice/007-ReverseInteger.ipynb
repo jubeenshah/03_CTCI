{
 "cells": [
  {
   "cell_type": "markdown",
   "metadata": {},
   "source": [
    "Given a 32-bit signed integer, reverse digits of an integer.\n",
    "\n",
    "Example 1:\n",
    "\n",
    "    Input: 123\n",
    "    Output: 321\n",
    "Example 2:\n",
    "\n",
    "    Input: -123\n",
    "    Output: -321\n",
    "Example 3:\n",
    "\n",
    "    Input: 120\n",
    "    Output: 21\n",
    "Note:\n",
    "Assume we are dealing with an environment which could only store integers within the 32-bit signed integer range: [−231,  231 − 1]. For the purpose of this problem, assume that your function returns 0 when the reversed integer overflows."
   ]
  },
  {
   "cell_type": "code",
   "execution_count": 10,
   "metadata": {},
   "outputs": [
    {
     "data": {
      "text/plain": [
       "0"
      ]
     },
     "execution_count": 10,
     "metadata": {},
     "output_type": "execute_result"
    }
   ],
   "source": [
    "x = -2147483648\n",
    "def reverse(x):\n",
    "    isNegative = False\n",
    "    if x < 0:\n",
    "        isNegative = True\n",
    "        x = x * (-1)\n",
    "    num = 0    \n",
    "    while x > 0:\n",
    "        temp = x % 10\n",
    "        #print(temp)\n",
    "        num = num * 10 + (temp)        \n",
    "        x = x // 10\n",
    "    if isNegative:\n",
    "        if (-1*num) < (-2 ** 31):\n",
    "            return 0\n",
    "        return (-1 * num)\n",
    "    else:\n",
    "        if num > (2**31 - 1):\n",
    "            return 0\n",
    "        return num\n",
    "reverse(x)"
   ]
  },
  {
   "cell_type": "code",
   "execution_count": null,
   "metadata": {},
   "outputs": [],
   "source": []
  }
 ],
 "metadata": {
  "kernelspec": {
   "display_name": "Python 3",
   "language": "python",
   "name": "python3"
  },
  "language_info": {
   "codemirror_mode": {
    "name": "ipython",
    "version": 3
   },
   "file_extension": ".py",
   "mimetype": "text/x-python",
   "name": "python",
   "nbconvert_exporter": "python",
   "pygments_lexer": "ipython3",
   "version": "3.6.5"
  }
 },
 "nbformat": 4,
 "nbformat_minor": 2
}
