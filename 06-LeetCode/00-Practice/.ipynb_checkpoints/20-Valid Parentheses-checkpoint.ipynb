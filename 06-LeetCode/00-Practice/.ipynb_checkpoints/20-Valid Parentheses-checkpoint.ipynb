{
 "cells": [
  {
   "cell_type": "markdown",
   "metadata": {},
   "source": [
    "# 20-Valid Parentheses\n",
    "\n",
    "Given a string containing just the characters '(', ')', '{', '}', '[' and ']', determine if the input string is valid.\n",
    "\n",
    "An input string is valid if:\n",
    "\n",
    "Open brackets must be closed by the same type of brackets.\n",
    "Open brackets must be closed in the correct order.\n",
    "Note that an empty string is also considered valid.\n",
    "\n",
    "Example 1:\n",
    "\n",
    "    Input: \"()\"\n",
    "    Output: true\n",
    "Example 2:\n",
    "\n",
    "    Input: \"()[]{}\"\n",
    "    Output: true\n",
    "Example 3:\n",
    "\n",
    "    Input: \"(]\"\n",
    "    Output: false\n",
    "Example 4:\n",
    "\n",
    "    Input: \"([)]\"\n",
    "    Output: false\n",
    "Example 5:\n",
    "\n",
    "    Input: \"{[]}\"\n",
    "    Output: true"
   ]
  },
  {
   "cell_type": "code",
   "execution_count": 36,
   "metadata": {},
   "outputs": [
    {
     "data": {
      "text/plain": [
       "False"
      ]
     },
     "execution_count": 36,
     "metadata": {},
     "output_type": "execute_result"
    }
   ],
   "source": [
    "def isValid(s):\n",
    "    if s == \"\":\n",
    "        return True\n",
    "    openingBrace = [\"(\", \"{\", \"[\"]\n",
    "    closingBrace = [\")\", \"}\", \"]\"]\n",
    "    stack = list()\n",
    "    for each in s:\n",
    "        if each in openingBrace:\n",
    "            stack.append(each)\n",
    "        if each in closingBrace:\n",
    "            if stack:\n",
    "                test = stack.pop()\n",
    "            else:\n",
    "                return False\n",
    "            \n",
    "            if ((each == ']' and test == '[') or (each == '}' and test == '{') or (each == ')' and test == '(' )):\n",
    "                continue\n",
    "            else:\n",
    "                return False\n",
    "            #print(test)\n",
    "    if stack:\n",
    "        return False\n",
    "    return True\n",
    "isValid(\"[]()()(((([])))\")"
   ]
  },
  {
   "cell_type": "code",
   "execution_count": null,
   "metadata": {},
   "outputs": [],
   "source": []
  }
 ],
 "metadata": {
  "kernelspec": {
   "display_name": "Python 3",
   "language": "python",
   "name": "python3"
  },
  "language_info": {
   "codemirror_mode": {
    "name": "ipython",
    "version": 3
   },
   "file_extension": ".py",
   "mimetype": "text/x-python",
   "name": "python",
   "nbconvert_exporter": "python",
   "pygments_lexer": "ipython3",
   "version": "3.6.5"
  }
 },
 "nbformat": 4,
 "nbformat_minor": 2
}
