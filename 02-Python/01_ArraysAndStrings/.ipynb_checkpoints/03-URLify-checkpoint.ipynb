{
 "cells": [
  {
   "cell_type": "markdown",
   "metadata": {},
   "source": [
    "# URLify\n",
    "\n",
    "Write a method to replace all space in a string with %20"
   ]
  },
  {
   "cell_type": "code",
   "execution_count": 10,
   "metadata": {},
   "outputs": [],
   "source": [
    "import unittest\n",
    "def URLify(string, length):\n",
    "    new_index = len(string)\n",
    "    \n",
    "    for i in reversed(range(length)):\n",
    "        if string[i] == ' ':\n",
    "            string[new_index - 3 : new_index] = \"%20\"\n",
    "            new_index -= 3\n",
    "        else:\n",
    "            string[new_index - 1] = string[i]\n",
    "            new_index -= 1\n",
    "    return string"
   ]
  },
  {
   "cell_type": "code",
   "execution_count": 26,
   "metadata": {},
   "outputs": [
    {
     "name": "stderr",
     "output_type": "stream",
     "text": [
      ".\n",
      "----------------------------------------------------------------------\n",
      "Ran 1 test in 0.001s\n",
      "\n",
      "OK\n"
     ]
    }
   ],
   "source": [
    "class Test(unittest.TestCase):\n",
    "    '''Test Cases'''\n",
    "    # Using lists because Python strings are immutable\n",
    "    data = [\n",
    "        (list('much ado about nothing      '), 22,\n",
    "         list('much%20ado%20about%20nothing')),\n",
    "        (list('Mr John Smith    '), 13, list('Mr%20John%20Smith'))]\n",
    "\n",
    "    def test_urlify(self):\n",
    "        for [test_string, length, expected] in self.data:\n",
    "            actual = URLify(test_string, length)\n",
    "            self.assertEqual(actual, expected)\n",
    "\n",
    "if __name__ == \"__main__\":\n",
    "    unittest.main(argv=[\"first-arg-is-ignored\"], exit=False)"
   ]
  }
 ],
 "metadata": {
  "kernelspec": {
   "display_name": "Python 3",
   "language": "python",
   "name": "python3"
  },
  "language_info": {
   "codemirror_mode": {
    "name": "ipython",
    "version": 3
   },
   "file_extension": ".py",
   "mimetype": "text/x-python",
   "name": "python",
   "nbconvert_exporter": "python",
   "pygments_lexer": "ipython3",
   "version": "3.6.5"
  }
 },
 "nbformat": 4,
 "nbformat_minor": 2
}
