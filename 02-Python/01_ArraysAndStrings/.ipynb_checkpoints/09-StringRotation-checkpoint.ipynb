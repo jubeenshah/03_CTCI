{
 "cells": [
  {
   "cell_type": "markdown",
   "metadata": {},
   "source": [
    "# String Rotation"
   ]
  },
  {
   "cell_type": "code",
   "execution_count": 63,
   "metadata": {},
   "outputs": [
    {
     "name": "stdout",
     "output_type": "stream",
     "text": [
      "bottle  ttle bo\n"
     ]
    },
    {
     "data": {
      "text/plain": [
       "True"
      ]
     },
     "execution_count": 63,
     "metadata": {},
     "output_type": "execute_result"
    }
   ],
   "source": [
    "str1 = \"bottle \"\n",
    "str2 = \"ttle bo\"\n",
    "def isSubstring(str1, str2):\n",
    "    print(str1, str2)\n",
    "    temp = str1\n",
    "    start = 0\n",
    "    end = len(str1)\n",
    "    check = False\n",
    "    while start <= len(str1) and end >= 0:\n",
    "        if check == False:\n",
    "            #print(start, end, end - start)\n",
    "            subString = (str1[start : end] + str1[0 : start])\n",
    "\n",
    "            if subString == str2:\n",
    "                check = True\n",
    "            else:\n",
    "                check = False\n",
    "        else:\n",
    "            break\n",
    "        start = start + 1\n",
    "        #end = end - 1\n",
    "    return check\n",
    "isSubstring(str1, str2)"
   ]
  },
  {
   "cell_type": "code",
   "execution_count": 36,
   "metadata": {},
   "outputs": [
    {
     "data": {
      "text/plain": [
       "'erbottlewat'"
      ]
     },
     "execution_count": 36,
     "metadata": {},
     "output_type": "execute_result"
    }
   ],
   "source": [
    "str1[3:11] + str1[0:3]"
   ]
  },
  {
   "cell_type": "code",
   "execution_count": null,
   "metadata": {},
   "outputs": [],
   "source": []
  }
 ],
 "metadata": {
  "kernelspec": {
   "display_name": "Python 3",
   "language": "python",
   "name": "python3"
  },
  "language_info": {
   "codemirror_mode": {
    "name": "ipython",
    "version": 3
   },
   "file_extension": ".py",
   "mimetype": "text/x-python",
   "name": "python",
   "nbconvert_exporter": "python",
   "pygments_lexer": "ipython3",
   "version": "3.6.5"
  }
 },
 "nbformat": 4,
 "nbformat_minor": 2
}
