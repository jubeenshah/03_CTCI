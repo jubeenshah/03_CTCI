{
 "cells": [
  {
   "cell_type": "markdown",
   "metadata": {},
   "source": [
    "# One Away"
   ]
  },
  {
   "cell_type": "code",
   "execution_count": 105,
   "metadata": {},
   "outputs": [],
   "source": [
    "import unittest\n",
    "def checkIfOneAway(string1, string2):\n",
    "    if abs((len(string1) - len(string2))) <= 1:\n",
    "        if len(string1) < len(string2): \n",
    "            lengthOfLoop = len(string1)\n",
    "        else:\n",
    "            lengthOfLoop = len(string2)\n",
    "        counter = 0   \n",
    "        for index in range(lengthOfLoop):\n",
    "           # print(string1[index], string2[index])\n",
    "            if string1[index] != string2[index]:\n",
    "                if index < lengthOfLoop - 1:\n",
    "                    index = index + 1\n",
    "                    if string1[index] != string2[index]:\n",
    "                        counter = counter + 1\n",
    "                if counter > 1:\n",
    "                    return False\n",
    "            else: continue\n",
    "        if counter <=1 & counter >= 0:\n",
    "            return True\n",
    "    else:\n",
    "        print(\"here\")\n",
    "        return False"
   ]
  },
  {
   "cell_type": "code",
   "execution_count": 107,
   "metadata": {},
   "outputs": [
    {
     "data": {
      "text/plain": [
       "True"
      ]
     },
     "execution_count": 107,
     "metadata": {},
     "output_type": "execute_result"
    }
   ],
   "source": [
    "checkIfOneAway(\"plea\", \"ples\")"
   ]
  },
  {
   "cell_type": "code",
   "execution_count": null,
   "metadata": {},
   "outputs": [],
   "source": []
  }
 ],
 "metadata": {
  "kernelspec": {
   "display_name": "Python 3",
   "language": "python",
   "name": "python3"
  },
  "language_info": {
   "codemirror_mode": {
    "name": "ipython",
    "version": 3
   },
   "file_extension": ".py",
   "mimetype": "text/x-python",
   "name": "python",
   "nbconvert_exporter": "python",
   "pygments_lexer": "ipython3",
   "version": "3.6.5"
  }
 },
 "nbformat": 4,
 "nbformat_minor": 2
}
