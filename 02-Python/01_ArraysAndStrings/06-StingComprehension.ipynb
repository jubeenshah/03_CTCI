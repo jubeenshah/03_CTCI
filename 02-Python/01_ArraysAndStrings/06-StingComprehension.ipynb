{
 "cells": [
  {
   "cell_type": "markdown",
   "metadata": {},
   "source": [
    "# String Comprehension"
   ]
  },
  {
   "cell_type": "code",
   "execution_count": 53,
   "metadata": {},
   "outputs": [],
   "source": [
    "def stringComprehension(string):\n",
    "    string = string.lower()\n",
    "    compressed = []\n",
    "    counter = 0\n",
    "    checkCounter = False\n",
    "    for i in range(len(string)):\n",
    "        if i != 0 and string[i] != string[i - 1]:\n",
    "            compressed.append(string[i - 1] + str(counter))\n",
    "            counter = 0\n",
    "        counter += 1\n",
    "        if counter > 1:\n",
    "            checkCounter = True\n",
    "\n",
    "    # add last repeated character\n",
    "    compressed.append(string[-1] + str(counter))\n",
    "    stringToPrint = \"\"\n",
    "    for i in compressed:\n",
    "        stringToPrint = stringToPrint + i\n",
    "    if checkCounter == True:\n",
    "        print(stringToPrint)\n",
    "    else:\n",
    "        #print(stringToPrint)\n",
    "        print(string)\n",
    "\n",
    "    "
   ]
  },
  {
   "cell_type": "code",
   "execution_count": 57,
   "metadata": {},
   "outputs": [
    {
     "name": "stdout",
     "output_type": "stream",
     "text": [
      "abcde\n"
     ]
    }
   ],
   "source": [
    "stringComprehension(\"abcde\")"
   ]
  },
  {
   "cell_type": "code",
   "execution_count": null,
   "metadata": {},
   "outputs": [],
   "source": []
  },
  {
   "cell_type": "code",
   "execution_count": null,
   "metadata": {},
   "outputs": [],
   "source": []
  }
 ],
 "metadata": {
  "kernelspec": {
   "display_name": "Python 3",
   "language": "python",
   "name": "python3"
  },
  "language_info": {
   "codemirror_mode": {
    "name": "ipython",
    "version": 3
   },
   "file_extension": ".py",
   "mimetype": "text/x-python",
   "name": "python",
   "nbconvert_exporter": "python",
   "pygments_lexer": "ipython3",
   "version": "3.6.5"
  }
 },
 "nbformat": 4,
 "nbformat_minor": 2
}
