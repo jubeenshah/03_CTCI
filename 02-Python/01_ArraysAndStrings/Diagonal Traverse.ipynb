{
 "cells": [
  {
   "cell_type": "markdown",
   "metadata": {},
   "source": [
    "Given a matrix of M x N elements (M rows, N columns), return all elements of the matrix in diagonal order as shown in the below image.\n",
    "\n",
    " \n",
    "\n",
    "Example:\n",
    "```\n",
    "Input:\n",
    "[\n",
    "    0  1  2\n",
    "0 [ 1, 2, 3 ],\n",
    "1 [ 4, 5, 6 ],\n",
    "2 [ 7, 8, 9 ]\n",
    "]\n",
    "\n",
    "Output:  [1,2,4,7,5,3,6,8,9]\n",
    "00,\n",
    "01,10,\n",
    "20,11,02,\n",
    "12,21,\n",
    "22\n",
    "\n",
    "```\n",
    "\n",
    "```\n",
    "[\n",
    "      0   1   2   3   4   5\n",
    "   0[00, 01, 02, 03, 04, 05],\n",
    "   1[06, 07, 08, 09, 10, 11],\n",
    "   2[12, 13, 14, 15, 16, 17],\n",
    "   3[18, 19, 20, 21, 22, 23],\n",
    "   4[24, 25, 26, 27, 28, 29],\n",
    "   5[30, 31, 32, 33, 34, 35]\n",
    "]\n",
    "\n",
    "00 00\n",
    "01 01, 10\n",
    "02 20, 11, 02\n",
    "03 03, 12, 21, 30\n",
    "04 40, 31, 22, 13, 04\n",
    "05 05, 14, 23, 32, 41, 50\n",
    "06 51, 42, 33, 24, 15,\n",
    "07 25, 34, 43, 52,\n",
    "08 53, 44, 35\n",
    "09 45, 54,\n",
    "10 55\n"
   ]
  },
  {
   "cell_type": "code",
   "execution_count": 234,
   "metadata": {},
   "outputs": [
    {
     "data": {
      "text/plain": [
       "[]"
      ]
     },
     "execution_count": 234,
     "metadata": {},
     "output_type": "execute_result"
    }
   ],
   "source": [
    "matrix = \n",
    "def findDiagonalOrder(matrix):\n",
    "    \"\"\"\n",
    "    :type matrix: List[List[int]]\n",
    "    :rtype: List[int]\n",
    "    \"\"\"\n",
    "    result = [ ]\n",
    "    dd = collections.defaultdict(list)\n",
    "    if not matrix: return result\n",
    "    # Step 1: Numbers are grouped by the diagonals.\n",
    "    # Numbers in same diagonal have same value of row+col\n",
    "    for i in range(0, len(matrix)):\n",
    "        for j in range(0, len(matrix[0])):\n",
    "            dd[i+j+1].append(matrix[i][j]) # starting indices from 1, hence i+j+1.\n",
    "    # Step 2: Place diagonals in the result list.\n",
    "    # But remember to reverse numbers in odd diagonals.\n",
    "    for k in sorted(dd.keys()):\n",
    "        if k%2==1: dd[k].reverse()\n",
    "        result += dd[k]\n",
    "    return result"
   ]
  },
  {
   "cell_type": "code",
   "execution_count": 140,
   "metadata": {},
   "outputs": [],
   "source": [
    "\n"
   ]
  },
  {
   "cell_type": "code",
   "execution_count": 122,
   "metadata": {},
   "outputs": [
    {
     "ename": "NameError",
     "evalue": "name 'dictionary' is not defined",
     "output_type": "error",
     "traceback": [
      "\u001b[0;31m---------------------------------------------------------------------------\u001b[0m",
      "\u001b[0;31mNameError\u001b[0m                                 Traceback (most recent call last)",
      "\u001b[0;32m<ipython-input-122-a1cc7bfc3b8d>\u001b[0m in \u001b[0;36m<module>\u001b[0;34m()\u001b[0m\n\u001b[0;32m----> 1\u001b[0;31m \u001b[0mprint\u001b[0m\u001b[0;34m(\u001b[0m\u001b[0mdictionary\u001b[0m\u001b[0;34m)\u001b[0m\u001b[0;34m\u001b[0m\u001b[0m\n\u001b[0m",
      "\u001b[0;31mNameError\u001b[0m: name 'dictionary' is not defined"
     ]
    }
   ],
   "source": []
  },
  {
   "cell_type": "code",
   "execution_count": null,
   "metadata": {},
   "outputs": [],
   "source": []
  }
 ],
 "metadata": {
  "kernelspec": {
   "display_name": "Python 3",
   "language": "python",
   "name": "python3"
  },
  "language_info": {
   "codemirror_mode": {
    "name": "ipython",
    "version": 3
   },
   "file_extension": ".py",
   "mimetype": "text/x-python",
   "name": "python",
   "nbconvert_exporter": "python",
   "pygments_lexer": "ipython3",
   "version": "3.6.5"
  }
 },
 "nbformat": 4,
 "nbformat_minor": 2
}
