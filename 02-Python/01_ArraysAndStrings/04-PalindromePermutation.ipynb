{
 "cells": [
  {
   "cell_type": "markdown",
   "metadata": {},
   "source": [
    "# Palindrome Permutation\n",
    "\n",
    "Problem Statement - Given a string, write a function to check if it is a permutation of a plaindrome. A palindrome is a word or a phrase that is the same forwards and backwords. A permutation is a rearrangement of letters.\n",
    "\n",
    "## `Example : ` \n",
    "#### `Input   : Tact coa`\n",
    "#### `Output  : True (permutation : \"taco cat\", \"atco cta\", etc.)`\n"
   ]
  },
  {
   "cell_type": "code",
   "execution_count": 128,
   "metadata": {},
   "outputs": [],
   "source": [
    "def getPermutations(stringToPermute):\n",
    "    lengthOfString = len(stringToPermute)\n",
    "    stringToPass = stringToPermute.lower()\n",
    "    #print(stringToPass)\n",
    "    stringToPass = list(stringToPass)\n",
    "    if lengthOfString == 1:\n",
    "        return stringToPermute\n",
    "    else:\n",
    "        generatePermuation(lengthOfString,stringToPass)"
   ]
  },
  {
   "cell_type": "code",
   "execution_count": 154,
   "metadata": {},
   "outputs": [],
   "source": [
    "def generatePermuation(lengthOfString, stringToPermute):\n",
    "    isTrue = False\n",
    "    for i in range(1,lengthOfString-1):\n",
    "        if (isTrue):\n",
    "            print(isTrue)\n",
    "            break\n",
    "        else:\n",
    "            generatePermuation(lengthOfString - 1, stringToPermute)\n",
    "            if lengthOfString % 2 == 0 :\n",
    "                stringToPermute[lengthOfString -1], stringToPermute[i] = stringToPermute[i], stringToPermute[lengthOfString -1]\n",
    "            else:\n",
    "                stringToPermute[lengthOfString -1], stringToPermute[0] = stringToPermute[0], stringToPermute[lengthOfString - 1]\n",
    "            printString = \"\"\n",
    "            for char in stringToPermute:\n",
    "                if char == \" \":\n",
    "                    continue \n",
    "                printString = printString + char\n",
    "            #print(printString)\n",
    "            if(checkIfPallindrome(printString) == True):\n",
    "                isTrue = True\n",
    "            #isTrue = False\n",
    "        "
   ]
  },
  {
   "cell_type": "code",
   "execution_count": 155,
   "metadata": {},
   "outputs": [
    {
     "name": "stdout",
     "output_type": "stream",
     "text": [
      "True\n",
      "True\n",
      "True\n",
      "True\n",
      "True\n",
      "True\n",
      "True\n",
      "True\n"
     ]
    }
   ],
   "source": [
    "getPermutations(\"Tact Coa\")"
   ]
  },
  {
   "cell_type": "code",
   "execution_count": 142,
   "metadata": {},
   "outputs": [],
   "source": [
    "def checkIfPallindrome(stringToCheck):\n",
    "    startIndex = 0\n",
    "    endIndex = len(stringToCheck) - 1 \n",
    "    isPallindrome = False\n",
    "    while(startIndex<endIndex & endIndex>0):\n",
    "        #print(startIndex, endIndex)\n",
    "        if stringToCheck[startIndex] == stringToCheck[endIndex]:\n",
    "            startIndex = startIndex + 1\n",
    "            endIndex = endIndex - 1\n",
    "            isPallindrome = True\n",
    "        else:\n",
    "            startIndex = startIndex + 1\n",
    "            endIndex = endIndex - 1\n",
    "            isPallindrome = False\n",
    "            break\n",
    "    return isPallindrome"
   ]
  },
  {
   "cell_type": "code",
   "execution_count": 146,
   "metadata": {},
   "outputs": [
    {
     "data": {
      "text/plain": [
       "True"
      ]
     },
     "execution_count": 146,
     "metadata": {},
     "output_type": "execute_result"
    }
   ],
   "source": [
    "checkIfPallindrome(\"tacocat\")"
   ]
  },
  {
   "cell_type": "code",
   "execution_count": null,
   "metadata": {},
   "outputs": [],
   "source": []
  }
 ],
 "metadata": {
  "kernelspec": {
   "display_name": "Python 3",
   "language": "python",
   "name": "python3"
  },
  "language_info": {
   "codemirror_mode": {
    "name": "ipython",
    "version": 3
   },
   "file_extension": ".py",
   "mimetype": "text/x-python",
   "name": "python",
   "nbconvert_exporter": "python",
   "pygments_lexer": "ipython3",
   "version": "3.6.5"
  }
 },
 "nbformat": 4,
 "nbformat_minor": 2
}
