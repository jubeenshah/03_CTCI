{
 "cells": [
  {
   "cell_type": "markdown",
   "metadata": {},
   "source": [
    "# Check Permutation\n",
    "\n",
    "Given Two strings, write a method to determine if one is a permutation of the other"
   ]
  },
  {
   "cell_type": "code",
   "execution_count": 18,
   "metadata": {},
   "outputs": [],
   "source": [
    "import unittest\n",
    "from collections import Counter"
   ]
  },
  {
   "cell_type": "code",
   "execution_count": 19,
   "metadata": {},
   "outputs": [],
   "source": [
    "def checkPermutation(strA, strB):\n",
    "    if len(strA) != len(strB):\n",
    "        return False\n",
    "    counter = Counter()\n",
    "    for c in strA:\n",
    "        counter[c] += 1\n",
    "    for c in strB:\n",
    "        if counter[c] == 0:\n",
    "            return False\n",
    "        \n",
    "        counter[c] -= 1\n",
    "    return True\n",
    "    "
   ]
  },
  {
   "cell_type": "code",
   "execution_count": 20,
   "metadata": {},
   "outputs": [
    {
     "name": "stderr",
     "output_type": "stream",
     "text": [
      ".\n",
      "----------------------------------------------------------------------\n",
      "Ran 1 test in 0.001s\n",
      "\n",
      "OK\n"
     ]
    }
   ],
   "source": [
    "class Test(unittest.TestCase):\n",
    "    dataT = ( \n",
    "        (\"abcd\", \"dbac\"),\n",
    "        (\"abbc\", \"bbac\"),\n",
    "        (\"ccad\", \"dcac\"),\n",
    "        (\"abcd\", \"bacd\"),\n",
    "        (\"3563476\", \"7334566\"),\n",
    "        (\"wef34f\", \"wffe34\")\n",
    "    ) \n",
    "    \n",
    "    dataF = (\n",
    "        ('abcd', 'd2cba'),\n",
    "        ('2354', '1234'),\n",
    "        ('dcw4f', 'dcw5f'),\n",
    "    )\n",
    "    \n",
    "    def testCheckPermutation(self):\n",
    "        for testStrings in self.dataT:\n",
    "            actualValue = checkPermutation(*testStrings)\n",
    "            self.assertTrue(actualValue)\n",
    "        for testStrings in self.dataF:\n",
    "            actualValue = checkPermutation(*testStrings)\n",
    "            self.assertFalse(actualValue)\n",
    "            \n",
    "if __name__ == \"__main__\":\n",
    "    unittest.main(argv=[\"first-arg-is-ignored\"], exit=False)"
   ]
  },
  {
   "cell_type": "code",
   "execution_count": 11,
   "metadata": {},
   "outputs": [],
   "source": [
    "Counter?"
   ]
  },
  {
   "cell_type": "code",
   "execution_count": null,
   "metadata": {},
   "outputs": [],
   "source": []
  }
 ],
 "metadata": {
  "kernelspec": {
   "display_name": "Python 3",
   "language": "python",
   "name": "python3"
  },
  "language_info": {
   "codemirror_mode": {
    "name": "ipython",
    "version": 3
   },
   "file_extension": ".py",
   "mimetype": "text/x-python",
   "name": "python",
   "nbconvert_exporter": "python",
   "pygments_lexer": "ipython3",
   "version": "3.6.5"
  }
 },
 "nbformat": 4,
 "nbformat_minor": 2
}
