{
 "cells": [
  {
   "cell_type": "markdown",
   "metadata": {},
   "source": [
    "# Is Unique\n",
    "\n",
    "Implement an algorithm to determine if a string has all unique characters What if you can not use additional data structures?"
   ]
  },
  {
   "cell_type": "code",
   "execution_count": 69,
   "metadata": {},
   "outputs": [],
   "source": [
    "import unittest"
   ]
  },
  {
   "cell_type": "code",
   "execution_count": 70,
   "metadata": {},
   "outputs": [],
   "source": [
    "def isUnique(string):\n",
    "    if len(string) > 128:\n",
    "        return False #assuming ASCII \n",
    "    charachterSet = [False for _ in range(128)]\n",
    "    for char in string:\n",
    "        val = ord(char)\n",
    "        if charachterSet[val]:\n",
    "            return False\n",
    "        charachterSet[val] = True\n",
    "    return True   "
   ]
  },
  {
   "cell_type": "code",
   "execution_count": 71,
   "metadata": {},
   "outputs": [
    {
     "name": "stderr",
     "output_type": "stream",
     "text": [
      ".\n",
      "----------------------------------------------------------------------\n",
      "Ran 1 test in 0.001s\n",
      "\n",
      "OK\n"
     ]
    }
   ],
   "source": [
    "class Test(unittest.TestCase):\n",
    "    tData = [('abcd'), ('s4fad'), ('')]\n",
    "    fData = [('23ds2'), ('hb 627jh=j ()')]\n",
    "    \n",
    "    def testUnique(self):\n",
    "        for testData in self.tData:\n",
    "            actualValue = isUnique(testData)\n",
    "            self.assertTrue(actualValue)\n",
    "        \n",
    "        for testData in self.fData:\n",
    "            actualValue = isUnique(testData)\n",
    "            self.assertFalse(actualValue)\n",
    "            \n",
    "if __name__ == \"__main__\":\n",
    "    unittest.main(argv=['first-arg-is-ignored'], exit=False)\n",
    "    #Reference -- https://medium.com/@vladbezden/using-python-unittest-in-ipython-or-jupyter-732448724e31\n",
    "        "
   ]
  }
 ],
 "metadata": {
  "kernelspec": {
   "display_name": "Python 3",
   "language": "python",
   "name": "python3"
  },
  "language_info": {
   "codemirror_mode": {
    "name": "ipython",
    "version": 3
   },
   "file_extension": ".py",
   "mimetype": "text/x-python",
   "name": "python",
   "nbconvert_exporter": "python",
   "pygments_lexer": "ipython3",
   "version": "3.6.5"
  }
 },
 "nbformat": 4,
 "nbformat_minor": 2
}
