{
 "cells": [
  {
   "cell_type": "markdown",
   "metadata": {},
   "source": [
    "# Implementing Stacks and Queues in Python\n",
    "\n",
    "## Stacks\n",
    "\n",
    "<img src = \"./resource/stack.png\">\n",
    "\n",
    " * Keep track of the topmost element as this will give you the information about the number of elements in the stack and whether the stack is empty/full (if the stack is empty then top will be set to 0 or a negative number)\n",
    " * The last element to enter the stack will always be the first to leave (Last In First Out - LIFO)\n",
    " * If all the elements are removed, then the stack is empty and if you try to remove elements from an empty stack, a warning or an error message is thrown.\n",
    " * If the stack has reached its maximum limit and you try to add more elements, a warning or error message is thrown.\n",
    "\n",
    "\n",
    "**Things to remember**\n",
    "\n",
    " * The entry and exit of elements happens only from _one end of the stack (top)_\n",
    " * _Push_ - Adding an element to the Stack\n",
    " * _Pop_ - Removing an element from the Stack\n",
    " * _Random access is not allowed_ - you cannot add or remove an element from the middle."
   ]
  },
  {
   "cell_type": "code",
   "execution_count": 15,
   "metadata": {},
   "outputs": [],
   "source": [
    "class Stack:\n",
    "    #Constructor creates a list\n",
    "    def __init__(self):\n",
    "        self.stack = list()\n",
    "        \n",
    "    #adding elements to the stack (Push)\n",
    "    def push(self, data):\n",
    "        #checking to avoid duplicate entries\n",
    "        if data not in self.stack:\n",
    "            self.stack.append(data)\n",
    "            return True\n",
    "        return False\n",
    "    \n",
    "    #Removing elements from the stack (Pop)\n",
    "    def pop(self):\n",
    "        if len(self.stack) <= 0:\n",
    "            return (\"Err : 3569 -- Stack Empty\")\n",
    "        return self.stack.pop()\n",
    "    \n",
    "    #Getting size of stack\n",
    "    def size(self):\n",
    "        return len(self.stack)\n",
    "    \n",
    "    def printStack(self):\n",
    "        return str(self.stack)"
   ]
  },
  {
   "cell_type": "code",
   "execution_count": 18,
   "metadata": {},
   "outputs": [],
   "source": [
    "mystack = Stack()"
   ]
  },
  {
   "cell_type": "code",
   "execution_count": 19,
   "metadata": {},
   "outputs": [
    {
     "name": "stdout",
     "output_type": "stream",
     "text": [
      "True\n"
     ]
    }
   ],
   "source": [
    "print(mystack.push(5))"
   ]
  },
  {
   "cell_type": "code",
   "execution_count": 20,
   "metadata": {},
   "outputs": [
    {
     "name": "stdout",
     "output_type": "stream",
     "text": [
      "True\n"
     ]
    }
   ],
   "source": [
    "print(mystack.push(\"5\"))"
   ]
  },
  {
   "cell_type": "code",
   "execution_count": 21,
   "metadata": {},
   "outputs": [
    {
     "name": "stdout",
     "output_type": "stream",
     "text": [
      "True\n"
     ]
    }
   ],
   "source": [
    "print(mystack.push(6))"
   ]
  },
  {
   "cell_type": "code",
   "execution_count": 22,
   "metadata": {},
   "outputs": [
    {
     "name": "stdout",
     "output_type": "stream",
     "text": [
      "False\n"
     ]
    }
   ],
   "source": [
    "print(mystack.push(5))"
   ]
  },
  {
   "cell_type": "code",
   "execution_count": 23,
   "metadata": {},
   "outputs": [
    {
     "name": "stdout",
     "output_type": "stream",
     "text": [
      "True 1\n",
      "True 2\n",
      "True 3\n",
      "True 4\n",
      "False 5\n",
      "False 6\n",
      "True 7\n",
      "True 8\n",
      "True 9\n"
     ]
    }
   ],
   "source": [
    "for i in range(1,10):\n",
    "    print(mystack.push(i),i)"
   ]
  },
  {
   "cell_type": "code",
   "execution_count": 24,
   "metadata": {},
   "outputs": [
    {
     "name": "stdout",
     "output_type": "stream",
     "text": [
      "10\n"
     ]
    }
   ],
   "source": [
    "print(mystack.size())"
   ]
  },
  {
   "cell_type": "code",
   "execution_count": 25,
   "metadata": {},
   "outputs": [
    {
     "name": "stdout",
     "output_type": "stream",
     "text": [
      "[5, '5', 6, 1, 2, 3, 4, 7, 8, 9]\n"
     ]
    }
   ],
   "source": [
    "print(mystack.printStack())"
   ]
  },
  {
   "cell_type": "code",
   "execution_count": 26,
   "metadata": {},
   "outputs": [
    {
     "name": "stdout",
     "output_type": "stream",
     "text": [
      "9\n",
      "8\n",
      "7\n",
      "4\n"
     ]
    }
   ],
   "source": [
    "for i in range(3,7):\n",
    "    print(mystack.pop())"
   ]
  },
  {
   "cell_type": "code",
   "execution_count": 28,
   "metadata": {},
   "outputs": [
    {
     "name": "stdout",
     "output_type": "stream",
     "text": [
      "[5, '5', 6, 1, 2, 3]\n"
     ]
    }
   ],
   "source": [
    "print(mystack.printStack())"
   ]
  },
  {
   "cell_type": "markdown",
   "metadata": {},
   "source": [
    "### Language Agnostic implementation of stack\n",
    "\n",
    "[This Animation](https://www.cs.usfca.edu/~galles/visualization/StackArray.html) helps understand stacks in a much better way through tracking the top pointer that is usually the case if you want to implement stacks in a **language agnostic way** \n",
    "\n",
    " * Algorithm\n",
    " \n",
    "     * Declare a list and an integer MaxSize, denoting the maximum size of the Stack\n",
    "     * Top is initially set to 0\n",
    "     * Push operation:\n",
    "         * Check if Top is less than the MaxSize of the Stack\n",
    "             * If yes, append data to stack and increment top by 1\n",
    "             * If no, print stack full message\n",
    "     * Pop operation:\n",
    "         * Check if Top is greater than 0:\n",
    "             * If yes, pop the last element from the list and decrement top by 1\n",
    "             * If no, print stack empty message\n",
    "     * Size Operation\n",
    "         * The value of the Top Pointer would be the size of the stack"
   ]
  },
  {
   "cell_type": "code",
   "execution_count": 35,
   "metadata": {},
   "outputs": [],
   "source": [
    "class Stack():\n",
    "    \n",
    "    def __init__(self):\n",
    "        self.stack = list()     # Declaring a list, but instead just using array functionality\n",
    "        self.maxSize = 20       # Initializing the max size of the array\n",
    "        self.top = 0            # Initialising the top of the pointer\n",
    "    \n",
    "    #Adding elements to the stack\n",
    "    def push(self, data):\n",
    "        if self.top >= self.maxSize:\n",
    "            return \"Err: 8804 -- Stack Full\"\n",
    "        self.stack.append(data)\n",
    "        self.top += 1\n",
    "        return True\n",
    "    \n",
    "    def pop(self):\n",
    "        if self.top <= 0:\n",
    "            return \"Err: 3569 -- Stack Empty\"\n",
    "        item = self.stack.pop()\n",
    "        self.top -= 1\n",
    "        return item\n",
    "    \n",
    "    def size(self):\n",
    "        return self.top\n",
    "    \n",
    "    def printStack(self):\n",
    "        return str(self.stack)"
   ]
  },
  {
   "cell_type": "code",
   "execution_count": 36,
   "metadata": {},
   "outputs": [],
   "source": [
    "s = Stack()"
   ]
  },
  {
   "cell_type": "code",
   "execution_count": 45,
   "metadata": {},
   "outputs": [
    {
     "name": "stdout",
     "output_type": "stream",
     "text": [
      "Err: 8804 -- Stack Full\n",
      "Err: 8804 -- Stack Full\n",
      "Err: 8804 -- Stack Full\n",
      "Err: 8804 -- Stack Full\n",
      "Err: 8804 -- Stack Full\n",
      "Err: 8804 -- Stack Full\n",
      "Err: 8804 -- Stack Full\n",
      "Err: 8804 -- Stack Full\n",
      "Err: 8804 -- Stack Full\n"
     ]
    }
   ],
   "source": [
    "for i in range(1,10):\n",
    "    print(s.push(i*1234567 % 3456))"
   ]
  },
  {
   "cell_type": "code",
   "execution_count": 44,
   "metadata": {},
   "outputs": [
    {
     "data": {
      "text/plain": [
       "'[775, 1550, 2325, 3100, 419, 1194, 1969, 2744, 63, 775, 1550, 2325, 3100, 419, 1194, 1969, 2744, 63, 775, 1550]'"
      ]
     },
     "execution_count": 44,
     "metadata": {},
     "output_type": "execute_result"
    }
   ],
   "source": [
    "s.printStack()"
   ]
  },
  {
   "cell_type": "code",
   "execution_count": 46,
   "metadata": {},
   "outputs": [
    {
     "name": "stdout",
     "output_type": "stream",
     "text": [
      "1550\n",
      "775\n",
      "63\n",
      "2744\n",
      "1969\n",
      "1194\n",
      "419\n",
      "3100\n",
      "2325\n",
      "1550\n",
      "775\n",
      "63\n",
      "2744\n",
      "1969\n",
      "1194\n",
      "419\n",
      "3100\n",
      "2325\n",
      "1550\n"
     ]
    }
   ],
   "source": [
    "for i in range(1,20):\n",
    "    print(s.pop())"
   ]
  },
  {
   "cell_type": "code",
   "execution_count": 47,
   "metadata": {},
   "outputs": [
    {
     "data": {
      "text/plain": [
       "'[775]'"
      ]
     },
     "execution_count": 47,
     "metadata": {},
     "output_type": "execute_result"
    }
   ],
   "source": [
    "s.printStack()"
   ]
  },
  {
   "cell_type": "code",
   "execution_count": 48,
   "metadata": {},
   "outputs": [
    {
     "data": {
      "text/plain": [
       "775"
      ]
     },
     "execution_count": 48,
     "metadata": {},
     "output_type": "execute_result"
    }
   ],
   "source": [
    "s.pop()"
   ]
  },
  {
   "cell_type": "code",
   "execution_count": 49,
   "metadata": {},
   "outputs": [
    {
     "data": {
      "text/plain": [
       "'Err: 3569 -- Stack Empty'"
      ]
     },
     "execution_count": 49,
     "metadata": {},
     "output_type": "execute_result"
    }
   ],
   "source": [
    "s.pop()"
   ]
  },
  {
   "cell_type": "markdown",
   "metadata": {},
   "source": [
    "### More resources\n",
    "\n",
    " * The main application of stacks is in recursion. [This blog](https://www.pythoncentral.io/recursive-python-function-example-make-list-movies/) is helpful introduction to using recursion with stacks\n",
    "\n",
    " * [Using stacks for reversing words in a given string](https://www.geeksforgeeks.org/reverse-words-in-a-given-string/)\n",
    " \n",
    " * [Checking for balanced parantheses in expression](https://www.geeksforgeeks.org/check-for-balanced-parentheses-in-an-expression/)\n"
   ]
  }
 ],
 "metadata": {
  "kernelspec": {
   "display_name": "Python 3",
   "language": "python",
   "name": "python3"
  },
  "language_info": {
   "codemirror_mode": {
    "name": "ipython",
    "version": 3
   },
   "file_extension": ".py",
   "mimetype": "text/x-python",
   "name": "python",
   "nbconvert_exporter": "python",
   "pygments_lexer": "ipython3",
   "version": "3.6.5"
  }
 },
 "nbformat": 4,
 "nbformat_minor": 2
}
