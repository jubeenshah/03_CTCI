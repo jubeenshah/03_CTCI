{
 "cells": [
  {
   "cell_type": "markdown",
   "metadata": {},
   "source": [
    "# Reverse words in a given string\n",
    "\n",
    "`Example: Let the input string be “i like this program very much”. The function should change the string to “much very program this like i”`"
   ]
  },
  {
   "cell_type": "code",
   "execution_count": 42,
   "metadata": {},
   "outputs": [],
   "source": [
    "class Stack():\n",
    "    \n",
    "    def __init__(self):\n",
    "        self.stack = list()\n",
    "        self.maxSize = 20\n",
    "        self.top = 0\n",
    "        \n",
    "    def push(self, data):\n",
    "        if self.top >= self.maxSize:\n",
    "            return \"Stack is Full\"\n",
    "        self.stack.append(data)\n",
    "        self.top += 1\n",
    "        return True\n",
    "    \n",
    "    def pop(self):\n",
    "        if self.top <= 0:\n",
    "            return \"Stack Empty\"\n",
    "        item = self.stack.pop()\n",
    "        self.top -= 1\n",
    "        return item\n",
    "    \n",
    "    def size(self):\n",
    "        return self.top\n",
    "       \n",
    "    def printStack(self):\n",
    "        return str(self.stack)"
   ]
  },
  {
   "cell_type": "code",
   "execution_count": 43,
   "metadata": {},
   "outputs": [],
   "source": [
    "s = Stack()"
   ]
  },
  {
   "cell_type": "code",
   "execution_count": 45,
   "metadata": {},
   "outputs": [
    {
     "name": "stdout",
     "output_type": "stream",
     "text": [
      "['i', 'like', 'this', 'program', 'very', 'much']\n",
      "much very program this like i \n"
     ]
    }
   ],
   "source": [
    "stringToReverse = \"i like this program very much\"\n",
    "listToPass = stringToReverse.split( ' ')\n",
    "print(listToPass)\n",
    "for word in listToPass:\n",
    "    s.push(word)\n",
    "s.printStack()\n",
    "reversedString = \"\"\n",
    "for i in range(s.size()):\n",
    "    reversedString = reversedString + s.pop() + \" \"\n",
    "\n",
    "print(reversedString)"
   ]
  },
  {
   "cell_type": "code",
   "execution_count": null,
   "metadata": {},
   "outputs": [],
   "source": []
  }
 ],
 "metadata": {
  "kernelspec": {
   "display_name": "Python 3",
   "language": "python",
   "name": "python3"
  },
  "language_info": {
   "codemirror_mode": {
    "name": "ipython",
    "version": 3
   },
   "file_extension": ".py",
   "mimetype": "text/x-python",
   "name": "python",
   "nbconvert_exporter": "python",
   "pygments_lexer": "ipython3",
   "version": "3.6.5"
  }
 },
 "nbformat": 4,
 "nbformat_minor": 2
}
