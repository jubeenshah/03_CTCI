{
 "cells": [
  {
   "cell_type": "code",
   "execution_count": 10,
   "metadata": {},
   "outputs": [
    {
     "name": "stdout",
     "output_type": "stream",
     "text": [
      "10\n",
      "2\n",
      "8\n"
     ]
    },
    {
     "data": {
      "text/plain": [
       "['2', '4A0r7', '4k']"
      ]
     },
     "execution_count": 10,
     "metadata": {},
     "output_type": "execute_result"
    }
   ],
   "source": [
    "def solution(S, K):\n",
    "    # write your code in Python 3.6\n",
    "    N = len(S)\n",
    "    temp = S\n",
    "    #print(N)\n",
    "    listOfChar = S.split(\"-\")\n",
    "    numberOfDashes = len(listOfChar) - 1\n",
    "    #print(numberOfDashes)\n",
    "    numberOfCharachters = N - numberOfDashes\n",
    "    #print(numberOfCharachters)\n",
    "    \n",
    "    return listOfChar\n",
    "solution(\"2-4A0r7-4k\",3)"
   ]
  },
  {
   "cell_type": "markdown",
   "metadata": {},
   "source": [
    "8%3"
   ]
  },
  {
   "cell_type": "code",
   "execution_count": 31,
   "metadata": {},
   "outputs": [
    {
     "name": "stdout",
     "output_type": "stream",
     "text": [
      "[1, 2, 3, 4, 5]\n",
      "15\n",
      "4 10\n",
      "3 6\n",
      "2 3\n",
      "1 1\n",
      "0 0\n"
     ]
    }
   ],
   "source": [
    "# you can write to stdout for debugging purposes, e.g.\n",
    "# print(\"this is a debug message\")\n",
    "\n",
    "A = [5,4,3,2,1]\n",
    "def solution(A):\n",
    "    # write your code in Python 3.6\n",
    "    #N = len(A)\n",
    "    A.sort()\n",
    "    print(A)\n",
    "    sumOfElements = sum(A)\n",
    "    print(sumOfElements)\n",
    "    N = len(A)\n",
    "    PAB = sumOfElements // 2\n",
    "    end = N\n",
    "    \n",
    "    \n",
    "        \n",
    "        \n",
    "\n",
    "        #for eachProcess in A:\n",
    "        \n",
    "            \n",
    "    \n",
    "    \n",
    "solution(A)"
   ]
  },
  {
   "cell_type": "code",
   "execution_count": null,
   "metadata": {},
   "outputs": [],
   "source": []
  },
  {
   "cell_type": "code",
   "execution_count": 20,
   "metadata": {},
   "outputs": [],
   "source": [
    "A = [5,4,3,2,1]\n",
    "A.sort()"
   ]
  },
  {
   "cell_type": "code",
   "execution_count": 21,
   "metadata": {},
   "outputs": [
    {
     "data": {
      "text/plain": [
       "[1, 2, 3, 4, 5]"
      ]
     },
     "execution_count": 21,
     "metadata": {},
     "output_type": "execute_result"
    }
   ],
   "source": [
    "A"
   ]
  },
  {
   "cell_type": "code",
   "execution_count": 32,
   "metadata": {},
   "outputs": [
    {
     "data": {
      "text/plain": [
       "7"
      ]
     },
     "execution_count": 32,
     "metadata": {},
     "output_type": "execute_result"
    }
   ],
   "source": [
    "15//2"
   ]
  },
  {
   "cell_type": "code",
   "execution_count": 33,
   "metadata": {},
   "outputs": [
    {
     "ename": "SyntaxError",
     "evalue": "invalid syntax (<ipython-input-33-5a17c55fd6b6>, line 1)",
     "output_type": "error",
     "traceback": [
      "\u001b[0;36m  File \u001b[0;32m\"<ipython-input-33-5a17c55fd6b6>\"\u001b[0;36m, line \u001b[0;32m1\u001b[0m\n\u001b[0;31m    sumtotal=\u001b[0m\n\u001b[0m             ^\u001b[0m\n\u001b[0;31mSyntaxError\u001b[0m\u001b[0;31m:\u001b[0m invalid syntax\n"
     ]
    }
   ],
   "source": [
    "sumtotal=\n",
    "\n",
    "\n"
   ]
  },
  {
   "cell_type": "code",
   "execution_count": null,
   "metadata": {},
   "outputs": [],
   "source": [
    "// you can also use imports, for example:\n",
    "import java.util.*;\n",
    "import java.lang.Math;\n",
    "\n",
    "// you can write to stdout for debugging purposes, e.g.\n",
    "// System.out.println(\"this is a debug message\");\n",
    "\n",
    "\n",
    "\n",
    "class Solution {\n",
    "    public int solution(int[] A) {\n",
    "        // write your code in Java SE8\n",
    "        int sumTotal = 0;\n",
    "        for (int i : A) {\n",
    "            sumTotal += i;\n",
    "            \n",
    "        }\n",
    "        \n",
    "        return findMin(A, A.length, 0, total);\n",
    "    }\n",
    "    \n",
    "    \n",
    "    public int findmin(int[] A, int n, int total, int sumTotal) {\n",
    "        \n",
    "        if (n==0) {\n",
    "            return Math.abs((total-sumTotal) - sumTotal);\n",
    "        }\n",
    "        \n",
    "        return Math.abs(findmin(A, n-1, total+A[n-1], sumTotal), findmin(A, n-1, total, sumTotal));\n",
    "    }\n",
    "}"
   ]
  },
  {
   "cell_type": "code",
   "execution_count": null,
   "metadata": {},
   "outputs": [],
   "source": [
    "\n"
   ]
  },
  {
   "cell_type": "code",
   "execution_count": 87,
   "metadata": {},
   "outputs": [
    {
     "name": "stdout",
     "output_type": "stream",
     "text": [
      "1\n",
      "2147483648 0\n",
      "6 11\n",
      "Stores\n",
      "5\n",
      "1\n",
      "2147483648 0\n",
      "1 11\n",
      "2\n",
      "1 11\n",
      "Stores 2\n",
      "5\n",
      "2\n",
      "2147483648 0\n",
      "579 11\n",
      "2\n",
      "579 11\n",
      "570 20\n",
      "Stores 2\n",
      "20\n",
      "2\n",
      "2147483648 0\n",
      "589 11\n",
      "2\n",
      "589 11\n",
      "580 20\n",
      "Stores 2\n",
      "20\n"
     ]
    },
    {
     "data": {
      "text/plain": [
       "[5, 11, 20, 20]"
      ]
     },
     "execution_count": 87,
     "metadata": {},
     "output_type": "execute_result"
    }
   ],
   "source": [
    "stores = [1, 5, 20, 11, 510]\n",
    "houses = [5,10,590,600]\n",
    "def solution(stores, houses):\n",
    "    # write your code in Python 3.6\n",
    "    stores.sort()\n",
    "    # [1,5,11,16,20]\n",
    "    listOfClosestStores = list()\n",
    "    for i in range(len(houses)):\n",
    "        minValue = 2**31\n",
    "        minHouse = 0    \n",
    "        start = 0\n",
    "        end = len(stores) - 1\n",
    "        check = False\n",
    "        while start < end:\n",
    "            mid = (start + end)//2\n",
    "            #print(mid)\n",
    "            if houses[i] < stores[mid]:\n",
    "                end = mid\n",
    "                print(\"1\")\n",
    "                print(minValue, minHouse)\n",
    "                #minValue = min(minValue, abs(houses[i] - stores[mid]))\n",
    "                if abs(houses[i] - stores[mid]) < minValue:\n",
    "                    \n",
    "                    minValue = abs(houses[i] - stores[mid])\n",
    "                    minHouse = stores[mid]\n",
    "                    print(minValue, minHouse)\n",
    "            if houses[i] > stores[mid]:\n",
    "                start = mid + 1\n",
    "                print(\"2\")\n",
    "                print(minValue, minHouse)\n",
    "                #minValue = min(minValue, abs(houses[i] - stores[mid]))\n",
    "                if abs(houses[i] - stores[mid]) < minValue:\n",
    "                    minValue = abs(houses[i] - stores[mid])\n",
    "                    minHouse = stores[mid]\n",
    "                    print(minValue, minHouse)\n",
    "            if houses[i] == stores[mid]:\n",
    "                print(\"Stores\")\n",
    "                print(stores[mid])\n",
    "                listOfClosestStores.append(stores[mid])\n",
    "                check = True\n",
    "                break\n",
    "        if check != True:\n",
    "            print(\"Stores 2\")\n",
    "            print(stores[mid])\n",
    "            listOfClosestStores.append(minHouse)\n",
    "    return listOfClosestStores\n",
    "solution(stores, houses)"
   ]
  },
  {
   "cell_type": "code",
   "execution_count": null,
   "metadata": {},
   "outputs": [],
   "source": []
  }
 ],
 "metadata": {
  "kernelspec": {
   "display_name": "Python 3",
   "language": "python",
   "name": "python3"
  },
  "language_info": {
   "codemirror_mode": {
    "name": "ipython",
    "version": 3
   },
   "file_extension": ".py",
   "mimetype": "text/x-python",
   "name": "python",
   "nbconvert_exporter": "python",
   "pygments_lexer": "ipython3",
   "version": "3.6.5"
  }
 },
 "nbformat": 4,
 "nbformat_minor": 2
}
