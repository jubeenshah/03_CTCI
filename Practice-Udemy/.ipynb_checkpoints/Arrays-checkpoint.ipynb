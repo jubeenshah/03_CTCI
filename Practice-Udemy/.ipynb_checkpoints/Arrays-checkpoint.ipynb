{
 "cells": [
  {
   "cell_type": "markdown",
   "metadata": {},
   "source": [
    "# Arrays\n",
    "\n",
    "## Operations\n",
    "\n",
    "* Lookup    --> O(1)\n",
    "* Push      --> O(1)\n",
    "* Pop       --> O(1)\n",
    "* Insertion --> O(n)\n",
    "* Deletion  --> O(n)"
   ]
  },
  {
   "cell_type": "code",
   "execution_count": 3,
   "metadata": {},
   "outputs": [
    {
     "name": "stdout",
     "output_type": "stream",
     "text": [
      "['a', 'b', 'c', 'd']\n"
     ]
    }
   ],
   "source": [
    "array= ['a','b','c','d']\n",
    "print(array)"
   ]
  },
  {
   "cell_type": "code",
   "execution_count": 5,
   "metadata": {},
   "outputs": [
    {
     "data": {
      "text/plain": [
       "'d'"
      ]
     },
     "execution_count": 5,
     "metadata": {},
     "output_type": "execute_result"
    }
   ],
   "source": [
    "#Lookup Operation O(1)\n",
    "array[3]\n",
    "\n"
   ]
  },
  {
   "cell_type": "code",
   "execution_count": 4,
   "metadata": {},
   "outputs": [
    {
     "name": "stdout",
     "output_type": "stream",
     "text": [
      "['a', 'b', 'c', 'd', 'e']\n"
     ]
    }
   ],
   "source": [
    "#push operation O(1)\n",
    "array.append('e')\n",
    "print(array)"
   ]
  },
  {
   "cell_type": "code",
   "execution_count": 6,
   "metadata": {},
   "outputs": [
    {
     "name": "stdout",
     "output_type": "stream",
     "text": [
      "['a', 'b', 'c', 'd']\n",
      "['a', 'b', 'c']\n"
     ]
    }
   ],
   "source": [
    "#Pop Operation O(1)\n",
    "array.pop()\n",
    "print(array)\n",
    "array.pop()\n",
    "print(array)"
   ]
  },
  {
   "cell_type": "code",
   "execution_count": 10,
   "metadata": {},
   "outputs": [
    {
     "name": "stdout",
     "output_type": "stream",
     "text": [
      "['a', 'a', 'b', 'c']\n"
     ]
    }
   ],
   "source": [
    "#Insertion O(n)\n",
    "array.insert(1,'a')\n",
    "print(array)"
   ]
  },
  {
   "cell_type": "code",
   "execution_count": 13,
   "metadata": {},
   "outputs": [
    {
     "name": "stdout",
     "output_type": "stream",
     "text": [
      "['b', 'c']\n"
     ]
    }
   ],
   "source": [
    "#Deletion O(n)\n",
    "array.remove('a')\n",
    "print(array)"
   ]
  },
  {
   "cell_type": "code",
   "execution_count": 33,
   "metadata": {},
   "outputs": [
    {
     "name": "stdout",
     "output_type": "stream",
     "text": [
      "['a', 'b', 'c', 'd']\n"
     ]
    }
   ],
   "source": [
    "array= ['a','b','c','d']\n",
    "print(array)"
   ]
  },
  {
   "cell_type": "code",
   "execution_count": 34,
   "metadata": {},
   "outputs": [
    {
     "name": "stdout",
     "output_type": "stream",
     "text": [
      "['a', 'b', 'c', 'd', 'e']\n"
     ]
    }
   ],
   "source": [
    "#without \"append\" function\n",
    "array = array + ['e'] #still O(n)\n",
    "print(array)\n",
    "#array = ['e'] + array\n",
    "#print(array)"
   ]
  },
  {
   "cell_type": "code",
   "execution_count": 35,
   "metadata": {},
   "outputs": [
    {
     "name": "stdout",
     "output_type": "stream",
     "text": [
      "['a', 'b', 'c', 'd']\n"
     ]
    }
   ],
   "source": [
    "#without \"pop\" function\n",
    "array = array[:-1] \n",
    "print(array)"
   ]
  },
  {
   "cell_type": "code",
   "execution_count": 84,
   "metadata": {},
   "outputs": [
    {
     "name": "stdout",
     "output_type": "stream",
     "text": [
      "['a', 'b', 'c', '*****', 'd', 'e', 'f']\n"
     ]
    }
   ],
   "source": [
    "array= ['a','b','c','d','e','f'] \n",
    "element = '*****'\n",
    "position = 3\n",
    "\n",
    "# Insertion Operation\n",
    "def insertion(position,array,element):\n",
    "    if position > len(array) + 1 or position < 0:\n",
    "        print(\"Index out of Range\")\n",
    "    else:\n",
    "        \n",
    "        array = array[0:position] + element.split(' ') + array[position:]\n",
    "        print(array)\n",
    "    #for i in array:\n",
    "        \n",
    "insertion(position,array,element)\n"
   ]
  },
  {
   "cell_type": "code",
   "execution_count": 166,
   "metadata": {},
   "outputs": [],
   "source": [
    "class myArray:\n",
    "    def __init__(self, data = [None], length=0):\n",
    "        self.data = data;\n",
    "        self.length = 0;\n",
    "        \n",
    "    def getData(self):\n",
    "        return self.data\n",
    "    \n",
    "    def getLength(self):\n",
    "        return self.length\n",
    "    \n",
    "    def pushData(self, data):\n",
    "        self.data = data\n",
    "        self.length = self.length + 1\n",
    "        return self.data\n",
    "    "
   ]
  },
  {
   "cell_type": "code",
   "execution_count": 167,
   "metadata": {},
   "outputs": [
    {
     "name": "stdout",
     "output_type": "stream",
     "text": [
      "[]\n",
      "0\n",
      "1\n",
      "1\n"
     ]
    }
   ],
   "source": [
    "newArray = myArray()\n",
    "print(newArray.getData())\n",
    "print(newArray.getLength())\n",
    "print(newArray.pushData(1))\n",
    "print(newArray.pushData(1))"
   ]
  },
  {
   "cell_type": "markdown",
   "metadata": {},
   "source": [
    "** String Reversal **"
   ]
  },
  {
   "cell_type": "code",
   "execution_count": 211,
   "metadata": {},
   "outputs": [
    {
     "name": "stdout",
     "output_type": "stream",
     "text": [
      "neebuJ si emaN yM iH\n",
      "neebuJ si emaN yM iH\n",
      "neebuJ si emaN yM iH\n"
     ]
    }
   ],
   "source": [
    "def reverseString(stringToReverse):\n",
    "    if len(stringToReverse) == 0: \n",
    "        return stringToReverse \n",
    "    else: \n",
    "        #stringToReverse = stringToReverse.split()\n",
    "        ptr = len(stringToReverse) - 1\n",
    "        reversedString = \"\"\n",
    "        for i in range(0,ptr+1):\n",
    "            reversedString += stringToReverse[ptr]\n",
    "            ptr = ptr - 1\n",
    "        return reversedString\n",
    "    \n",
    "string = \"Hi My Name is Something\"    \n",
    "print(reverseString(string))\n",
    "\n",
    "def reverseString2(stringToReverse): \n",
    "    if len(stringToReverse) == 0: \n",
    "        return stringToReverse \n",
    "    else: \n",
    "        return reverse(stringToReverse[1:]) + stringToReverse[0] \n",
    "string = \"Hi My Name is Something\"    \n",
    "print(reverseString2(string))\n",
    "\n",
    "string = \"Hi My Name is Something\"   \n",
    "def reverseString3(stringToReverse):\n",
    "    if len(stringToReverse) == 0: \n",
    "        return stringToReverse \n",
    "    else: \n",
    "        return stringToReverse[::-1]                           \n",
    "print(reverseString3(string))"
   ]
  },
  {
   "cell_type": "markdown",
   "metadata": {},
   "source": [
    "** Merge sorted arrays **"
   ]
  },
  {
   "cell_type": "code",
   "execution_count": 302,
   "metadata": {},
   "outputs": [
    {
     "data": {
      "text/plain": [
       "[0, 1, 2, 2, 3, 4, 4, 5, 6, 6, 8, 10, 12, 14]"
      ]
     },
     "execution_count": 302,
     "metadata": {},
     "output_type": "execute_result"
    }
   ],
   "source": [
    "def mergeSortedArrays(arrayUno, arrayDos):\n",
    "    #check for conditions\n",
    "    \n",
    "    if len(arrayUno) == 0:\n",
    "        return arrayDos\n",
    "    elif len(arrayDos) == 0:\n",
    "        return arrayUno\n",
    "    i = 0\n",
    "    j = 0\n",
    "    arrayTres = []\n",
    "    while i < len(arrayUno) and j < len(arrayDos):\n",
    "        if arrayUno[i] < arrayDos[j]:\n",
    "            arrayTres.append(arrayUno[i])\n",
    "            i+=1\n",
    "        else:\n",
    "            arrayTres.append(arrayDos[j])\n",
    "            j+=1\n",
    "        #print(arrayTres)\n",
    "    if len(arrayUno) > len(arrayDos):   \n",
    "        while i < max(len(arrayUno),len(arrayDos)):\n",
    "            arrayTres.append(arrayUno[i])\n",
    "            i +=1\n",
    "    else:\n",
    "        while j < max(len(arrayUno),len(arrayDos)):\n",
    "            arrayTres.append(arrayDos[j])\n",
    "            j +=1\n",
    "    return arrayTres\n",
    "arrayUno = [0,2,4,6,8,10,12,14]\n",
    "arrayDos = [1,2,3,4,5,6]\n",
    "mergeSortedArrays(arrayUno, arrayDos)\n",
    "\n"
   ]
  },
  {
   "cell_type": "markdown",
   "metadata": {},
   "source": [
    "```\n",
    "Input: \n",
    "nums = [1, 7, 3, 6, 5, 6]\n",
    "Output: 3\n",
    "Explanation: \n",
    "The sum of the numbers to the left of index 3 (nums[3] = 6) is equal to the sum of numbers to the right of index 3.\n",
    "Also, 3 is the first index where this occurs.\n",
    "```"
   ]
  },
  {
   "cell_type": "code",
   "execution_count": 7,
   "metadata": {},
   "outputs": [
    {
     "data": {
      "text/plain": [
       "3"
      ]
     },
     "execution_count": 7,
     "metadata": {},
     "output_type": "execute_result"
    }
   ],
   "source": [
    "nums = [1, 7, 3, 6, 5, 6]\n",
    "def findPivot(nums):\n",
    "    rightSum = sum(nums)\n",
    "    leftSum = 0\n",
    "    \n",
    "    for currentPivot in range(len(nums)):\n",
    "        rightSum = rightSum - nums[currentPivot]\n",
    "        if rightSum == leftSum:\n",
    "            return currentPivot\n",
    "        leftSum = leftSum + nums[currentPivot]\n",
    "    return -1\n",
    "\n",
    "findPivot(nums)"
   ]
  },
  {
   "cell_type": "code",
   "execution_count": 3,
   "metadata": {},
   "outputs": [
    {
     "name": "stdout",
     "output_type": "stream",
     "text": [
      "0 -1\n",
      "1 -1\n",
      "2 -1\n",
      "3 -1\n",
      "4 -1\n",
      "5 0\n"
     ]
    }
   ],
   "source": [
    "for i,j in enumerate(nums):\n",
    "    print(i,j)"
   ]
  },
  {
   "cell_type": "markdown",
   "metadata": {},
   "source": [
    "```\n",
    "Input: nums = [3, 6, 1, 0]\n",
    "Output: 1\n",
    "Explanation: 6 is the largest integer, and for every other number in the array x,\n",
    "6 is more than twice as big as x.  The index of value 6 is 1, so we return 1.\n",
    "\n",
    "Input: nums = [1, 2, 3, 4]\n",
    "Output: -1\n",
    "Explanation: 4 isn't at least as big as twice the value of 3, so we return -1.\n",
    "```"
   ]
  },
  {
   "cell_type": "code",
   "execution_count": 80,
   "metadata": {},
   "outputs": [
    {
     "name": "stdout",
     "output_type": "stream",
     "text": [
      "[1, 0, 0, 0]\n",
      "--- 0.0002696514129638672 seconds ---\n"
     ]
    },
    {
     "data": {
      "text/plain": [
       "3"
      ]
     },
     "execution_count": 80,
     "metadata": {},
     "output_type": "execute_result"
    }
   ],
   "source": [
    "nums = [0,0,0,1]\n",
    "import time\n",
    "\n",
    "def checkTwice(nums):\n",
    "    maxNum = max(nums)\n",
    "    indexOfMaxNum = nums.index(maxNum)\n",
    "    nums.sort(reverse=True)\n",
    "    start_time = time.time()\n",
    "    \n",
    "    #print(maxNum)\n",
    "\n",
    "    \n",
    "    for i in nums[1:]:\n",
    "        #print(i, maxNum, float(maxNum/i))\n",
    "        if i == 0:\n",
    "            continue\n",
    "        if float(maxNum /i ) < 2.0:\n",
    "            return -1\n",
    "    print(nums)\n",
    "    print(\"--- %s seconds ---\" % (time.time() - start_time))  \n",
    "    return indexOfMaxNum\n",
    "    \n",
    "checkTwice(nums)"
   ]
  },
  {
   "cell_type": "markdown",
   "metadata": {},
   "source": [
    "```\n",
    "Input: [1,2,3]\n",
    "Output: [1,2,4]\n",
    "Explanation: The array represents the integer 123.\n",
    "\n",
    "Input: [4,3,2,1]\n",
    "Output: [4,3,2,2]\n",
    "Explanation: The array represents the integer 4321.\n",
    "```"
   ]
  },
  {
   "cell_type": "code",
   "execution_count": 126,
   "metadata": {},
   "outputs": [
    {
     "name": "stdout",
     "output_type": "stream",
     "text": [
      "[1, 2, 99]\n",
      "1\n",
      "2\n",
      "99\n",
      "220\n"
     ]
    },
    {
     "data": {
      "text/plain": [
       "[2, 2, 0]"
      ]
     },
     "execution_count": 126,
     "metadata": {},
     "output_type": "execute_result"
    }
   ],
   "source": [
    "digits = [1,2,99]\n",
    "\n",
    "def plusOne(digits):\n",
    "    print(digits)\n",
    "    lenOfDigits = len(digits) - 1\n",
    "    numberToReturn = 0\n",
    "    for i in digits:\n",
    "        print(i)\n",
    "        numberToReturn += i * 10**lenOfDigits\n",
    "        lenOfDigits -= 1\n",
    "    numberToReturn = numberToReturn + 1\n",
    "    print(numberToReturn)\n",
    "    listToReturn = list()\n",
    "    while numberToReturn>0:\n",
    "        temp = numberToReturn % 10\n",
    "        listToReturn.append(temp)\n",
    "        numberToReturn = numberToReturn // 10\n",
    "    listToReturn = list(reversed(listToReturn))\n",
    "    return listToReturn\n",
    "plusOne(digits)"
   ]
  },
  {
   "cell_type": "code",
   "execution_count": 39,
   "metadata": {},
   "outputs": [
    {
     "name": "stdout",
     "output_type": "stream",
     "text": [
      "defaultdict(<class 'list'>, {1: [1], 2: [2, 4], 3: [3, 5, 7], 4: [6, 8], 5: [9]})\n",
      "[1]\n",
      "[2, 4]\n",
      "[7, 5, 3]\n",
      "[6, 8]\n",
      "[9]\n",
      "[1, 2, 4, 7, 5, 3, 6, 8, 9]\n"
     ]
    },
    {
     "data": {
      "text/plain": [
       "[1, 2, 4, 7, 5, 3, 6, 8, 9]"
      ]
     },
     "execution_count": 39,
     "metadata": {},
     "output_type": "execute_result"
    }
   ],
   "source": [
    "matrix=[\n",
    " [ 1, 2, 3 ],\n",
    " [ 4, 5, 6 ],\n",
    " [ 7, 8, 9 ]\n",
    "]\n",
    "import collections\n",
    "def diagonalTraverse(matrix):\n",
    "    #print(matrix)\n",
    "    result =[]\n",
    "    diagonal = collections.defaultdict(list)\n",
    "    M,N = len(matrix), len(matrix[0])\n",
    "    #print(M,N)\n",
    "    if not matrix:\n",
    "        return result\n",
    "    for i in range(0, M):\n",
    "        for j in range(0,N):\n",
    "            #print(i,j)\n",
    "            diagonal[i+j+1].append(matrix[i][j])\n",
    "            #print(diagonal)\n",
    "            \n",
    "    print(diagonal)\n",
    "    \n",
    "    for i in sorted(diagonal.keys()):\n",
    "        #print(diagonal[i])\n",
    "        if i % 2 != 0:\n",
    "            diagonal[i].reverse()\n",
    "        print(diagonal[i])\n",
    "        result+=(diagonal[i])\n",
    "\n",
    "    print(result)\n",
    "    return result\n",
    "diagonalTraverse(matrix)"
   ]
  },
  {
   "cell_type": "markdown",
   "metadata": {},
   "source": [
    "**Spiral Matrix**\n",
    "\n",
    "```\n",
    "Input:\n",
    "[\n",
    " [ 1, 2, 3 ],\n",
    " [ 4, 5, 6 ],\n",
    " [ 7, 8, 9 ]\n",
    "]\n",
    "Output: [1,2,3,6,9,8,7,4,5]\n",
    "```"
   ]
  },
  {
   "cell_type": "code",
   "execution_count": 137,
   "metadata": {},
   "outputs": [
    {
     "name": "stdout",
     "output_type": "stream",
     "text": [
      "[[1, 2, 3, 4], [5, 6, 7, 8], [9, 10, 11, 12]]\n"
     ]
    },
    {
     "data": {
      "text/plain": [
       "[1, 2, 3, 4, 8, 12, 11, 10, 9, 5, 6, 7, 6]"
      ]
     },
     "execution_count": 137,
     "metadata": {},
     "output_type": "execute_result"
    }
   ],
   "source": [
    "matrix=[[1,2,3,4],[5,6,7,8],[9,10,11,12]]\n",
    "def spiralMatrix(matrix):\n",
    "    print(matrix)\n",
    "    result = []\n",
    "    ll =len(matrix) \n",
    "    if ll == 0:\n",
    "        return result\n",
    "    rowStart = 0 #row start\n",
    "    rowEnd = len(matrix[0]) -1 #row end\n",
    "    colStart = 0 # col start\n",
    "    colEnd = ll-1 # col end\n",
    "    \n",
    "    while rowStart <= rowEnd and colStart <= colEnd:\n",
    "        #move right\n",
    "        for i in range(rowStart,rowEnd+1):\n",
    "            result.append(matrix[rowStart][i])\n",
    "            \n",
    "        colStart+=1\n",
    "        #move down\n",
    "        for i in range(colStart, colEnd+1):\n",
    "            result.append(matrix[i][rowEnd])\n",
    "        rowEnd -= 1\n",
    "        #move left\n",
    "        if colStart <= colEnd:\n",
    "            for i in range(rowEnd,rowStart-1,-1):\n",
    "                result.append(matrix[colEnd][i])\n",
    "            colEnd -= 1\n",
    "        #move up\n",
    "        if rowStart <= rowEnd:\n",
    "            for i in range(colEnd,colEnd-1,-1):\n",
    "                result.append(matrix[i][rowStart])\n",
    "            rowStart+=1\n",
    "    return result\n",
    "spiralMatrix(matrix)"
   ]
  },
  {
   "cell_type": "code",
   "execution_count": 71,
   "metadata": {},
   "outputs": [
    {
     "name": "stdout",
     "output_type": "stream",
     "text": [
      "6\n",
      "5\n"
     ]
    }
   ],
   "source": [
    "for i in range(6,4,-1):\n",
    "    print(i)"
   ]
  },
  {
   "cell_type": "markdown",
   "metadata": {},
   "source": [
    "**Pascals Triangle**\n",
    "```\n",
    "Input: 5\n",
    "Output:\n",
    "[\n",
    "     [1],\n",
    "    [1,1],\n",
    "   [1,2,1],\n",
    "  [1,3,3,1],\n",
    " [1,4,6,4,1]\n",
    "]\n",
    "```"
   ]
  },
  {
   "cell_type": "code",
   "execution_count": 38,
   "metadata": {},
   "outputs": [
    {
     "data": {
      "text/plain": [
       "[[1], [1, 1], [1, 2, 1], [1, 3, 3, 1], [1, 4, 6, 4, 1]]"
      ]
     },
     "execution_count": 38,
     "metadata": {},
     "output_type": "execute_result"
    }
   ],
   "source": [
    "numRows = 5\n",
    "def pascalsTriangle(numRows):\n",
    "    #print(number)\n",
    "    result = [[1],[1, 1]] \n",
    "    \n",
    "    first =  [[1]]\n",
    "    second = [[1],[1, 1]]\n",
    "    \n",
    "    if numRows <= 0:\n",
    "        return []\n",
    "    elif numRows == 1:\n",
    "        return first\n",
    "    elif numRows == 2:\n",
    "        return second\n",
    "    \n",
    "    while numRows > 2:\n",
    "        temp = []\n",
    "        for i in range(len(result[-1]) - 1):\n",
    "            #print(i)\n",
    "            temp.append(result[-1][i] + result[-1][i+1])\n",
    "        temp.insert(0,1)\n",
    "        temp.append(1)\n",
    "        result.append(temp)\n",
    "        numRows -= 1\n",
    "        \n",
    "    return result\n",
    "        \n",
    "            \n",
    "        \n",
    "    \n",
    "pascalsTriangle(numRows)"
   ]
  },
  {
   "cell_type": "code",
   "execution_count": 53,
   "metadata": {},
   "outputs": [
    {
     "ename": "ValueError",
     "evalue": "invalid literal for int() with base 10: '0b11'",
     "output_type": "error",
     "traceback": [
      "\u001b[0;31m---------------------------------------------------------------------------\u001b[0m",
      "\u001b[0;31mValueError\u001b[0m                                Traceback (most recent call last)",
      "\u001b[0;32m<ipython-input-53-9532dbe29a02>\u001b[0m in \u001b[0;36m<module>\u001b[0;34m()\u001b[0m\n\u001b[0;32m----> 1\u001b[0;31m \u001b[0mint\u001b[0m\u001b[0;34m(\u001b[0m\u001b[0;34m\"0b11\"\u001b[0m\u001b[0;34m)\u001b[0m\u001b[0;34m\u001b[0m\u001b[0m\n\u001b[0m",
      "\u001b[0;31mValueError\u001b[0m: invalid literal for int() with base 10: '0b11'"
     ]
    }
   ],
   "source": [
    "int(\"0b11\")"
   ]
  },
  {
   "cell_type": "markdown",
   "metadata": {},
   "source": [
    "**Binary Addition**\n",
    "```\n",
    "Example 1:\n",
    "\n",
    "Input: a = \"11\", b = \"1\"\n",
    "Output: \"100\"\n",
    "Example 2:\n",
    "\n",
    "Input: a = \"1010\", b = \"1011\"\n",
    "Output: \"10101\"\n",
    "```"
   ]
  },
  {
   "cell_type": "code",
   "execution_count": 69,
   "metadata": {},
   "outputs": [
    {
     "data": {
      "text/plain": [
       "'10101'"
      ]
     },
     "execution_count": 69,
     "metadata": {},
     "output_type": "execute_result"
    }
   ],
   "source": [
    "a = \"1010\"\n",
    "b = \"1011\"\n",
    "\n",
    "def addBinary(a,b):\n",
    "    a, b = int(a, base=2), int(b, base=2)\n",
    "    total = str(bin(a + b))\n",
    "    return total.replace(\"0b\", \"\")\n",
    "    \n",
    "    \n",
    "addBinary(a,b)"
   ]
  },
  {
   "cell_type": "code",
   "execution_count": 68,
   "metadata": {},
   "outputs": [
    {
     "data": {
      "text/plain": [
       "'10101'"
      ]
     },
     "execution_count": 68,
     "metadata": {},
     "output_type": "execute_result"
    }
   ],
   "source": [
    "text = \"0b10101\"\n",
    "text.replace(\"0b\",\"\")"
   ]
  },
  {
   "cell_type": "markdown",
   "metadata": {},
   "source": [
    "**Implement strStr()**\n",
    "\n",
    "```\n",
    "Example 1:\n",
    "\n",
    "Input: haystack = \"hello\", needle = \"ll\"\n",
    "Output: 2\n",
    "Example 2:\n",
    "\n",
    "Input: haystack = \"aaaaa\", needle = \"bba\"\n",
    "Output: -1\n",
    "```"
   ]
  },
  {
   "cell_type": "code",
   "execution_count": 78,
   "metadata": {},
   "outputs": [
    {
     "name": "stdout",
     "output_type": "stream",
     "text": [
      "-1\n"
     ]
    },
    {
     "data": {
      "text/plain": [
       "-1"
      ]
     },
     "execution_count": 78,
     "metadata": {},
     "output_type": "execute_result"
    }
   ],
   "source": [
    "haystack = \"hello\"\n",
    "needle = \"2\"\n",
    "print(haystack.find(needle))\n",
    "def strStr(haystack, needle):\n",
    "    #print(haystack, needle)\n",
    "    if needle == \"\":\n",
    "        return 0\n",
    "    try:\n",
    "        return haystack.index(needle)\n",
    "    except:\n",
    "        return -1\n",
    "strStr(haystack,needle)"
   ]
  },
  {
   "cell_type": "markdown",
   "metadata": {},
   "source": [
    "**Longest Common Prefix** \n",
    "\n",
    "```\n",
    "Example 1:\n",
    "\n",
    "Input: [\"flower\",\"flow\",\"flight\"]\n",
    "Output: \"fl\"\n",
    "Example 2:\n",
    "\n",
    "Input: [\"dog\",\"racecar\",\"car\"]\n",
    "Output: \"\"\n",
    "Explanation: There is no common prefix among the input strings.\n",
    "```"
   ]
  },
  {
   "cell_type": "code",
   "execution_count": 109,
   "metadata": {},
   "outputs": [
    {
     "data": {
      "text/plain": [
       "''"
      ]
     },
     "execution_count": 109,
     "metadata": {},
     "output_type": "execute_result"
    }
   ],
   "source": [
    "strs = [\"dog\",\"racecar\",\"car\"]\n",
    "def longestCommonPrefix(strs):\n",
    "    minLength = 9999\n",
    "    if strs == []:\n",
    "        return \"\"\n",
    "    for i in strs:\n",
    "        if len(i) < minLength:\n",
    "            minLength = len(i)\n",
    "    #print(minLength)\n",
    "    for i in range(0, minLength):\n",
    "        newStrs = []\n",
    "        for each in strs:\n",
    "            newStrs.append(each[0:minLength])\n",
    "        checkStatus = check(newStrs)\n",
    "        if checkStatus == True:\n",
    "            return newStrs[0]\n",
    "        minLength -= 1\n",
    "    return \"\"\n",
    "\n",
    "def check(newStrs):\n",
    "    #print(newStrs)\n",
    "    checkStr = newStrs[0]\n",
    "    #print(checkStr)\n",
    "    for i in newStrs:\n",
    "        #print(i,checkStr)\n",
    "        if checkStr == i:\n",
    "            continue\n",
    "        else:\n",
    "            return False\n",
    "    return True\n",
    "    \n",
    "    #print(newStrs)\n",
    "longestCommonPrefix(strs)"
   ]
  },
  {
   "cell_type": "code",
   "execution_count": 85,
   "metadata": {},
   "outputs": [
    {
     "name": "stdout",
     "output_type": "stream",
     "text": [
      "4\n"
     ]
    }
   ],
   "source": []
  },
  {
   "cell_type": "markdown",
   "metadata": {},
   "source": [
    "**Reverse String**\n",
    "```\n",
    "Example 1:\n",
    "\n",
    "Input: [\"h\",\"e\",\"l\",\"l\",\"o\"]\n",
    "Output: [\"o\",\"l\",\"l\",\"e\",\"h\"]\n",
    "Example 2:\n",
    "\n",
    "Input: [\"H\",\"a\",\"n\",\"n\",\"a\",\"h\"]\n",
    "Output: [\"h\",\"a\",\"n\",\"n\",\"a\",\"H\"]\n",
    "```"
   ]
  },
  {
   "cell_type": "code",
   "execution_count": 119,
   "metadata": {},
   "outputs": [
    {
     "ename": "IndexError",
     "evalue": "string index out of range",
     "output_type": "error",
     "traceback": [
      "\u001b[0;31m---------------------------------------------------------------------------\u001b[0m",
      "\u001b[0;31mIndexError\u001b[0m                                Traceback (most recent call last)",
      "\u001b[0;32m<ipython-input-119-2a50f2ecc3a8>\u001b[0m in \u001b[0;36m<module>\u001b[0;34m()\u001b[0m\n\u001b[1;32m     11\u001b[0m         \u001b[0mend\u001b[0m \u001b[0;34m-=\u001b[0m \u001b[0;36m1\u001b[0m\u001b[0;34m\u001b[0m\u001b[0m\n\u001b[1;32m     12\u001b[0m         \u001b[0mprint\u001b[0m\u001b[0;34m(\u001b[0m\u001b[0mstart\u001b[0m\u001b[0;34m,\u001b[0m \u001b[0mend\u001b[0m\u001b[0;34m,\u001b[0m \u001b[0ms\u001b[0m\u001b[0;34m)\u001b[0m\u001b[0;34m\u001b[0m\u001b[0m\n\u001b[0;32m---> 13\u001b[0;31m \u001b[0mreverseString\u001b[0m\u001b[0;34m(\u001b[0m\u001b[0ms\u001b[0m\u001b[0;34m)\u001b[0m\u001b[0;34m\u001b[0m\u001b[0m\n\u001b[0m",
      "\u001b[0;32m<ipython-input-119-2a50f2ecc3a8>\u001b[0m in \u001b[0;36mreverseString\u001b[0;34m(s)\u001b[0m\n\u001b[1;32m      6\u001b[0m         \u001b[0mtemp\u001b[0m\u001b[0;34m,\u001b[0m\u001b[0ms\u001b[0m\u001b[0;34m,\u001b[0m\u001b[0me\u001b[0m \u001b[0;34m=\u001b[0m \u001b[0;34m''\u001b[0m\u001b[0;34m,\u001b[0m\u001b[0ms\u001b[0m\u001b[0;34m[\u001b[0m\u001b[0mstart\u001b[0m\u001b[0;34m]\u001b[0m\u001b[0;34m,\u001b[0m\u001b[0ms\u001b[0m\u001b[0;34m[\u001b[0m\u001b[0mend\u001b[0m\u001b[0;34m]\u001b[0m\u001b[0;34m\u001b[0m\u001b[0m\n\u001b[1;32m      7\u001b[0m         \u001b[0mtemp\u001b[0m \u001b[0;34m=\u001b[0m \u001b[0ms\u001b[0m\u001b[0;34m[\u001b[0m\u001b[0mstart\u001b[0m\u001b[0;34m]\u001b[0m\u001b[0;34m\u001b[0m\u001b[0m\n\u001b[0;32m----> 8\u001b[0;31m         \u001b[0ms\u001b[0m \u001b[0;34m=\u001b[0m \u001b[0ms\u001b[0m\u001b[0;34m[\u001b[0m\u001b[0mend\u001b[0m\u001b[0;34m]\u001b[0m\u001b[0;34m\u001b[0m\u001b[0m\n\u001b[0m\u001b[1;32m      9\u001b[0m         \u001b[0me\u001b[0m \u001b[0;34m=\u001b[0m \u001b[0mtemp\u001b[0m\u001b[0;34m\u001b[0m\u001b[0m\n\u001b[1;32m     10\u001b[0m         \u001b[0mstart\u001b[0m \u001b[0;34m+=\u001b[0m \u001b[0;36m1\u001b[0m\u001b[0;34m\u001b[0m\u001b[0m\n",
      "\u001b[0;31mIndexError\u001b[0m: string index out of range"
     ]
    }
   ],
   "source": [
    "s = [\"h\",\"e\",\"l\",\"l\",\"o\"]\n",
    "def reverseString(s):\n",
    "    start = 0\n",
    "    end = len(s) - 1\n",
    "    for i in range(len(s)):\n",
    "        temp,s,e = '',s[start],s[end]\n",
    "        temp = s[start]\n",
    "        s = s[end]\n",
    "        e = temp\n",
    "        start += 1\n",
    "        end -= 1\n",
    "        print(start, end, s)\n",
    "reverseString(s)"
   ]
  },
  {
   "cell_type": "code",
   "execution_count": null,
   "metadata": {},
   "outputs": [],
   "source": []
  }
 ],
 "metadata": {
  "kernelspec": {
   "display_name": "Python 3",
   "language": "python",
   "name": "python3"
  },
  "language_info": {
   "codemirror_mode": {
    "name": "ipython",
    "version": 3
   },
   "file_extension": ".py",
   "mimetype": "text/x-python",
   "name": "python",
   "nbconvert_exporter": "python",
   "pygments_lexer": "ipython3",
   "version": "3.6.5"
  }
 },
 "nbformat": 4,
 "nbformat_minor": 2
}
