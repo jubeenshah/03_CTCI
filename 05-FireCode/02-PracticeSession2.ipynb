{
 "cells": [
  {
   "cell_type": "markdown",
   "metadata": {},
   "source": [
    "# Pallindrome"
   ]
  },
  {
   "cell_type": "code",
   "execution_count": 6,
   "metadata": {},
   "outputs": [],
   "source": [
    "def is_palindrome(input_string):\n",
    "    l = len(input_string)\n",
    "    for i in range(l//2):\n",
    "        if input_string[i] != input_string [l-i-1]:\n",
    "            return False\n",
    "    return True"
   ]
  },
  {
   "cell_type": "code",
   "execution_count": 8,
   "metadata": {},
   "outputs": [
    {
     "data": {
      "text/plain": [
       "True"
      ]
     },
     "execution_count": 8,
     "metadata": {},
     "output_type": "execute_result"
    }
   ],
   "source": [
    "is_palindrome(\"madam\")"
   ]
  },
  {
   "cell_type": "code",
   "execution_count": 25,
   "metadata": {},
   "outputs": [
    {
     "name": "stdout",
     "output_type": "stream",
     "text": [
      "[[0, 1], [0, 1]]\n"
     ]
    }
   ],
   "source": [
    "def flip_vertical_axis(matrix):\n",
    "    rows = len(matrix)\n",
    "    cols = len(matrix[0])\n",
    "    \n",
    "    for i in range(rows):\n",
    "        for j in range(int(cols/2)):\n",
    "            temp = matrix[i][j]\n",
    "            #print(temp, i, j)\n",
    "            matrix[i][j] = matrix[i][j+1]\n",
    "            #print(matrix[i][j])\n",
    "            matrix[i][j+1] = temp\n",
    "            \n",
    "    return matrix\n",
    "            \n",
    "            \n",
    "matrixA = [[1,0],[1,0]]\n",
    "flip_vertical_axis(matrixA)"
   ]
  },
  {
   "cell_type": "code",
   "execution_count": 32,
   "metadata": {},
   "outputs": [
    {
     "name": "stdout",
     "output_type": "stream",
     "text": [
      "[[0, 0], [1, 1]]\n"
     ]
    }
   ],
   "source": [
    "matrixA = [[1,1],[0,0]]\n",
    "def flip_horizontal_axis(matrix):\n",
    "    rows = len(matrix) - 1\n",
    "    cols = len(matrix[0]) - 1\n",
    "    \n",
    "    temp = 0\n",
    "    i = 0\n",
    "    while i <= rows / 2:\n",
    "        j = 0\n",
    "        while j <= cols:\n",
    "            temp = matrix[i][j]\n",
    "            #print(temp)\n",
    "            matrix[i][j] = matrix[rows-i][j]\n",
    "            #print(matrix[i][j])\n",
    "            matrix[rows-i][j] = temp\n",
    "            \n",
    "            j = j + 1\n",
    "        i = i + 1\n",
    "    return matrix\n",
    "            \n",
    "flip_horizontal_axis(matrixA)"
   ]
  },
  {
   "cell_type": "markdown",
   "metadata": {},
   "source": [
    "# duplicate_items \n",
    "Write a function - duplicate_items to find the redundant or repeated items in a list and return them in sorted order. \n",
    "This method should return a list of redundant integers in ascending sorted order (as illustrated below). \n",
    "\n",
    "Examples:\n",
    "duplicate_items([1, 3, 4, 2, 1]) => [1]\n",
    "\n",
    "duplicate_items([1, 3, 4, 2, 1, 2, 4]) => [1, 2, 4]\n",
    "\n"
   ]
  },
  {
   "cell_type": "code",
   "execution_count": 63,
   "metadata": {},
   "outputs": [
    {
     "name": "stdout",
     "output_type": "stream",
     "text": [
      "[1, 2, 4]\n"
     ]
    }
   ],
   "source": [
    "list_items = [1, 3, 4, 2, 1, 2, 4]\n",
    "duplicate = []\n",
    "def duplicate_items(list_items):\n",
    "    list_items.sort()\n",
    "\n",
    "    for i in range(1,len(list_items)):\n",
    "        if list_items[i] == list_items[i-1]:\n",
    "            duplicate.append(list_items[i])\n",
    "    return duplicate\n",
    "\n",
    "duplicate_items(list_items)"
   ]
  },
  {
   "cell_type": "markdown",
   "metadata": {},
   "source": [
    "Write a function to compute the binary representation of a positive decimal integer. The method should return a string. \n",
    "\n",
    "Example:\n",
    "dec_to_bin(6) ==> \"110\"\n",
    "\n",
    "dec_to_bin(5) ==> \"101\"\n",
    "Note : Do not use in-built bin() function."
   ]
  },
  {
   "cell_type": "code",
   "execution_count": 95,
   "metadata": {},
   "outputs": [
    {
     "data": {
      "text/plain": [
       "'1100'"
      ]
     },
     "execution_count": 95,
     "metadata": {},
     "output_type": "execute_result"
    }
   ],
   "source": [
    "dec = 12\n",
    "def dec_to_bin(dec):\n",
    "    binary = \"\"\n",
    "    binary_list = [] \n",
    "    while dec > 0:\n",
    "        rem = dec % 2\n",
    "        #print(rem)\n",
    "        binary_list.append(rem)\n",
    "        dec = int(dec / 2)\n",
    "    \n",
    "    for element in reversed(binary_list):\n",
    "        binary += str(element)\n",
    "    \n",
    "    return binary\n",
    "\n",
    "    \n",
    "dec_to_bin(dec)"
   ]
  },
  {
   "cell_type": "code",
   "execution_count": null,
   "metadata": {},
   "outputs": [],
   "source": []
  }
 ],
 "metadata": {
  "kernelspec": {
   "display_name": "Python 3",
   "language": "python",
   "name": "python3"
  },
  "language_info": {
   "codemirror_mode": {
    "name": "ipython",
    "version": 3
   },
   "file_extension": ".py",
   "mimetype": "text/x-python",
   "name": "python",
   "nbconvert_exporter": "python",
   "pygments_lexer": "ipython3",
   "version": "3.6.5"
  }
 },
 "nbformat": 4,
 "nbformat_minor": 2
}
